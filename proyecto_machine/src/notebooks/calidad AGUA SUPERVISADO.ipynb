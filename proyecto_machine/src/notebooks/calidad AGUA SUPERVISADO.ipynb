{
 "cells": [
  {
   "cell_type": "code",
   "execution_count": 1,
   "metadata": {},
   "outputs": [],
   "source": [
    "import pandas as pd\n",
    "import numpy as np\n",
    "import matplotlib.pyplot as plt\n",
    "import seaborn as sns\n",
    "from sklearn import linear_model\n",
    "from sklearn import model_selection\n",
    "from sklearn.metrics import classification_report\n",
    "from sklearn.metrics import confusion_matrix\n",
    "from sklearn.metrics import accuracy_score\n",
    "from sklearn.model_selection import train_test_split\n",
    "from sklearn.linear_model import LogisticRegression\n",
    "from sklearn.metrics import accuracy_score"
   ]
  },
  {
   "cell_type": "code",
   "execution_count": 2,
   "metadata": {},
   "outputs": [],
   "source": [
    "# TENEMOS DOS DATASET, UNO CON LA POTABILIDAD Y OTRO CON LA CALIDAD.\n",
    "# EL DE POTABILIDAD TIENE 3276 FILAS Y 10 COLUMNAS Y EL DE CALIDAD 7999 FILAS Y 21 COLUMNAS.\n",
    "# EN PRINCIPIO COGERE EL DE CALIDAD PORQUE TIENE MAS REGISTROS. NUESTRO TARGET SERA SI EL AGUA ES SEGURA O NO (COLUMNA IS_SAFE)\n",
    "# ADEMAS, NO TIENE NINGUN REGISTRO NULO, LO QUE FACILITA LA TAREA.\n",
    "# TAMPOCO TENEMOS VARIABLES CATEGORICAS, ES DECIR, QUE NO TENGO QUE USAR EL ENCODER (BIEN POR MI)"
   ]
  },
  {
   "cell_type": "code",
   "execution_count": 3,
   "metadata": {},
   "outputs": [
    {
     "data": {
      "text/html": [
       "<div>\n",
       "<style scoped>\n",
       "    .dataframe tbody tr th:only-of-type {\n",
       "        vertical-align: middle;\n",
       "    }\n",
       "\n",
       "    .dataframe tbody tr th {\n",
       "        vertical-align: top;\n",
       "    }\n",
       "\n",
       "    .dataframe thead th {\n",
       "        text-align: right;\n",
       "    }\n",
       "</style>\n",
       "<table border=\"1\" class=\"dataframe\">\n",
       "  <thead>\n",
       "    <tr style=\"text-align: right;\">\n",
       "      <th></th>\n",
       "      <th>aluminium</th>\n",
       "      <th>ammonia</th>\n",
       "      <th>arsenic</th>\n",
       "      <th>barium</th>\n",
       "      <th>cadmium</th>\n",
       "      <th>chloramine</th>\n",
       "      <th>chromium</th>\n",
       "      <th>copper</th>\n",
       "      <th>flouride</th>\n",
       "      <th>bacteria</th>\n",
       "      <th>...</th>\n",
       "      <th>lead</th>\n",
       "      <th>nitrates</th>\n",
       "      <th>nitrites</th>\n",
       "      <th>mercury</th>\n",
       "      <th>perchlorate</th>\n",
       "      <th>radium</th>\n",
       "      <th>selenium</th>\n",
       "      <th>silver</th>\n",
       "      <th>uranium</th>\n",
       "      <th>is_safe</th>\n",
       "    </tr>\n",
       "  </thead>\n",
       "  <tbody>\n",
       "    <tr>\n",
       "      <th>0</th>\n",
       "      <td>1.65</td>\n",
       "      <td>9.08</td>\n",
       "      <td>0.04</td>\n",
       "      <td>2.85</td>\n",
       "      <td>0.007</td>\n",
       "      <td>0.35</td>\n",
       "      <td>0.83</td>\n",
       "      <td>0.17</td>\n",
       "      <td>0.05</td>\n",
       "      <td>0.20</td>\n",
       "      <td>...</td>\n",
       "      <td>0.054</td>\n",
       "      <td>16.08</td>\n",
       "      <td>1.13</td>\n",
       "      <td>0.007</td>\n",
       "      <td>37.75</td>\n",
       "      <td>6.78</td>\n",
       "      <td>0.08</td>\n",
       "      <td>0.34</td>\n",
       "      <td>0.02</td>\n",
       "      <td>1</td>\n",
       "    </tr>\n",
       "    <tr>\n",
       "      <th>1</th>\n",
       "      <td>2.32</td>\n",
       "      <td>21.16</td>\n",
       "      <td>0.01</td>\n",
       "      <td>3.31</td>\n",
       "      <td>0.002</td>\n",
       "      <td>5.28</td>\n",
       "      <td>0.68</td>\n",
       "      <td>0.66</td>\n",
       "      <td>0.90</td>\n",
       "      <td>0.65</td>\n",
       "      <td>...</td>\n",
       "      <td>0.100</td>\n",
       "      <td>2.01</td>\n",
       "      <td>1.93</td>\n",
       "      <td>0.003</td>\n",
       "      <td>32.26</td>\n",
       "      <td>3.21</td>\n",
       "      <td>0.08</td>\n",
       "      <td>0.27</td>\n",
       "      <td>0.05</td>\n",
       "      <td>1</td>\n",
       "    </tr>\n",
       "    <tr>\n",
       "      <th>2</th>\n",
       "      <td>1.01</td>\n",
       "      <td>14.02</td>\n",
       "      <td>0.04</td>\n",
       "      <td>0.58</td>\n",
       "      <td>0.008</td>\n",
       "      <td>4.24</td>\n",
       "      <td>0.53</td>\n",
       "      <td>0.02</td>\n",
       "      <td>0.99</td>\n",
       "      <td>0.05</td>\n",
       "      <td>...</td>\n",
       "      <td>0.078</td>\n",
       "      <td>14.16</td>\n",
       "      <td>1.11</td>\n",
       "      <td>0.006</td>\n",
       "      <td>50.28</td>\n",
       "      <td>7.07</td>\n",
       "      <td>0.07</td>\n",
       "      <td>0.44</td>\n",
       "      <td>0.01</td>\n",
       "      <td>0</td>\n",
       "    </tr>\n",
       "    <tr>\n",
       "      <th>3</th>\n",
       "      <td>1.36</td>\n",
       "      <td>11.33</td>\n",
       "      <td>0.04</td>\n",
       "      <td>2.96</td>\n",
       "      <td>0.001</td>\n",
       "      <td>7.23</td>\n",
       "      <td>0.03</td>\n",
       "      <td>1.66</td>\n",
       "      <td>1.08</td>\n",
       "      <td>0.71</td>\n",
       "      <td>...</td>\n",
       "      <td>0.016</td>\n",
       "      <td>1.41</td>\n",
       "      <td>1.29</td>\n",
       "      <td>0.004</td>\n",
       "      <td>9.12</td>\n",
       "      <td>1.72</td>\n",
       "      <td>0.02</td>\n",
       "      <td>0.45</td>\n",
       "      <td>0.05</td>\n",
       "      <td>1</td>\n",
       "    </tr>\n",
       "    <tr>\n",
       "      <th>4</th>\n",
       "      <td>0.92</td>\n",
       "      <td>24.33</td>\n",
       "      <td>0.03</td>\n",
       "      <td>0.20</td>\n",
       "      <td>0.006</td>\n",
       "      <td>2.67</td>\n",
       "      <td>0.69</td>\n",
       "      <td>0.57</td>\n",
       "      <td>0.61</td>\n",
       "      <td>0.13</td>\n",
       "      <td>...</td>\n",
       "      <td>0.117</td>\n",
       "      <td>6.74</td>\n",
       "      <td>1.11</td>\n",
       "      <td>0.003</td>\n",
       "      <td>16.90</td>\n",
       "      <td>2.41</td>\n",
       "      <td>0.02</td>\n",
       "      <td>0.06</td>\n",
       "      <td>0.02</td>\n",
       "      <td>1</td>\n",
       "    </tr>\n",
       "    <tr>\n",
       "      <th>...</th>\n",
       "      <td>...</td>\n",
       "      <td>...</td>\n",
       "      <td>...</td>\n",
       "      <td>...</td>\n",
       "      <td>...</td>\n",
       "      <td>...</td>\n",
       "      <td>...</td>\n",
       "      <td>...</td>\n",
       "      <td>...</td>\n",
       "      <td>...</td>\n",
       "      <td>...</td>\n",
       "      <td>...</td>\n",
       "      <td>...</td>\n",
       "      <td>...</td>\n",
       "      <td>...</td>\n",
       "      <td>...</td>\n",
       "      <td>...</td>\n",
       "      <td>...</td>\n",
       "      <td>...</td>\n",
       "      <td>...</td>\n",
       "      <td>...</td>\n",
       "    </tr>\n",
       "    <tr>\n",
       "      <th>7994</th>\n",
       "      <td>0.05</td>\n",
       "      <td>7.78</td>\n",
       "      <td>0.00</td>\n",
       "      <td>1.95</td>\n",
       "      <td>0.040</td>\n",
       "      <td>0.10</td>\n",
       "      <td>0.03</td>\n",
       "      <td>0.03</td>\n",
       "      <td>1.37</td>\n",
       "      <td>0.00</td>\n",
       "      <td>...</td>\n",
       "      <td>0.197</td>\n",
       "      <td>14.29</td>\n",
       "      <td>1.00</td>\n",
       "      <td>0.005</td>\n",
       "      <td>3.57</td>\n",
       "      <td>2.13</td>\n",
       "      <td>0.09</td>\n",
       "      <td>0.06</td>\n",
       "      <td>0.03</td>\n",
       "      <td>1</td>\n",
       "    </tr>\n",
       "    <tr>\n",
       "      <th>7995</th>\n",
       "      <td>0.05</td>\n",
       "      <td>24.22</td>\n",
       "      <td>0.02</td>\n",
       "      <td>0.59</td>\n",
       "      <td>0.010</td>\n",
       "      <td>0.45</td>\n",
       "      <td>0.02</td>\n",
       "      <td>0.02</td>\n",
       "      <td>1.48</td>\n",
       "      <td>0.00</td>\n",
       "      <td>...</td>\n",
       "      <td>0.031</td>\n",
       "      <td>10.27</td>\n",
       "      <td>1.00</td>\n",
       "      <td>0.001</td>\n",
       "      <td>1.48</td>\n",
       "      <td>1.11</td>\n",
       "      <td>0.09</td>\n",
       "      <td>0.10</td>\n",
       "      <td>0.08</td>\n",
       "      <td>1</td>\n",
       "    </tr>\n",
       "    <tr>\n",
       "      <th>7996</th>\n",
       "      <td>0.09</td>\n",
       "      <td>6.85</td>\n",
       "      <td>0.00</td>\n",
       "      <td>0.61</td>\n",
       "      <td>0.030</td>\n",
       "      <td>0.05</td>\n",
       "      <td>0.05</td>\n",
       "      <td>0.02</td>\n",
       "      <td>0.91</td>\n",
       "      <td>0.00</td>\n",
       "      <td>...</td>\n",
       "      <td>0.182</td>\n",
       "      <td>15.92</td>\n",
       "      <td>1.00</td>\n",
       "      <td>0.000</td>\n",
       "      <td>1.35</td>\n",
       "      <td>4.84</td>\n",
       "      <td>0.00</td>\n",
       "      <td>0.04</td>\n",
       "      <td>0.05</td>\n",
       "      <td>1</td>\n",
       "    </tr>\n",
       "    <tr>\n",
       "      <th>7997</th>\n",
       "      <td>0.01</td>\n",
       "      <td>10</td>\n",
       "      <td>0.01</td>\n",
       "      <td>2.00</td>\n",
       "      <td>0.000</td>\n",
       "      <td>2.00</td>\n",
       "      <td>0.00</td>\n",
       "      <td>0.09</td>\n",
       "      <td>0.00</td>\n",
       "      <td>0.00</td>\n",
       "      <td>...</td>\n",
       "      <td>0.000</td>\n",
       "      <td>0.00</td>\n",
       "      <td>0.00</td>\n",
       "      <td>0.000</td>\n",
       "      <td>0.00</td>\n",
       "      <td>0.00</td>\n",
       "      <td>0.00</td>\n",
       "      <td>0.00</td>\n",
       "      <td>0.00</td>\n",
       "      <td>1</td>\n",
       "    </tr>\n",
       "    <tr>\n",
       "      <th>7998</th>\n",
       "      <td>0.04</td>\n",
       "      <td>6.85</td>\n",
       "      <td>0.01</td>\n",
       "      <td>0.70</td>\n",
       "      <td>0.030</td>\n",
       "      <td>0.05</td>\n",
       "      <td>0.01</td>\n",
       "      <td>0.03</td>\n",
       "      <td>1.00</td>\n",
       "      <td>0.00</td>\n",
       "      <td>...</td>\n",
       "      <td>0.182</td>\n",
       "      <td>15.92</td>\n",
       "      <td>1.00</td>\n",
       "      <td>0.000</td>\n",
       "      <td>1.35</td>\n",
       "      <td>4.84</td>\n",
       "      <td>0.00</td>\n",
       "      <td>0.04</td>\n",
       "      <td>0.05</td>\n",
       "      <td>1</td>\n",
       "    </tr>\n",
       "  </tbody>\n",
       "</table>\n",
       "<p>7999 rows × 21 columns</p>\n",
       "</div>"
      ],
      "text/plain": [
       "      aluminium ammonia  arsenic  barium  cadmium  chloramine  chromium  \\\n",
       "0          1.65    9.08     0.04    2.85    0.007        0.35      0.83   \n",
       "1          2.32   21.16     0.01    3.31    0.002        5.28      0.68   \n",
       "2          1.01   14.02     0.04    0.58    0.008        4.24      0.53   \n",
       "3          1.36   11.33     0.04    2.96    0.001        7.23      0.03   \n",
       "4          0.92   24.33     0.03    0.20    0.006        2.67      0.69   \n",
       "...         ...     ...      ...     ...      ...         ...       ...   \n",
       "7994       0.05    7.78     0.00    1.95    0.040        0.10      0.03   \n",
       "7995       0.05   24.22     0.02    0.59    0.010        0.45      0.02   \n",
       "7996       0.09    6.85     0.00    0.61    0.030        0.05      0.05   \n",
       "7997       0.01      10     0.01    2.00    0.000        2.00      0.00   \n",
       "7998       0.04    6.85     0.01    0.70    0.030        0.05      0.01   \n",
       "\n",
       "      copper  flouride  bacteria  ...   lead  nitrates  nitrites  mercury  \\\n",
       "0       0.17      0.05      0.20  ...  0.054     16.08      1.13    0.007   \n",
       "1       0.66      0.90      0.65  ...  0.100      2.01      1.93    0.003   \n",
       "2       0.02      0.99      0.05  ...  0.078     14.16      1.11    0.006   \n",
       "3       1.66      1.08      0.71  ...  0.016      1.41      1.29    0.004   \n",
       "4       0.57      0.61      0.13  ...  0.117      6.74      1.11    0.003   \n",
       "...      ...       ...       ...  ...    ...       ...       ...      ...   \n",
       "7994    0.03      1.37      0.00  ...  0.197     14.29      1.00    0.005   \n",
       "7995    0.02      1.48      0.00  ...  0.031     10.27      1.00    0.001   \n",
       "7996    0.02      0.91      0.00  ...  0.182     15.92      1.00    0.000   \n",
       "7997    0.09      0.00      0.00  ...  0.000      0.00      0.00    0.000   \n",
       "7998    0.03      1.00      0.00  ...  0.182     15.92      1.00    0.000   \n",
       "\n",
       "      perchlorate  radium  selenium  silver  uranium  is_safe  \n",
       "0           37.75    6.78      0.08    0.34     0.02        1  \n",
       "1           32.26    3.21      0.08    0.27     0.05        1  \n",
       "2           50.28    7.07      0.07    0.44     0.01        0  \n",
       "3            9.12    1.72      0.02    0.45     0.05        1  \n",
       "4           16.90    2.41      0.02    0.06     0.02        1  \n",
       "...           ...     ...       ...     ...      ...      ...  \n",
       "7994         3.57    2.13      0.09    0.06     0.03        1  \n",
       "7995         1.48    1.11      0.09    0.10     0.08        1  \n",
       "7996         1.35    4.84      0.00    0.04     0.05        1  \n",
       "7997         0.00    0.00      0.00    0.00     0.00        1  \n",
       "7998         1.35    4.84      0.00    0.04     0.05        1  \n",
       "\n",
       "[7999 rows x 21 columns]"
      ]
     },
     "execution_count": 3,
     "metadata": {},
     "output_type": "execute_result"
    }
   ],
   "source": [
    "calidad = pd.read_csv('data/WaterQuality1.csv')\n",
    "calidad"
   ]
  },
  {
   "cell_type": "code",
   "execution_count": 4,
   "metadata": {},
   "outputs": [
    {
     "data": {
      "text/plain": [
       "Index(['aluminium', 'ammonia', 'arsenic', 'barium', 'cadmium', 'chloramine',\n",
       "       'chromium', 'copper', 'flouride', 'bacteria', 'viruses', 'lead',\n",
       "       'nitrates', 'nitrites', 'mercury', 'perchlorate', 'radium', 'selenium',\n",
       "       'silver', 'uranium', 'is_safe'],\n",
       "      dtype='object')"
      ]
     },
     "execution_count": 4,
     "metadata": {},
     "output_type": "execute_result"
    }
   ],
   "source": [
    "calidad.columns"
   ]
  },
  {
   "cell_type": "code",
   "execution_count": 5,
   "metadata": {},
   "outputs": [
    {
     "name": "stdout",
     "output_type": "stream",
     "text": [
      "<class 'pandas.core.frame.DataFrame'>\n",
      "RangeIndex: 7999 entries, 0 to 7998\n",
      "Data columns (total 21 columns):\n",
      " #   Column       Non-Null Count  Dtype  \n",
      "---  ------       --------------  -----  \n",
      " 0   aluminium    7999 non-null   float64\n",
      " 1   ammonia      7999 non-null   object \n",
      " 2   arsenic      7999 non-null   float64\n",
      " 3   barium       7999 non-null   float64\n",
      " 4   cadmium      7999 non-null   float64\n",
      " 5   chloramine   7999 non-null   float64\n",
      " 6   chromium     7999 non-null   float64\n",
      " 7   copper       7999 non-null   float64\n",
      " 8   flouride     7999 non-null   float64\n",
      " 9   bacteria     7999 non-null   float64\n",
      " 10  viruses      7999 non-null   float64\n",
      " 11  lead         7999 non-null   float64\n",
      " 12  nitrates     7999 non-null   float64\n",
      " 13  nitrites     7999 non-null   float64\n",
      " 14  mercury      7999 non-null   float64\n",
      " 15  perchlorate  7999 non-null   float64\n",
      " 16  radium       7999 non-null   float64\n",
      " 17  selenium     7999 non-null   float64\n",
      " 18  silver       7999 non-null   float64\n",
      " 19  uranium      7999 non-null   float64\n",
      " 20  is_safe      7999 non-null   object \n",
      "dtypes: float64(19), object(2)\n",
      "memory usage: 1.3+ MB\n"
     ]
    }
   ],
   "source": [
    "calidad.info()\n",
    "# el target es objeto, habría que cambiarlo a numerico."
   ]
  },
  {
   "cell_type": "code",
   "execution_count": 6,
   "metadata": {},
   "outputs": [
    {
     "data": {
      "text/plain": [
       "aluminium      0\n",
       "ammonia        0\n",
       "arsenic        0\n",
       "barium         0\n",
       "cadmium        0\n",
       "chloramine     0\n",
       "chromium       0\n",
       "copper         0\n",
       "flouride       0\n",
       "bacteria       0\n",
       "viruses        0\n",
       "lead           0\n",
       "nitrates       0\n",
       "nitrites       0\n",
       "mercury        0\n",
       "perchlorate    0\n",
       "radium         0\n",
       "selenium       0\n",
       "silver         0\n",
       "uranium        0\n",
       "is_safe        0\n",
       "dtype: int64"
      ]
     },
     "execution_count": 6,
     "metadata": {},
     "output_type": "execute_result"
    }
   ],
   "source": [
    "calidad.isnull().sum() # parece que en principio no hay nulos"
   ]
  },
  {
   "cell_type": "code",
   "execution_count": 7,
   "metadata": {},
   "outputs": [
    {
     "data": {
      "text/html": [
       "<div>\n",
       "<style scoped>\n",
       "    .dataframe tbody tr th:only-of-type {\n",
       "        vertical-align: middle;\n",
       "    }\n",
       "\n",
       "    .dataframe tbody tr th {\n",
       "        vertical-align: top;\n",
       "    }\n",
       "\n",
       "    .dataframe thead th {\n",
       "        text-align: right;\n",
       "    }\n",
       "</style>\n",
       "<table border=\"1\" class=\"dataframe\">\n",
       "  <thead>\n",
       "    <tr style=\"text-align: right;\">\n",
       "      <th></th>\n",
       "      <th>aluminium</th>\n",
       "      <th>ammonia</th>\n",
       "      <th>arsenic</th>\n",
       "      <th>barium</th>\n",
       "      <th>cadmium</th>\n",
       "      <th>chloramine</th>\n",
       "      <th>chromium</th>\n",
       "      <th>copper</th>\n",
       "      <th>flouride</th>\n",
       "      <th>bacteria</th>\n",
       "      <th>...</th>\n",
       "      <th>lead</th>\n",
       "      <th>nitrates</th>\n",
       "      <th>nitrites</th>\n",
       "      <th>mercury</th>\n",
       "      <th>perchlorate</th>\n",
       "      <th>radium</th>\n",
       "      <th>selenium</th>\n",
       "      <th>silver</th>\n",
       "      <th>uranium</th>\n",
       "      <th>is_safe</th>\n",
       "    </tr>\n",
       "  </thead>\n",
       "  <tbody>\n",
       "    <tr>\n",
       "      <th>0</th>\n",
       "      <td>1.65</td>\n",
       "      <td>9.08</td>\n",
       "      <td>0.04</td>\n",
       "      <td>2.85</td>\n",
       "      <td>0.007</td>\n",
       "      <td>0.35</td>\n",
       "      <td>0.83</td>\n",
       "      <td>0.17</td>\n",
       "      <td>0.05</td>\n",
       "      <td>0.20</td>\n",
       "      <td>...</td>\n",
       "      <td>0.054</td>\n",
       "      <td>16.08</td>\n",
       "      <td>1.13</td>\n",
       "      <td>0.007</td>\n",
       "      <td>37.75</td>\n",
       "      <td>6.78</td>\n",
       "      <td>0.08</td>\n",
       "      <td>0.34</td>\n",
       "      <td>0.02</td>\n",
       "      <td>1</td>\n",
       "    </tr>\n",
       "    <tr>\n",
       "      <th>1</th>\n",
       "      <td>2.32</td>\n",
       "      <td>21.16</td>\n",
       "      <td>0.01</td>\n",
       "      <td>3.31</td>\n",
       "      <td>0.002</td>\n",
       "      <td>5.28</td>\n",
       "      <td>0.68</td>\n",
       "      <td>0.66</td>\n",
       "      <td>0.90</td>\n",
       "      <td>0.65</td>\n",
       "      <td>...</td>\n",
       "      <td>0.100</td>\n",
       "      <td>2.01</td>\n",
       "      <td>1.93</td>\n",
       "      <td>0.003</td>\n",
       "      <td>32.26</td>\n",
       "      <td>3.21</td>\n",
       "      <td>0.08</td>\n",
       "      <td>0.27</td>\n",
       "      <td>0.05</td>\n",
       "      <td>1</td>\n",
       "    </tr>\n",
       "    <tr>\n",
       "      <th>2</th>\n",
       "      <td>1.01</td>\n",
       "      <td>14.02</td>\n",
       "      <td>0.04</td>\n",
       "      <td>0.58</td>\n",
       "      <td>0.008</td>\n",
       "      <td>4.24</td>\n",
       "      <td>0.53</td>\n",
       "      <td>0.02</td>\n",
       "      <td>0.99</td>\n",
       "      <td>0.05</td>\n",
       "      <td>...</td>\n",
       "      <td>0.078</td>\n",
       "      <td>14.16</td>\n",
       "      <td>1.11</td>\n",
       "      <td>0.006</td>\n",
       "      <td>50.28</td>\n",
       "      <td>7.07</td>\n",
       "      <td>0.07</td>\n",
       "      <td>0.44</td>\n",
       "      <td>0.01</td>\n",
       "      <td>0</td>\n",
       "    </tr>\n",
       "    <tr>\n",
       "      <th>3</th>\n",
       "      <td>1.36</td>\n",
       "      <td>11.33</td>\n",
       "      <td>0.04</td>\n",
       "      <td>2.96</td>\n",
       "      <td>0.001</td>\n",
       "      <td>7.23</td>\n",
       "      <td>0.03</td>\n",
       "      <td>1.66</td>\n",
       "      <td>1.08</td>\n",
       "      <td>0.71</td>\n",
       "      <td>...</td>\n",
       "      <td>0.016</td>\n",
       "      <td>1.41</td>\n",
       "      <td>1.29</td>\n",
       "      <td>0.004</td>\n",
       "      <td>9.12</td>\n",
       "      <td>1.72</td>\n",
       "      <td>0.02</td>\n",
       "      <td>0.45</td>\n",
       "      <td>0.05</td>\n",
       "      <td>1</td>\n",
       "    </tr>\n",
       "    <tr>\n",
       "      <th>4</th>\n",
       "      <td>0.92</td>\n",
       "      <td>24.33</td>\n",
       "      <td>0.03</td>\n",
       "      <td>0.20</td>\n",
       "      <td>0.006</td>\n",
       "      <td>2.67</td>\n",
       "      <td>0.69</td>\n",
       "      <td>0.57</td>\n",
       "      <td>0.61</td>\n",
       "      <td>0.13</td>\n",
       "      <td>...</td>\n",
       "      <td>0.117</td>\n",
       "      <td>6.74</td>\n",
       "      <td>1.11</td>\n",
       "      <td>0.003</td>\n",
       "      <td>16.90</td>\n",
       "      <td>2.41</td>\n",
       "      <td>0.02</td>\n",
       "      <td>0.06</td>\n",
       "      <td>0.02</td>\n",
       "      <td>1</td>\n",
       "    </tr>\n",
       "  </tbody>\n",
       "</table>\n",
       "<p>5 rows × 21 columns</p>\n",
       "</div>"
      ],
      "text/plain": [
       "   aluminium ammonia  arsenic  barium  cadmium  chloramine  chromium  copper  \\\n",
       "0       1.65    9.08     0.04    2.85    0.007        0.35      0.83    0.17   \n",
       "1       2.32   21.16     0.01    3.31    0.002        5.28      0.68    0.66   \n",
       "2       1.01   14.02     0.04    0.58    0.008        4.24      0.53    0.02   \n",
       "3       1.36   11.33     0.04    2.96    0.001        7.23      0.03    1.66   \n",
       "4       0.92   24.33     0.03    0.20    0.006        2.67      0.69    0.57   \n",
       "\n",
       "   flouride  bacteria  ...   lead  nitrates  nitrites  mercury  perchlorate  \\\n",
       "0      0.05      0.20  ...  0.054     16.08      1.13    0.007        37.75   \n",
       "1      0.90      0.65  ...  0.100      2.01      1.93    0.003        32.26   \n",
       "2      0.99      0.05  ...  0.078     14.16      1.11    0.006        50.28   \n",
       "3      1.08      0.71  ...  0.016      1.41      1.29    0.004         9.12   \n",
       "4      0.61      0.13  ...  0.117      6.74      1.11    0.003        16.90   \n",
       "\n",
       "   radium  selenium  silver  uranium  is_safe  \n",
       "0    6.78      0.08    0.34     0.02        1  \n",
       "1    3.21      0.08    0.27     0.05        1  \n",
       "2    7.07      0.07    0.44     0.01        0  \n",
       "3    1.72      0.02    0.45     0.05        1  \n",
       "4    2.41      0.02    0.06     0.02        1  \n",
       "\n",
       "[5 rows x 21 columns]"
      ]
     },
     "execution_count": 7,
     "metadata": {},
     "output_type": "execute_result"
    }
   ],
   "source": [
    "# HACEMOS EL PEQUEÑO EDA INICIAL\n",
    "calidad.head()"
   ]
  },
  {
   "cell_type": "code",
   "execution_count": 8,
   "metadata": {},
   "outputs": [
    {
     "data": {
      "text/html": [
       "<div>\n",
       "<style scoped>\n",
       "    .dataframe tbody tr th:only-of-type {\n",
       "        vertical-align: middle;\n",
       "    }\n",
       "\n",
       "    .dataframe tbody tr th {\n",
       "        vertical-align: top;\n",
       "    }\n",
       "\n",
       "    .dataframe thead th {\n",
       "        text-align: right;\n",
       "    }\n",
       "</style>\n",
       "<table border=\"1\" class=\"dataframe\">\n",
       "  <thead>\n",
       "    <tr style=\"text-align: right;\">\n",
       "      <th></th>\n",
       "      <th>aluminium</th>\n",
       "      <th>arsenic</th>\n",
       "      <th>barium</th>\n",
       "      <th>cadmium</th>\n",
       "      <th>chloramine</th>\n",
       "      <th>chromium</th>\n",
       "      <th>copper</th>\n",
       "      <th>flouride</th>\n",
       "      <th>bacteria</th>\n",
       "      <th>viruses</th>\n",
       "      <th>lead</th>\n",
       "      <th>nitrates</th>\n",
       "      <th>nitrites</th>\n",
       "      <th>mercury</th>\n",
       "      <th>perchlorate</th>\n",
       "      <th>radium</th>\n",
       "      <th>selenium</th>\n",
       "      <th>silver</th>\n",
       "      <th>uranium</th>\n",
       "    </tr>\n",
       "  </thead>\n",
       "  <tbody>\n",
       "    <tr>\n",
       "      <th>count</th>\n",
       "      <td>7999.000000</td>\n",
       "      <td>7999.000000</td>\n",
       "      <td>7999.000000</td>\n",
       "      <td>7999.000000</td>\n",
       "      <td>7999.000000</td>\n",
       "      <td>7999.000000</td>\n",
       "      <td>7999.000000</td>\n",
       "      <td>7999.000000</td>\n",
       "      <td>7999.000000</td>\n",
       "      <td>7999.000000</td>\n",
       "      <td>7999.000000</td>\n",
       "      <td>7999.000000</td>\n",
       "      <td>7999.000000</td>\n",
       "      <td>7999.000000</td>\n",
       "      <td>7999.000000</td>\n",
       "      <td>7999.000000</td>\n",
       "      <td>7999.000000</td>\n",
       "      <td>7999.000000</td>\n",
       "      <td>7999.000000</td>\n",
       "    </tr>\n",
       "    <tr>\n",
       "      <th>mean</th>\n",
       "      <td>0.666158</td>\n",
       "      <td>0.161445</td>\n",
       "      <td>1.567715</td>\n",
       "      <td>0.042806</td>\n",
       "      <td>2.176831</td>\n",
       "      <td>0.247226</td>\n",
       "      <td>0.805857</td>\n",
       "      <td>0.771565</td>\n",
       "      <td>0.319665</td>\n",
       "      <td>0.328583</td>\n",
       "      <td>0.099450</td>\n",
       "      <td>9.818822</td>\n",
       "      <td>1.329961</td>\n",
       "      <td>0.005194</td>\n",
       "      <td>16.460299</td>\n",
       "      <td>2.920548</td>\n",
       "      <td>0.049685</td>\n",
       "      <td>0.147781</td>\n",
       "      <td>0.044673</td>\n",
       "    </tr>\n",
       "    <tr>\n",
       "      <th>std</th>\n",
       "      <td>1.265145</td>\n",
       "      <td>0.252590</td>\n",
       "      <td>1.216091</td>\n",
       "      <td>0.036049</td>\n",
       "      <td>2.567027</td>\n",
       "      <td>0.270640</td>\n",
       "      <td>0.653539</td>\n",
       "      <td>0.435373</td>\n",
       "      <td>0.329485</td>\n",
       "      <td>0.378096</td>\n",
       "      <td>0.058172</td>\n",
       "      <td>5.541331</td>\n",
       "      <td>0.573219</td>\n",
       "      <td>0.002967</td>\n",
       "      <td>17.687474</td>\n",
       "      <td>2.323009</td>\n",
       "      <td>0.028770</td>\n",
       "      <td>0.143551</td>\n",
       "      <td>0.026904</td>\n",
       "    </tr>\n",
       "    <tr>\n",
       "      <th>min</th>\n",
       "      <td>0.000000</td>\n",
       "      <td>0.000000</td>\n",
       "      <td>0.000000</td>\n",
       "      <td>0.000000</td>\n",
       "      <td>0.000000</td>\n",
       "      <td>0.000000</td>\n",
       "      <td>0.000000</td>\n",
       "      <td>0.000000</td>\n",
       "      <td>0.000000</td>\n",
       "      <td>0.000000</td>\n",
       "      <td>0.000000</td>\n",
       "      <td>0.000000</td>\n",
       "      <td>0.000000</td>\n",
       "      <td>0.000000</td>\n",
       "      <td>0.000000</td>\n",
       "      <td>0.000000</td>\n",
       "      <td>0.000000</td>\n",
       "      <td>0.000000</td>\n",
       "      <td>0.000000</td>\n",
       "    </tr>\n",
       "    <tr>\n",
       "      <th>25%</th>\n",
       "      <td>0.040000</td>\n",
       "      <td>0.030000</td>\n",
       "      <td>0.560000</td>\n",
       "      <td>0.008000</td>\n",
       "      <td>0.100000</td>\n",
       "      <td>0.050000</td>\n",
       "      <td>0.090000</td>\n",
       "      <td>0.405000</td>\n",
       "      <td>0.000000</td>\n",
       "      <td>0.002000</td>\n",
       "      <td>0.048000</td>\n",
       "      <td>5.000000</td>\n",
       "      <td>1.000000</td>\n",
       "      <td>0.003000</td>\n",
       "      <td>2.170000</td>\n",
       "      <td>0.820000</td>\n",
       "      <td>0.020000</td>\n",
       "      <td>0.040000</td>\n",
       "      <td>0.020000</td>\n",
       "    </tr>\n",
       "    <tr>\n",
       "      <th>50%</th>\n",
       "      <td>0.070000</td>\n",
       "      <td>0.050000</td>\n",
       "      <td>1.190000</td>\n",
       "      <td>0.040000</td>\n",
       "      <td>0.530000</td>\n",
       "      <td>0.090000</td>\n",
       "      <td>0.750000</td>\n",
       "      <td>0.770000</td>\n",
       "      <td>0.220000</td>\n",
       "      <td>0.008000</td>\n",
       "      <td>0.102000</td>\n",
       "      <td>9.930000</td>\n",
       "      <td>1.420000</td>\n",
       "      <td>0.005000</td>\n",
       "      <td>7.740000</td>\n",
       "      <td>2.410000</td>\n",
       "      <td>0.050000</td>\n",
       "      <td>0.080000</td>\n",
       "      <td>0.050000</td>\n",
       "    </tr>\n",
       "    <tr>\n",
       "      <th>75%</th>\n",
       "      <td>0.280000</td>\n",
       "      <td>0.100000</td>\n",
       "      <td>2.480000</td>\n",
       "      <td>0.070000</td>\n",
       "      <td>4.240000</td>\n",
       "      <td>0.440000</td>\n",
       "      <td>1.390000</td>\n",
       "      <td>1.160000</td>\n",
       "      <td>0.610000</td>\n",
       "      <td>0.700000</td>\n",
       "      <td>0.151000</td>\n",
       "      <td>14.610000</td>\n",
       "      <td>1.760000</td>\n",
       "      <td>0.008000</td>\n",
       "      <td>29.480000</td>\n",
       "      <td>4.670000</td>\n",
       "      <td>0.070000</td>\n",
       "      <td>0.240000</td>\n",
       "      <td>0.070000</td>\n",
       "    </tr>\n",
       "    <tr>\n",
       "      <th>max</th>\n",
       "      <td>5.050000</td>\n",
       "      <td>1.050000</td>\n",
       "      <td>4.940000</td>\n",
       "      <td>0.130000</td>\n",
       "      <td>8.680000</td>\n",
       "      <td>0.900000</td>\n",
       "      <td>2.000000</td>\n",
       "      <td>1.500000</td>\n",
       "      <td>1.000000</td>\n",
       "      <td>1.000000</td>\n",
       "      <td>0.200000</td>\n",
       "      <td>19.830000</td>\n",
       "      <td>2.930000</td>\n",
       "      <td>0.010000</td>\n",
       "      <td>60.010000</td>\n",
       "      <td>7.990000</td>\n",
       "      <td>0.100000</td>\n",
       "      <td>0.500000</td>\n",
       "      <td>0.090000</td>\n",
       "    </tr>\n",
       "  </tbody>\n",
       "</table>\n",
       "</div>"
      ],
      "text/plain": [
       "         aluminium      arsenic       barium      cadmium   chloramine  \\\n",
       "count  7999.000000  7999.000000  7999.000000  7999.000000  7999.000000   \n",
       "mean      0.666158     0.161445     1.567715     0.042806     2.176831   \n",
       "std       1.265145     0.252590     1.216091     0.036049     2.567027   \n",
       "min       0.000000     0.000000     0.000000     0.000000     0.000000   \n",
       "25%       0.040000     0.030000     0.560000     0.008000     0.100000   \n",
       "50%       0.070000     0.050000     1.190000     0.040000     0.530000   \n",
       "75%       0.280000     0.100000     2.480000     0.070000     4.240000   \n",
       "max       5.050000     1.050000     4.940000     0.130000     8.680000   \n",
       "\n",
       "          chromium       copper     flouride     bacteria      viruses  \\\n",
       "count  7999.000000  7999.000000  7999.000000  7999.000000  7999.000000   \n",
       "mean      0.247226     0.805857     0.771565     0.319665     0.328583   \n",
       "std       0.270640     0.653539     0.435373     0.329485     0.378096   \n",
       "min       0.000000     0.000000     0.000000     0.000000     0.000000   \n",
       "25%       0.050000     0.090000     0.405000     0.000000     0.002000   \n",
       "50%       0.090000     0.750000     0.770000     0.220000     0.008000   \n",
       "75%       0.440000     1.390000     1.160000     0.610000     0.700000   \n",
       "max       0.900000     2.000000     1.500000     1.000000     1.000000   \n",
       "\n",
       "              lead     nitrates     nitrites      mercury  perchlorate  \\\n",
       "count  7999.000000  7999.000000  7999.000000  7999.000000  7999.000000   \n",
       "mean      0.099450     9.818822     1.329961     0.005194    16.460299   \n",
       "std       0.058172     5.541331     0.573219     0.002967    17.687474   \n",
       "min       0.000000     0.000000     0.000000     0.000000     0.000000   \n",
       "25%       0.048000     5.000000     1.000000     0.003000     2.170000   \n",
       "50%       0.102000     9.930000     1.420000     0.005000     7.740000   \n",
       "75%       0.151000    14.610000     1.760000     0.008000    29.480000   \n",
       "max       0.200000    19.830000     2.930000     0.010000    60.010000   \n",
       "\n",
       "            radium     selenium       silver      uranium  \n",
       "count  7999.000000  7999.000000  7999.000000  7999.000000  \n",
       "mean      2.920548     0.049685     0.147781     0.044673  \n",
       "std       2.323009     0.028770     0.143551     0.026904  \n",
       "min       0.000000     0.000000     0.000000     0.000000  \n",
       "25%       0.820000     0.020000     0.040000     0.020000  \n",
       "50%       2.410000     0.050000     0.080000     0.050000  \n",
       "75%       4.670000     0.070000     0.240000     0.070000  \n",
       "max       7.990000     0.100000     0.500000     0.090000  "
      ]
     },
     "execution_count": 8,
     "metadata": {},
     "output_type": "execute_result"
    }
   ],
   "source": [
    "calidad.describe()"
   ]
  },
  {
   "cell_type": "code",
   "execution_count": 9,
   "metadata": {},
   "outputs": [
    {
     "data": {
      "text/html": [
       "<div>\n",
       "<style scoped>\n",
       "    .dataframe tbody tr th:only-of-type {\n",
       "        vertical-align: middle;\n",
       "    }\n",
       "\n",
       "    .dataframe tbody tr th {\n",
       "        vertical-align: top;\n",
       "    }\n",
       "\n",
       "    .dataframe thead th {\n",
       "        text-align: right;\n",
       "    }\n",
       "</style>\n",
       "<table border=\"1\" class=\"dataframe\">\n",
       "  <thead>\n",
       "    <tr style=\"text-align: right;\">\n",
       "      <th></th>\n",
       "      <th>aluminium</th>\n",
       "      <th>arsenic</th>\n",
       "      <th>barium</th>\n",
       "      <th>cadmium</th>\n",
       "      <th>chloramine</th>\n",
       "      <th>chromium</th>\n",
       "      <th>copper</th>\n",
       "      <th>flouride</th>\n",
       "      <th>bacteria</th>\n",
       "      <th>viruses</th>\n",
       "      <th>lead</th>\n",
       "      <th>nitrates</th>\n",
       "      <th>nitrites</th>\n",
       "      <th>mercury</th>\n",
       "      <th>perchlorate</th>\n",
       "      <th>radium</th>\n",
       "      <th>selenium</th>\n",
       "      <th>silver</th>\n",
       "      <th>uranium</th>\n",
       "    </tr>\n",
       "  </thead>\n",
       "  <tbody>\n",
       "    <tr>\n",
       "      <th>aluminium</th>\n",
       "      <td>1.000000</td>\n",
       "      <td>0.225773</td>\n",
       "      <td>0.294145</td>\n",
       "      <td>-0.099911</td>\n",
       "      <td>0.369309</td>\n",
       "      <td>0.353218</td>\n",
       "      <td>0.168612</td>\n",
       "      <td>-0.009784</td>\n",
       "      <td>-0.078238</td>\n",
       "      <td>-0.070863</td>\n",
       "      <td>0.020792</td>\n",
       "      <td>-0.003810</td>\n",
       "      <td>0.237307</td>\n",
       "      <td>-0.003306</td>\n",
       "      <td>0.363069</td>\n",
       "      <td>0.243217</td>\n",
       "      <td>-0.003672</td>\n",
       "      <td>0.334993</td>\n",
       "      <td>0.014711</td>\n",
       "    </tr>\n",
       "    <tr>\n",
       "      <th>arsenic</th>\n",
       "      <td>0.225773</td>\n",
       "      <td>1.000000</td>\n",
       "      <td>0.362945</td>\n",
       "      <td>0.334682</td>\n",
       "      <td>0.356559</td>\n",
       "      <td>0.312475</td>\n",
       "      <td>-0.036444</td>\n",
       "      <td>0.003792</td>\n",
       "      <td>0.035688</td>\n",
       "      <td>0.011703</td>\n",
       "      <td>-0.087756</td>\n",
       "      <td>0.027554</td>\n",
       "      <td>0.305005</td>\n",
       "      <td>-0.015404</td>\n",
       "      <td>0.332279</td>\n",
       "      <td>0.218204</td>\n",
       "      <td>-0.007009</td>\n",
       "      <td>0.307837</td>\n",
       "      <td>0.001455</td>\n",
       "    </tr>\n",
       "    <tr>\n",
       "      <th>barium</th>\n",
       "      <td>0.294145</td>\n",
       "      <td>0.362945</td>\n",
       "      <td>1.000000</td>\n",
       "      <td>-0.037803</td>\n",
       "      <td>0.446928</td>\n",
       "      <td>0.415972</td>\n",
       "      <td>0.065426</td>\n",
       "      <td>-0.018548</td>\n",
       "      <td>0.101259</td>\n",
       "      <td>-0.002276</td>\n",
       "      <td>-0.042888</td>\n",
       "      <td>-0.011331</td>\n",
       "      <td>0.312711</td>\n",
       "      <td>0.005987</td>\n",
       "      <td>0.462234</td>\n",
       "      <td>0.286569</td>\n",
       "      <td>0.035242</td>\n",
       "      <td>0.431606</td>\n",
       "      <td>-0.002440</td>\n",
       "    </tr>\n",
       "    <tr>\n",
       "      <th>cadmium</th>\n",
       "      <td>-0.099911</td>\n",
       "      <td>0.334682</td>\n",
       "      <td>-0.037803</td>\n",
       "      <td>1.000000</td>\n",
       "      <td>-0.144370</td>\n",
       "      <td>-0.157766</td>\n",
       "      <td>-0.109024</td>\n",
       "      <td>0.004880</td>\n",
       "      <td>-0.092431</td>\n",
       "      <td>0.021183</td>\n",
       "      <td>-0.034959</td>\n",
       "      <td>0.020194</td>\n",
       "      <td>-0.015682</td>\n",
       "      <td>-0.016174</td>\n",
       "      <td>-0.149344</td>\n",
       "      <td>-0.099259</td>\n",
       "      <td>0.010145</td>\n",
       "      <td>-0.155408</td>\n",
       "      <td>-0.005633</td>\n",
       "    </tr>\n",
       "    <tr>\n",
       "      <th>chloramine</th>\n",
       "      <td>0.369309</td>\n",
       "      <td>0.356559</td>\n",
       "      <td>0.446928</td>\n",
       "      <td>-0.144370</td>\n",
       "      <td>1.000000</td>\n",
       "      <td>0.555938</td>\n",
       "      <td>0.119059</td>\n",
       "      <td>0.004400</td>\n",
       "      <td>0.154510</td>\n",
       "      <td>0.003687</td>\n",
       "      <td>-0.030479</td>\n",
       "      <td>-0.001551</td>\n",
       "      <td>0.379685</td>\n",
       "      <td>-0.021472</td>\n",
       "      <td>0.588769</td>\n",
       "      <td>0.388806</td>\n",
       "      <td>0.011399</td>\n",
       "      <td>0.522447</td>\n",
       "      <td>-0.007658</td>\n",
       "    </tr>\n",
       "    <tr>\n",
       "      <th>chromium</th>\n",
       "      <td>0.353218</td>\n",
       "      <td>0.312475</td>\n",
       "      <td>0.415972</td>\n",
       "      <td>-0.157766</td>\n",
       "      <td>0.555938</td>\n",
       "      <td>1.000000</td>\n",
       "      <td>0.113043</td>\n",
       "      <td>-0.002284</td>\n",
       "      <td>0.142041</td>\n",
       "      <td>0.002430</td>\n",
       "      <td>-0.050501</td>\n",
       "      <td>-0.012793</td>\n",
       "      <td>0.335708</td>\n",
       "      <td>-0.022787</td>\n",
       "      <td>0.524532</td>\n",
       "      <td>0.315271</td>\n",
       "      <td>0.030539</td>\n",
       "      <td>0.510768</td>\n",
       "      <td>-0.005526</td>\n",
       "    </tr>\n",
       "    <tr>\n",
       "      <th>copper</th>\n",
       "      <td>0.168612</td>\n",
       "      <td>-0.036444</td>\n",
       "      <td>0.065426</td>\n",
       "      <td>-0.109024</td>\n",
       "      <td>0.119059</td>\n",
       "      <td>0.113043</td>\n",
       "      <td>1.000000</td>\n",
       "      <td>0.011683</td>\n",
       "      <td>0.149110</td>\n",
       "      <td>0.006292</td>\n",
       "      <td>0.121765</td>\n",
       "      <td>0.002332</td>\n",
       "      <td>0.162093</td>\n",
       "      <td>0.017626</td>\n",
       "      <td>0.104564</td>\n",
       "      <td>0.026215</td>\n",
       "      <td>-0.003267</td>\n",
       "      <td>0.089333</td>\n",
       "      <td>0.006978</td>\n",
       "    </tr>\n",
       "    <tr>\n",
       "      <th>flouride</th>\n",
       "      <td>-0.009784</td>\n",
       "      <td>0.003792</td>\n",
       "      <td>-0.018548</td>\n",
       "      <td>0.004880</td>\n",
       "      <td>0.004400</td>\n",
       "      <td>-0.002284</td>\n",
       "      <td>0.011683</td>\n",
       "      <td>1.000000</td>\n",
       "      <td>0.014134</td>\n",
       "      <td>0.018418</td>\n",
       "      <td>0.011905</td>\n",
       "      <td>-0.008140</td>\n",
       "      <td>-0.016669</td>\n",
       "      <td>-0.004400</td>\n",
       "      <td>-0.016191</td>\n",
       "      <td>0.007688</td>\n",
       "      <td>0.022629</td>\n",
       "      <td>0.014554</td>\n",
       "      <td>0.016792</td>\n",
       "    </tr>\n",
       "    <tr>\n",
       "      <th>bacteria</th>\n",
       "      <td>-0.078238</td>\n",
       "      <td>0.035688</td>\n",
       "      <td>0.101259</td>\n",
       "      <td>-0.092431</td>\n",
       "      <td>0.154510</td>\n",
       "      <td>0.142041</td>\n",
       "      <td>0.149110</td>\n",
       "      <td>0.014134</td>\n",
       "      <td>1.000000</td>\n",
       "      <td>0.618480</td>\n",
       "      <td>-0.027525</td>\n",
       "      <td>-0.033920</td>\n",
       "      <td>0.246252</td>\n",
       "      <td>-0.004471</td>\n",
       "      <td>0.147652</td>\n",
       "      <td>0.099298</td>\n",
       "      <td>-0.006971</td>\n",
       "      <td>0.148225</td>\n",
       "      <td>0.044839</td>\n",
       "    </tr>\n",
       "    <tr>\n",
       "      <th>viruses</th>\n",
       "      <td>-0.070863</td>\n",
       "      <td>0.011703</td>\n",
       "      <td>-0.002276</td>\n",
       "      <td>0.021183</td>\n",
       "      <td>0.003687</td>\n",
       "      <td>0.002430</td>\n",
       "      <td>0.006292</td>\n",
       "      <td>0.018418</td>\n",
       "      <td>0.618480</td>\n",
       "      <td>1.000000</td>\n",
       "      <td>0.017598</td>\n",
       "      <td>-0.044544</td>\n",
       "      <td>-0.091517</td>\n",
       "      <td>0.011416</td>\n",
       "      <td>0.003208</td>\n",
       "      <td>-0.020112</td>\n",
       "      <td>-0.035047</td>\n",
       "      <td>0.011861</td>\n",
       "      <td>0.058434</td>\n",
       "    </tr>\n",
       "    <tr>\n",
       "      <th>lead</th>\n",
       "      <td>0.020792</td>\n",
       "      <td>-0.087756</td>\n",
       "      <td>-0.042888</td>\n",
       "      <td>-0.034959</td>\n",
       "      <td>-0.030479</td>\n",
       "      <td>-0.050501</td>\n",
       "      <td>0.121765</td>\n",
       "      <td>0.011905</td>\n",
       "      <td>-0.027525</td>\n",
       "      <td>0.017598</td>\n",
       "      <td>1.000000</td>\n",
       "      <td>0.034978</td>\n",
       "      <td>-0.052405</td>\n",
       "      <td>-0.007832</td>\n",
       "      <td>-0.027709</td>\n",
       "      <td>-0.048741</td>\n",
       "      <td>0.031888</td>\n",
       "      <td>-0.057351</td>\n",
       "      <td>-0.009151</td>\n",
       "    </tr>\n",
       "    <tr>\n",
       "      <th>nitrates</th>\n",
       "      <td>-0.003810</td>\n",
       "      <td>0.027554</td>\n",
       "      <td>-0.011331</td>\n",
       "      <td>0.020194</td>\n",
       "      <td>-0.001551</td>\n",
       "      <td>-0.012793</td>\n",
       "      <td>0.002332</td>\n",
       "      <td>-0.008140</td>\n",
       "      <td>-0.033920</td>\n",
       "      <td>-0.044544</td>\n",
       "      <td>0.034978</td>\n",
       "      <td>1.000000</td>\n",
       "      <td>0.016936</td>\n",
       "      <td>-0.020458</td>\n",
       "      <td>-0.014020</td>\n",
       "      <td>-0.021410</td>\n",
       "      <td>0.043109</td>\n",
       "      <td>0.005218</td>\n",
       "      <td>0.000824</td>\n",
       "    </tr>\n",
       "    <tr>\n",
       "      <th>nitrites</th>\n",
       "      <td>0.237307</td>\n",
       "      <td>0.305005</td>\n",
       "      <td>0.312711</td>\n",
       "      <td>-0.015682</td>\n",
       "      <td>0.379685</td>\n",
       "      <td>0.335708</td>\n",
       "      <td>0.162093</td>\n",
       "      <td>-0.016669</td>\n",
       "      <td>0.246252</td>\n",
       "      <td>-0.091517</td>\n",
       "      <td>-0.052405</td>\n",
       "      <td>0.016936</td>\n",
       "      <td>1.000000</td>\n",
       "      <td>-0.016740</td>\n",
       "      <td>0.346172</td>\n",
       "      <td>0.272830</td>\n",
       "      <td>0.012150</td>\n",
       "      <td>0.332739</td>\n",
       "      <td>-0.009908</td>\n",
       "    </tr>\n",
       "    <tr>\n",
       "      <th>mercury</th>\n",
       "      <td>-0.003306</td>\n",
       "      <td>-0.015404</td>\n",
       "      <td>0.005987</td>\n",
       "      <td>-0.016174</td>\n",
       "      <td>-0.021472</td>\n",
       "      <td>-0.022787</td>\n",
       "      <td>0.017626</td>\n",
       "      <td>-0.004400</td>\n",
       "      <td>-0.004471</td>\n",
       "      <td>0.011416</td>\n",
       "      <td>-0.007832</td>\n",
       "      <td>-0.020458</td>\n",
       "      <td>-0.016740</td>\n",
       "      <td>1.000000</td>\n",
       "      <td>0.006106</td>\n",
       "      <td>0.032685</td>\n",
       "      <td>0.034637</td>\n",
       "      <td>0.006102</td>\n",
       "      <td>0.031704</td>\n",
       "    </tr>\n",
       "    <tr>\n",
       "      <th>perchlorate</th>\n",
       "      <td>0.363069</td>\n",
       "      <td>0.332279</td>\n",
       "      <td>0.462234</td>\n",
       "      <td>-0.149344</td>\n",
       "      <td>0.588769</td>\n",
       "      <td>0.524532</td>\n",
       "      <td>0.104564</td>\n",
       "      <td>-0.016191</td>\n",
       "      <td>0.147652</td>\n",
       "      <td>0.003208</td>\n",
       "      <td>-0.027709</td>\n",
       "      <td>-0.014020</td>\n",
       "      <td>0.346172</td>\n",
       "      <td>0.006106</td>\n",
       "      <td>1.000000</td>\n",
       "      <td>0.373028</td>\n",
       "      <td>0.014440</td>\n",
       "      <td>0.504604</td>\n",
       "      <td>0.000915</td>\n",
       "    </tr>\n",
       "    <tr>\n",
       "      <th>radium</th>\n",
       "      <td>0.243217</td>\n",
       "      <td>0.218204</td>\n",
       "      <td>0.286569</td>\n",
       "      <td>-0.099259</td>\n",
       "      <td>0.388806</td>\n",
       "      <td>0.315271</td>\n",
       "      <td>0.026215</td>\n",
       "      <td>0.007688</td>\n",
       "      <td>0.099298</td>\n",
       "      <td>-0.020112</td>\n",
       "      <td>-0.048741</td>\n",
       "      <td>-0.021410</td>\n",
       "      <td>0.272830</td>\n",
       "      <td>0.032685</td>\n",
       "      <td>0.373028</td>\n",
       "      <td>1.000000</td>\n",
       "      <td>0.028250</td>\n",
       "      <td>0.354006</td>\n",
       "      <td>0.020273</td>\n",
       "    </tr>\n",
       "    <tr>\n",
       "      <th>selenium</th>\n",
       "      <td>-0.003672</td>\n",
       "      <td>-0.007009</td>\n",
       "      <td>0.035242</td>\n",
       "      <td>0.010145</td>\n",
       "      <td>0.011399</td>\n",
       "      <td>0.030539</td>\n",
       "      <td>-0.003267</td>\n",
       "      <td>0.022629</td>\n",
       "      <td>-0.006971</td>\n",
       "      <td>-0.035047</td>\n",
       "      <td>0.031888</td>\n",
       "      <td>0.043109</td>\n",
       "      <td>0.012150</td>\n",
       "      <td>0.034637</td>\n",
       "      <td>0.014440</td>\n",
       "      <td>0.028250</td>\n",
       "      <td>1.000000</td>\n",
       "      <td>-0.019966</td>\n",
       "      <td>-0.022134</td>\n",
       "    </tr>\n",
       "    <tr>\n",
       "      <th>silver</th>\n",
       "      <td>0.334993</td>\n",
       "      <td>0.307837</td>\n",
       "      <td>0.431606</td>\n",
       "      <td>-0.155408</td>\n",
       "      <td>0.522447</td>\n",
       "      <td>0.510768</td>\n",
       "      <td>0.089333</td>\n",
       "      <td>0.014554</td>\n",
       "      <td>0.148225</td>\n",
       "      <td>0.011861</td>\n",
       "      <td>-0.057351</td>\n",
       "      <td>0.005218</td>\n",
       "      <td>0.332739</td>\n",
       "      <td>0.006102</td>\n",
       "      <td>0.504604</td>\n",
       "      <td>0.354006</td>\n",
       "      <td>-0.019966</td>\n",
       "      <td>1.000000</td>\n",
       "      <td>0.008153</td>\n",
       "    </tr>\n",
       "    <tr>\n",
       "      <th>uranium</th>\n",
       "      <td>0.014711</td>\n",
       "      <td>0.001455</td>\n",
       "      <td>-0.002440</td>\n",
       "      <td>-0.005633</td>\n",
       "      <td>-0.007658</td>\n",
       "      <td>-0.005526</td>\n",
       "      <td>0.006978</td>\n",
       "      <td>0.016792</td>\n",
       "      <td>0.044839</td>\n",
       "      <td>0.058434</td>\n",
       "      <td>-0.009151</td>\n",
       "      <td>0.000824</td>\n",
       "      <td>-0.009908</td>\n",
       "      <td>0.031704</td>\n",
       "      <td>0.000915</td>\n",
       "      <td>0.020273</td>\n",
       "      <td>-0.022134</td>\n",
       "      <td>0.008153</td>\n",
       "      <td>1.000000</td>\n",
       "    </tr>\n",
       "  </tbody>\n",
       "</table>\n",
       "</div>"
      ],
      "text/plain": [
       "             aluminium   arsenic    barium   cadmium  chloramine  chromium  \\\n",
       "aluminium     1.000000  0.225773  0.294145 -0.099911    0.369309  0.353218   \n",
       "arsenic       0.225773  1.000000  0.362945  0.334682    0.356559  0.312475   \n",
       "barium        0.294145  0.362945  1.000000 -0.037803    0.446928  0.415972   \n",
       "cadmium      -0.099911  0.334682 -0.037803  1.000000   -0.144370 -0.157766   \n",
       "chloramine    0.369309  0.356559  0.446928 -0.144370    1.000000  0.555938   \n",
       "chromium      0.353218  0.312475  0.415972 -0.157766    0.555938  1.000000   \n",
       "copper        0.168612 -0.036444  0.065426 -0.109024    0.119059  0.113043   \n",
       "flouride     -0.009784  0.003792 -0.018548  0.004880    0.004400 -0.002284   \n",
       "bacteria     -0.078238  0.035688  0.101259 -0.092431    0.154510  0.142041   \n",
       "viruses      -0.070863  0.011703 -0.002276  0.021183    0.003687  0.002430   \n",
       "lead          0.020792 -0.087756 -0.042888 -0.034959   -0.030479 -0.050501   \n",
       "nitrates     -0.003810  0.027554 -0.011331  0.020194   -0.001551 -0.012793   \n",
       "nitrites      0.237307  0.305005  0.312711 -0.015682    0.379685  0.335708   \n",
       "mercury      -0.003306 -0.015404  0.005987 -0.016174   -0.021472 -0.022787   \n",
       "perchlorate   0.363069  0.332279  0.462234 -0.149344    0.588769  0.524532   \n",
       "radium        0.243217  0.218204  0.286569 -0.099259    0.388806  0.315271   \n",
       "selenium     -0.003672 -0.007009  0.035242  0.010145    0.011399  0.030539   \n",
       "silver        0.334993  0.307837  0.431606 -0.155408    0.522447  0.510768   \n",
       "uranium       0.014711  0.001455 -0.002440 -0.005633   -0.007658 -0.005526   \n",
       "\n",
       "               copper  flouride  bacteria   viruses      lead  nitrates  \\\n",
       "aluminium    0.168612 -0.009784 -0.078238 -0.070863  0.020792 -0.003810   \n",
       "arsenic     -0.036444  0.003792  0.035688  0.011703 -0.087756  0.027554   \n",
       "barium       0.065426 -0.018548  0.101259 -0.002276 -0.042888 -0.011331   \n",
       "cadmium     -0.109024  0.004880 -0.092431  0.021183 -0.034959  0.020194   \n",
       "chloramine   0.119059  0.004400  0.154510  0.003687 -0.030479 -0.001551   \n",
       "chromium     0.113043 -0.002284  0.142041  0.002430 -0.050501 -0.012793   \n",
       "copper       1.000000  0.011683  0.149110  0.006292  0.121765  0.002332   \n",
       "flouride     0.011683  1.000000  0.014134  0.018418  0.011905 -0.008140   \n",
       "bacteria     0.149110  0.014134  1.000000  0.618480 -0.027525 -0.033920   \n",
       "viruses      0.006292  0.018418  0.618480  1.000000  0.017598 -0.044544   \n",
       "lead         0.121765  0.011905 -0.027525  0.017598  1.000000  0.034978   \n",
       "nitrates     0.002332 -0.008140 -0.033920 -0.044544  0.034978  1.000000   \n",
       "nitrites     0.162093 -0.016669  0.246252 -0.091517 -0.052405  0.016936   \n",
       "mercury      0.017626 -0.004400 -0.004471  0.011416 -0.007832 -0.020458   \n",
       "perchlorate  0.104564 -0.016191  0.147652  0.003208 -0.027709 -0.014020   \n",
       "radium       0.026215  0.007688  0.099298 -0.020112 -0.048741 -0.021410   \n",
       "selenium    -0.003267  0.022629 -0.006971 -0.035047  0.031888  0.043109   \n",
       "silver       0.089333  0.014554  0.148225  0.011861 -0.057351  0.005218   \n",
       "uranium      0.006978  0.016792  0.044839  0.058434 -0.009151  0.000824   \n",
       "\n",
       "             nitrites   mercury  perchlorate    radium  selenium    silver  \\\n",
       "aluminium    0.237307 -0.003306     0.363069  0.243217 -0.003672  0.334993   \n",
       "arsenic      0.305005 -0.015404     0.332279  0.218204 -0.007009  0.307837   \n",
       "barium       0.312711  0.005987     0.462234  0.286569  0.035242  0.431606   \n",
       "cadmium     -0.015682 -0.016174    -0.149344 -0.099259  0.010145 -0.155408   \n",
       "chloramine   0.379685 -0.021472     0.588769  0.388806  0.011399  0.522447   \n",
       "chromium     0.335708 -0.022787     0.524532  0.315271  0.030539  0.510768   \n",
       "copper       0.162093  0.017626     0.104564  0.026215 -0.003267  0.089333   \n",
       "flouride    -0.016669 -0.004400    -0.016191  0.007688  0.022629  0.014554   \n",
       "bacteria     0.246252 -0.004471     0.147652  0.099298 -0.006971  0.148225   \n",
       "viruses     -0.091517  0.011416     0.003208 -0.020112 -0.035047  0.011861   \n",
       "lead        -0.052405 -0.007832    -0.027709 -0.048741  0.031888 -0.057351   \n",
       "nitrates     0.016936 -0.020458    -0.014020 -0.021410  0.043109  0.005218   \n",
       "nitrites     1.000000 -0.016740     0.346172  0.272830  0.012150  0.332739   \n",
       "mercury     -0.016740  1.000000     0.006106  0.032685  0.034637  0.006102   \n",
       "perchlorate  0.346172  0.006106     1.000000  0.373028  0.014440  0.504604   \n",
       "radium       0.272830  0.032685     0.373028  1.000000  0.028250  0.354006   \n",
       "selenium     0.012150  0.034637     0.014440  0.028250  1.000000 -0.019966   \n",
       "silver       0.332739  0.006102     0.504604  0.354006 -0.019966  1.000000   \n",
       "uranium     -0.009908  0.031704     0.000915  0.020273 -0.022134  0.008153   \n",
       "\n",
       "              uranium  \n",
       "aluminium    0.014711  \n",
       "arsenic      0.001455  \n",
       "barium      -0.002440  \n",
       "cadmium     -0.005633  \n",
       "chloramine  -0.007658  \n",
       "chromium    -0.005526  \n",
       "copper       0.006978  \n",
       "flouride     0.016792  \n",
       "bacteria     0.044839  \n",
       "viruses      0.058434  \n",
       "lead        -0.009151  \n",
       "nitrates     0.000824  \n",
       "nitrites    -0.009908  \n",
       "mercury      0.031704  \n",
       "perchlorate  0.000915  \n",
       "radium       0.020273  \n",
       "selenium    -0.022134  \n",
       "silver       0.008153  \n",
       "uranium      1.000000  "
      ]
     },
     "execution_count": 9,
     "metadata": {},
     "output_type": "execute_result"
    }
   ],
   "source": [
    "correlacion = calidad.corr(numeric_only=True)\n",
    "correlacion\n",
    "# no vemos una correlacion muy clara con el target de ninguna de las columnas"
   ]
  },
  {
   "cell_type": "code",
   "execution_count": 10,
   "metadata": {},
   "outputs": [
    {
     "name": "stderr",
     "output_type": "stream",
     "text": [
      "C:\\Users\\Picar\\AppData\\Local\\Temp\\ipykernel_33316\\2221335371.py:3: FutureWarning: The default value of numeric_only in DataFrame.corr is deprecated. In a future version, it will default to False. Select only valid columns or specify the value of numeric_only to silence this warning.\n",
      "  sns.heatmap(calidad.corr(), annot=True, cmap='coolwarm', xticklabels=True, yticklabels=True)\n"
     ]
    },
    {
     "data": {
      "image/png": "[encoded data removed]",
      "text/plain": [
       "<Figure size 1200x1000 with 2 Axes>"
      ]
     },
     "metadata": {},
     "output_type": "display_data"
    }
   ],
   "source": [
    "# podemos hacer un heatmap para visualizarlo mejor\n",
    "plt.figure(figsize=(12, 10))\n",
    "sns.heatmap(calidad.corr(), annot=True, cmap='coolwarm', xticklabels=True, yticklabels=True)\n",
    "plt.show()\n",
    "\n",
    "# aunque la correlacion no es enorme, SI QUE PODEMOS VER CIERTOS DATOS RELACIONADOS, COMO LOS VIRUSES Y LAS BACTERIAS\n",
    "#COMO AL CLORAMINA Y EL PERCLORATO O EL PERCLORATO Y EL CROMO"
   ]
  },
  {
   "cell_type": "code",
   "execution_count": 11,
   "metadata": {},
   "outputs": [
    {
     "data": {
      "text/plain": [
       "0        0.885611\n",
       "1        0.114014\n",
       "#NUM!    0.000375\n",
       "Name: is_safe, dtype: float64"
      ]
     },
     "execution_count": 11,
     "metadata": {},
     "output_type": "execute_result"
    }
   ],
   "source": [
    "# Vamos a visualizar el porcentaje del target, si el agua es segura o no (RECORDEMOS, 0 ES AGUA NO SEGURA, 1 SEGURA)\n",
    "calidad['is_safe'].value_counts(normalize=True) # Para ver la division\n",
    "# ¡¡el target esta totalmente desbalanceado HACIA EL CERO, QUE ES QUE EL AGUA ES NO SEGURA!!, \n",
    "# y hay datos mal etiquetados, #NUM!"
   ]
  },
  {
   "cell_type": "code",
   "execution_count": 12,
   "metadata": {},
   "outputs": [
    {
     "data": {
      "image/png": "[encoded data removed]",
      "text/plain": [
       "<Figure size 800x600 with 1 Axes>"
      ]
     },
     "metadata": {},
     "output_type": "display_data"
    }
   ],
   "source": [
    "# representamos con un histograma para ver la distribucion\n",
    "plt.figure(figsize=(8, 6))\n",
    "plt.hist(calidad['is_safe'], bins=2, color='skyblue', alpha=0.7)\n",
    "plt.xlabel('SEGURIDAD DEL AGUA')\n",
    "plt.ylabel('Frecuencia')\n",
    "plt.title('Distribución del Target')\n",
    "plt.xticks([0, 1])\n",
    "plt.show()"
   ]
  },
  {
   "cell_type": "code",
   "execution_count": 13,
   "metadata": {},
   "outputs": [],
   "source": [
    "# primero, eliminamos los #NUM!\n",
    "calidad['is_safe'] = pd.to_numeric(calidad['is_safe'], errors='coerce') # LOS CAMBIAMOS A NAN PARA ELIMINARLOS\n",
    "calidad1 = calidad.dropna(subset=['is_safe'])\n"
   ]
  },
  {
   "cell_type": "code",
   "execution_count": 14,
   "metadata": {},
   "outputs": [
    {
     "data": {
      "text/html": [
       "<div>\n",
       "<style scoped>\n",
       "    .dataframe tbody tr th:only-of-type {\n",
       "        vertical-align: middle;\n",
       "    }\n",
       "\n",
       "    .dataframe tbody tr th {\n",
       "        vertical-align: top;\n",
       "    }\n",
       "\n",
       "    .dataframe thead th {\n",
       "        text-align: right;\n",
       "    }\n",
       "</style>\n",
       "<table border=\"1\" class=\"dataframe\">\n",
       "  <thead>\n",
       "    <tr style=\"text-align: right;\">\n",
       "      <th></th>\n",
       "      <th>aluminium</th>\n",
       "      <th>arsenic</th>\n",
       "      <th>barium</th>\n",
       "      <th>cadmium</th>\n",
       "      <th>chloramine</th>\n",
       "      <th>chromium</th>\n",
       "      <th>copper</th>\n",
       "      <th>flouride</th>\n",
       "      <th>bacteria</th>\n",
       "      <th>viruses</th>\n",
       "      <th>lead</th>\n",
       "      <th>nitrates</th>\n",
       "      <th>nitrites</th>\n",
       "      <th>mercury</th>\n",
       "      <th>perchlorate</th>\n",
       "      <th>radium</th>\n",
       "      <th>selenium</th>\n",
       "      <th>silver</th>\n",
       "      <th>uranium</th>\n",
       "      <th>is_safe</th>\n",
       "    </tr>\n",
       "  </thead>\n",
       "  <tbody>\n",
       "    <tr>\n",
       "      <th>aluminium</th>\n",
       "      <td>1.000000</td>\n",
       "      <td>0.225773</td>\n",
       "      <td>0.294145</td>\n",
       "      <td>-0.099911</td>\n",
       "      <td>0.369309</td>\n",
       "      <td>0.353218</td>\n",
       "      <td>0.168612</td>\n",
       "      <td>-0.009784</td>\n",
       "      <td>-0.078238</td>\n",
       "      <td>-0.070863</td>\n",
       "      <td>0.020792</td>\n",
       "      <td>-0.003810</td>\n",
       "      <td>0.237307</td>\n",
       "      <td>-0.003306</td>\n",
       "      <td>0.363069</td>\n",
       "      <td>0.243217</td>\n",
       "      <td>-0.003672</td>\n",
       "      <td>0.334993</td>\n",
       "      <td>0.014711</td>\n",
       "      <td>0.333974</td>\n",
       "    </tr>\n",
       "    <tr>\n",
       "      <th>arsenic</th>\n",
       "      <td>0.225773</td>\n",
       "      <td>1.000000</td>\n",
       "      <td>0.362945</td>\n",
       "      <td>0.334682</td>\n",
       "      <td>0.356559</td>\n",
       "      <td>0.312475</td>\n",
       "      <td>-0.036444</td>\n",
       "      <td>0.003792</td>\n",
       "      <td>0.035688</td>\n",
       "      <td>0.011703</td>\n",
       "      <td>-0.087756</td>\n",
       "      <td>0.027554</td>\n",
       "      <td>0.305005</td>\n",
       "      <td>-0.015404</td>\n",
       "      <td>0.332279</td>\n",
       "      <td>0.218204</td>\n",
       "      <td>-0.007009</td>\n",
       "      <td>0.307837</td>\n",
       "      <td>0.001455</td>\n",
       "      <td>-0.123362</td>\n",
       "    </tr>\n",
       "    <tr>\n",
       "      <th>barium</th>\n",
       "      <td>0.294145</td>\n",
       "      <td>0.362945</td>\n",
       "      <td>1.000000</td>\n",
       "      <td>-0.037803</td>\n",
       "      <td>0.446928</td>\n",
       "      <td>0.415972</td>\n",
       "      <td>0.065426</td>\n",
       "      <td>-0.018548</td>\n",
       "      <td>0.101259</td>\n",
       "      <td>-0.002276</td>\n",
       "      <td>-0.042888</td>\n",
       "      <td>-0.011331</td>\n",
       "      <td>0.312711</td>\n",
       "      <td>0.005987</td>\n",
       "      <td>0.462234</td>\n",
       "      <td>0.286569</td>\n",
       "      <td>0.035242</td>\n",
       "      <td>0.431606</td>\n",
       "      <td>-0.002440</td>\n",
       "      <td>0.090858</td>\n",
       "    </tr>\n",
       "    <tr>\n",
       "      <th>cadmium</th>\n",
       "      <td>-0.099911</td>\n",
       "      <td>0.334682</td>\n",
       "      <td>-0.037803</td>\n",
       "      <td>1.000000</td>\n",
       "      <td>-0.144370</td>\n",
       "      <td>-0.157766</td>\n",
       "      <td>-0.109024</td>\n",
       "      <td>0.004880</td>\n",
       "      <td>-0.092431</td>\n",
       "      <td>0.021183</td>\n",
       "      <td>-0.034959</td>\n",
       "      <td>0.020194</td>\n",
       "      <td>-0.015682</td>\n",
       "      <td>-0.016174</td>\n",
       "      <td>-0.149344</td>\n",
       "      <td>-0.099259</td>\n",
       "      <td>0.010145</td>\n",
       "      <td>-0.155408</td>\n",
       "      <td>-0.005633</td>\n",
       "      <td>-0.256034</td>\n",
       "    </tr>\n",
       "    <tr>\n",
       "      <th>chloramine</th>\n",
       "      <td>0.369309</td>\n",
       "      <td>0.356559</td>\n",
       "      <td>0.446928</td>\n",
       "      <td>-0.144370</td>\n",
       "      <td>1.000000</td>\n",
       "      <td>0.555938</td>\n",
       "      <td>0.119059</td>\n",
       "      <td>0.004400</td>\n",
       "      <td>0.154510</td>\n",
       "      <td>0.003687</td>\n",
       "      <td>-0.030479</td>\n",
       "      <td>-0.001551</td>\n",
       "      <td>0.379685</td>\n",
       "      <td>-0.021472</td>\n",
       "      <td>0.588769</td>\n",
       "      <td>0.388806</td>\n",
       "      <td>0.011399</td>\n",
       "      <td>0.522447</td>\n",
       "      <td>-0.007658</td>\n",
       "      <td>0.186704</td>\n",
       "    </tr>\n",
       "    <tr>\n",
       "      <th>chromium</th>\n",
       "      <td>0.353218</td>\n",
       "      <td>0.312475</td>\n",
       "      <td>0.415972</td>\n",
       "      <td>-0.157766</td>\n",
       "      <td>0.555938</td>\n",
       "      <td>1.000000</td>\n",
       "      <td>0.113043</td>\n",
       "      <td>-0.002284</td>\n",
       "      <td>0.142041</td>\n",
       "      <td>0.002430</td>\n",
       "      <td>-0.050501</td>\n",
       "      <td>-0.012793</td>\n",
       "      <td>0.335708</td>\n",
       "      <td>-0.022787</td>\n",
       "      <td>0.524532</td>\n",
       "      <td>0.315271</td>\n",
       "      <td>0.030539</td>\n",
       "      <td>0.510768</td>\n",
       "      <td>-0.005526</td>\n",
       "      <td>0.182306</td>\n",
       "    </tr>\n",
       "    <tr>\n",
       "      <th>copper</th>\n",
       "      <td>0.168612</td>\n",
       "      <td>-0.036444</td>\n",
       "      <td>0.065426</td>\n",
       "      <td>-0.109024</td>\n",
       "      <td>0.119059</td>\n",
       "      <td>0.113043</td>\n",
       "      <td>1.000000</td>\n",
       "      <td>0.011683</td>\n",
       "      <td>0.149110</td>\n",
       "      <td>0.006292</td>\n",
       "      <td>0.121765</td>\n",
       "      <td>0.002332</td>\n",
       "      <td>0.162093</td>\n",
       "      <td>0.017626</td>\n",
       "      <td>0.104564</td>\n",
       "      <td>0.026215</td>\n",
       "      <td>-0.003267</td>\n",
       "      <td>0.089333</td>\n",
       "      <td>0.006978</td>\n",
       "      <td>0.029498</td>\n",
       "    </tr>\n",
       "    <tr>\n",
       "      <th>flouride</th>\n",
       "      <td>-0.009784</td>\n",
       "      <td>0.003792</td>\n",
       "      <td>-0.018548</td>\n",
       "      <td>0.004880</td>\n",
       "      <td>0.004400</td>\n",
       "      <td>-0.002284</td>\n",
       "      <td>0.011683</td>\n",
       "      <td>1.000000</td>\n",
       "      <td>0.014134</td>\n",
       "      <td>0.018418</td>\n",
       "      <td>0.011905</td>\n",
       "      <td>-0.008140</td>\n",
       "      <td>-0.016669</td>\n",
       "      <td>-0.004400</td>\n",
       "      <td>-0.016191</td>\n",
       "      <td>0.007688</td>\n",
       "      <td>0.022629</td>\n",
       "      <td>0.014554</td>\n",
       "      <td>0.016792</td>\n",
       "      <td>0.006550</td>\n",
       "    </tr>\n",
       "    <tr>\n",
       "      <th>bacteria</th>\n",
       "      <td>-0.078238</td>\n",
       "      <td>0.035688</td>\n",
       "      <td>0.101259</td>\n",
       "      <td>-0.092431</td>\n",
       "      <td>0.154510</td>\n",
       "      <td>0.142041</td>\n",
       "      <td>0.149110</td>\n",
       "      <td>0.014134</td>\n",
       "      <td>1.000000</td>\n",
       "      <td>0.618480</td>\n",
       "      <td>-0.027525</td>\n",
       "      <td>-0.033920</td>\n",
       "      <td>0.246252</td>\n",
       "      <td>-0.004471</td>\n",
       "      <td>0.147652</td>\n",
       "      <td>0.099298</td>\n",
       "      <td>-0.006971</td>\n",
       "      <td>0.148225</td>\n",
       "      <td>0.044839</td>\n",
       "      <td>-0.022077</td>\n",
       "    </tr>\n",
       "    <tr>\n",
       "      <th>viruses</th>\n",
       "      <td>-0.070863</td>\n",
       "      <td>0.011703</td>\n",
       "      <td>-0.002276</td>\n",
       "      <td>0.021183</td>\n",
       "      <td>0.003687</td>\n",
       "      <td>0.002430</td>\n",
       "      <td>0.006292</td>\n",
       "      <td>0.018418</td>\n",
       "      <td>0.618480</td>\n",
       "      <td>1.000000</td>\n",
       "      <td>0.017598</td>\n",
       "      <td>-0.044544</td>\n",
       "      <td>-0.091517</td>\n",
       "      <td>0.011416</td>\n",
       "      <td>0.003208</td>\n",
       "      <td>-0.020112</td>\n",
       "      <td>-0.035047</td>\n",
       "      <td>0.011861</td>\n",
       "      <td>0.058434</td>\n",
       "      <td>-0.097040</td>\n",
       "    </tr>\n",
       "    <tr>\n",
       "      <th>lead</th>\n",
       "      <td>0.020792</td>\n",
       "      <td>-0.087756</td>\n",
       "      <td>-0.042888</td>\n",
       "      <td>-0.034959</td>\n",
       "      <td>-0.030479</td>\n",
       "      <td>-0.050501</td>\n",
       "      <td>0.121765</td>\n",
       "      <td>0.011905</td>\n",
       "      <td>-0.027525</td>\n",
       "      <td>0.017598</td>\n",
       "      <td>1.000000</td>\n",
       "      <td>0.034978</td>\n",
       "      <td>-0.052405</td>\n",
       "      <td>-0.007832</td>\n",
       "      <td>-0.027709</td>\n",
       "      <td>-0.048741</td>\n",
       "      <td>0.031888</td>\n",
       "      <td>-0.057351</td>\n",
       "      <td>-0.009151</td>\n",
       "      <td>-0.009970</td>\n",
       "    </tr>\n",
       "    <tr>\n",
       "      <th>nitrates</th>\n",
       "      <td>-0.003810</td>\n",
       "      <td>0.027554</td>\n",
       "      <td>-0.011331</td>\n",
       "      <td>0.020194</td>\n",
       "      <td>-0.001551</td>\n",
       "      <td>-0.012793</td>\n",
       "      <td>0.002332</td>\n",
       "      <td>-0.008140</td>\n",
       "      <td>-0.033920</td>\n",
       "      <td>-0.044544</td>\n",
       "      <td>0.034978</td>\n",
       "      <td>1.000000</td>\n",
       "      <td>0.016936</td>\n",
       "      <td>-0.020458</td>\n",
       "      <td>-0.014020</td>\n",
       "      <td>-0.021410</td>\n",
       "      <td>0.043109</td>\n",
       "      <td>0.005218</td>\n",
       "      <td>0.000824</td>\n",
       "      <td>-0.072100</td>\n",
       "    </tr>\n",
       "    <tr>\n",
       "      <th>nitrites</th>\n",
       "      <td>0.237307</td>\n",
       "      <td>0.305005</td>\n",
       "      <td>0.312711</td>\n",
       "      <td>-0.015682</td>\n",
       "      <td>0.379685</td>\n",
       "      <td>0.335708</td>\n",
       "      <td>0.162093</td>\n",
       "      <td>-0.016669</td>\n",
       "      <td>0.246252</td>\n",
       "      <td>-0.091517</td>\n",
       "      <td>-0.052405</td>\n",
       "      <td>0.016936</td>\n",
       "      <td>1.000000</td>\n",
       "      <td>-0.016740</td>\n",
       "      <td>0.346172</td>\n",
       "      <td>0.272830</td>\n",
       "      <td>0.012150</td>\n",
       "      <td>0.332739</td>\n",
       "      <td>-0.009908</td>\n",
       "      <td>0.046986</td>\n",
       "    </tr>\n",
       "    <tr>\n",
       "      <th>mercury</th>\n",
       "      <td>-0.003306</td>\n",
       "      <td>-0.015404</td>\n",
       "      <td>0.005987</td>\n",
       "      <td>-0.016174</td>\n",
       "      <td>-0.021472</td>\n",
       "      <td>-0.022787</td>\n",
       "      <td>0.017626</td>\n",
       "      <td>-0.004400</td>\n",
       "      <td>-0.004471</td>\n",
       "      <td>0.011416</td>\n",
       "      <td>-0.007832</td>\n",
       "      <td>-0.020458</td>\n",
       "      <td>-0.016740</td>\n",
       "      <td>1.000000</td>\n",
       "      <td>0.006106</td>\n",
       "      <td>0.032685</td>\n",
       "      <td>0.034637</td>\n",
       "      <td>0.006102</td>\n",
       "      <td>0.031704</td>\n",
       "      <td>-0.036817</td>\n",
       "    </tr>\n",
       "    <tr>\n",
       "      <th>perchlorate</th>\n",
       "      <td>0.363069</td>\n",
       "      <td>0.332279</td>\n",
       "      <td>0.462234</td>\n",
       "      <td>-0.149344</td>\n",
       "      <td>0.588769</td>\n",
       "      <td>0.524532</td>\n",
       "      <td>0.104564</td>\n",
       "      <td>-0.016191</td>\n",
       "      <td>0.147652</td>\n",
       "      <td>0.003208</td>\n",
       "      <td>-0.027709</td>\n",
       "      <td>-0.014020</td>\n",
       "      <td>0.346172</td>\n",
       "      <td>0.006106</td>\n",
       "      <td>1.000000</td>\n",
       "      <td>0.373028</td>\n",
       "      <td>0.014440</td>\n",
       "      <td>0.504604</td>\n",
       "      <td>0.000915</td>\n",
       "      <td>0.075735</td>\n",
       "    </tr>\n",
       "    <tr>\n",
       "      <th>radium</th>\n",
       "      <td>0.243217</td>\n",
       "      <td>0.218204</td>\n",
       "      <td>0.286569</td>\n",
       "      <td>-0.099259</td>\n",
       "      <td>0.388806</td>\n",
       "      <td>0.315271</td>\n",
       "      <td>0.026215</td>\n",
       "      <td>0.007688</td>\n",
       "      <td>0.099298</td>\n",
       "      <td>-0.020112</td>\n",
       "      <td>-0.048741</td>\n",
       "      <td>-0.021410</td>\n",
       "      <td>0.272830</td>\n",
       "      <td>0.032685</td>\n",
       "      <td>0.373028</td>\n",
       "      <td>1.000000</td>\n",
       "      <td>0.028250</td>\n",
       "      <td>0.354006</td>\n",
       "      <td>0.020273</td>\n",
       "      <td>0.064743</td>\n",
       "    </tr>\n",
       "    <tr>\n",
       "      <th>selenium</th>\n",
       "      <td>-0.003672</td>\n",
       "      <td>-0.007009</td>\n",
       "      <td>0.035242</td>\n",
       "      <td>0.010145</td>\n",
       "      <td>0.011399</td>\n",
       "      <td>0.030539</td>\n",
       "      <td>-0.003267</td>\n",
       "      <td>0.022629</td>\n",
       "      <td>-0.006971</td>\n",
       "      <td>-0.035047</td>\n",
       "      <td>0.031888</td>\n",
       "      <td>0.043109</td>\n",
       "      <td>0.012150</td>\n",
       "      <td>0.034637</td>\n",
       "      <td>0.014440</td>\n",
       "      <td>0.028250</td>\n",
       "      <td>1.000000</td>\n",
       "      <td>-0.019966</td>\n",
       "      <td>-0.022134</td>\n",
       "      <td>-0.030923</td>\n",
       "    </tr>\n",
       "    <tr>\n",
       "      <th>silver</th>\n",
       "      <td>0.334993</td>\n",
       "      <td>0.307837</td>\n",
       "      <td>0.431606</td>\n",
       "      <td>-0.155408</td>\n",
       "      <td>0.522447</td>\n",
       "      <td>0.510768</td>\n",
       "      <td>0.089333</td>\n",
       "      <td>0.014554</td>\n",
       "      <td>0.148225</td>\n",
       "      <td>0.011861</td>\n",
       "      <td>-0.057351</td>\n",
       "      <td>0.005218</td>\n",
       "      <td>0.332739</td>\n",
       "      <td>0.006102</td>\n",
       "      <td>0.504604</td>\n",
       "      <td>0.354006</td>\n",
       "      <td>-0.019966</td>\n",
       "      <td>1.000000</td>\n",
       "      <td>0.008153</td>\n",
       "      <td>0.102813</td>\n",
       "    </tr>\n",
       "    <tr>\n",
       "      <th>uranium</th>\n",
       "      <td>0.014711</td>\n",
       "      <td>0.001455</td>\n",
       "      <td>-0.002440</td>\n",
       "      <td>-0.005633</td>\n",
       "      <td>-0.007658</td>\n",
       "      <td>-0.005526</td>\n",
       "      <td>0.006978</td>\n",
       "      <td>0.016792</td>\n",
       "      <td>0.044839</td>\n",
       "      <td>0.058434</td>\n",
       "      <td>-0.009151</td>\n",
       "      <td>0.000824</td>\n",
       "      <td>-0.009908</td>\n",
       "      <td>0.031704</td>\n",
       "      <td>0.000915</td>\n",
       "      <td>0.020273</td>\n",
       "      <td>-0.022134</td>\n",
       "      <td>0.008153</td>\n",
       "      <td>1.000000</td>\n",
       "      <td>-0.075619</td>\n",
       "    </tr>\n",
       "    <tr>\n",
       "      <th>is_safe</th>\n",
       "      <td>0.333974</td>\n",
       "      <td>-0.123362</td>\n",
       "      <td>0.090858</td>\n",
       "      <td>-0.256034</td>\n",
       "      <td>0.186704</td>\n",
       "      <td>0.182306</td>\n",
       "      <td>0.029498</td>\n",
       "      <td>0.006550</td>\n",
       "      <td>-0.022077</td>\n",
       "      <td>-0.097040</td>\n",
       "      <td>-0.009970</td>\n",
       "      <td>-0.072100</td>\n",
       "      <td>0.046986</td>\n",
       "      <td>-0.036817</td>\n",
       "      <td>0.075735</td>\n",
       "      <td>0.064743</td>\n",
       "      <td>-0.030923</td>\n",
       "      <td>0.102813</td>\n",
       "      <td>-0.075619</td>\n",
       "      <td>1.000000</td>\n",
       "    </tr>\n",
       "  </tbody>\n",
       "</table>\n",
       "</div>"
      ],
      "text/plain": [
       "             aluminium   arsenic    barium   cadmium  chloramine  chromium  \\\n",
       "aluminium     1.000000  0.225773  0.294145 -0.099911    0.369309  0.353218   \n",
       "arsenic       0.225773  1.000000  0.362945  0.334682    0.356559  0.312475   \n",
       "barium        0.294145  0.362945  1.000000 -0.037803    0.446928  0.415972   \n",
       "cadmium      -0.099911  0.334682 -0.037803  1.000000   -0.144370 -0.157766   \n",
       "chloramine    0.369309  0.356559  0.446928 -0.144370    1.000000  0.555938   \n",
       "chromium      0.353218  0.312475  0.415972 -0.157766    0.555938  1.000000   \n",
       "copper        0.168612 -0.036444  0.065426 -0.109024    0.119059  0.113043   \n",
       "flouride     -0.009784  0.003792 -0.018548  0.004880    0.004400 -0.002284   \n",
       "bacteria     -0.078238  0.035688  0.101259 -0.092431    0.154510  0.142041   \n",
       "viruses      -0.070863  0.011703 -0.002276  0.021183    0.003687  0.002430   \n",
       "lead          0.020792 -0.087756 -0.042888 -0.034959   -0.030479 -0.050501   \n",
       "nitrates     -0.003810  0.027554 -0.011331  0.020194   -0.001551 -0.012793   \n",
       "nitrites      0.237307  0.305005  0.312711 -0.015682    0.379685  0.335708   \n",
       "mercury      -0.003306 -0.015404  0.005987 -0.016174   -0.021472 -0.022787   \n",
       "perchlorate   0.363069  0.332279  0.462234 -0.149344    0.588769  0.524532   \n",
       "radium        0.243217  0.218204  0.286569 -0.099259    0.388806  0.315271   \n",
       "selenium     -0.003672 -0.007009  0.035242  0.010145    0.011399  0.030539   \n",
       "silver        0.334993  0.307837  0.431606 -0.155408    0.522447  0.510768   \n",
       "uranium       0.014711  0.001455 -0.002440 -0.005633   -0.007658 -0.005526   \n",
       "is_safe       0.333974 -0.123362  0.090858 -0.256034    0.186704  0.182306   \n",
       "\n",
       "               copper  flouride  bacteria   viruses      lead  nitrates  \\\n",
       "aluminium    0.168612 -0.009784 -0.078238 -0.070863  0.020792 -0.003810   \n",
       "arsenic     -0.036444  0.003792  0.035688  0.011703 -0.087756  0.027554   \n",
       "barium       0.065426 -0.018548  0.101259 -0.002276 -0.042888 -0.011331   \n",
       "cadmium     -0.109024  0.004880 -0.092431  0.021183 -0.034959  0.020194   \n",
       "chloramine   0.119059  0.004400  0.154510  0.003687 -0.030479 -0.001551   \n",
       "chromium     0.113043 -0.002284  0.142041  0.002430 -0.050501 -0.012793   \n",
       "copper       1.000000  0.011683  0.149110  0.006292  0.121765  0.002332   \n",
       "flouride     0.011683  1.000000  0.014134  0.018418  0.011905 -0.008140   \n",
       "bacteria     0.149110  0.014134  1.000000  0.618480 -0.027525 -0.033920   \n",
       "viruses      0.006292  0.018418  0.618480  1.000000  0.017598 -0.044544   \n",
       "lead         0.121765  0.011905 -0.027525  0.017598  1.000000  0.034978   \n",
       "nitrates     0.002332 -0.008140 -0.033920 -0.044544  0.034978  1.000000   \n",
       "nitrites     0.162093 -0.016669  0.246252 -0.091517 -0.052405  0.016936   \n",
       "mercury      0.017626 -0.004400 -0.004471  0.011416 -0.007832 -0.020458   \n",
       "perchlorate  0.104564 -0.016191  0.147652  0.003208 -0.027709 -0.014020   \n",
       "radium       0.026215  0.007688  0.099298 -0.020112 -0.048741 -0.021410   \n",
       "selenium    -0.003267  0.022629 -0.006971 -0.035047  0.031888  0.043109   \n",
       "silver       0.089333  0.014554  0.148225  0.011861 -0.057351  0.005218   \n",
       "uranium      0.006978  0.016792  0.044839  0.058434 -0.009151  0.000824   \n",
       "is_safe      0.029498  0.006550 -0.022077 -0.097040 -0.009970 -0.072100   \n",
       "\n",
       "             nitrites   mercury  perchlorate    radium  selenium    silver  \\\n",
       "aluminium    0.237307 -0.003306     0.363069  0.243217 -0.003672  0.334993   \n",
       "arsenic      0.305005 -0.015404     0.332279  0.218204 -0.007009  0.307837   \n",
       "barium       0.312711  0.005987     0.462234  0.286569  0.035242  0.431606   \n",
       "cadmium     -0.015682 -0.016174    -0.149344 -0.099259  0.010145 -0.155408   \n",
       "chloramine   0.379685 -0.021472     0.588769  0.388806  0.011399  0.522447   \n",
       "chromium     0.335708 -0.022787     0.524532  0.315271  0.030539  0.510768   \n",
       "copper       0.162093  0.017626     0.104564  0.026215 -0.003267  0.089333   \n",
       "flouride    -0.016669 -0.004400    -0.016191  0.007688  0.022629  0.014554   \n",
       "bacteria     0.246252 -0.004471     0.147652  0.099298 -0.006971  0.148225   \n",
       "viruses     -0.091517  0.011416     0.003208 -0.020112 -0.035047  0.011861   \n",
       "lead        -0.052405 -0.007832    -0.027709 -0.048741  0.031888 -0.057351   \n",
       "nitrates     0.016936 -0.020458    -0.014020 -0.021410  0.043109  0.005218   \n",
       "nitrites     1.000000 -0.016740     0.346172  0.272830  0.012150  0.332739   \n",
       "mercury     -0.016740  1.000000     0.006106  0.032685  0.034637  0.006102   \n",
       "perchlorate  0.346172  0.006106     1.000000  0.373028  0.014440  0.504604   \n",
       "radium       0.272830  0.032685     0.373028  1.000000  0.028250  0.354006   \n",
       "selenium     0.012150  0.034637     0.014440  0.028250  1.000000 -0.019966   \n",
       "silver       0.332739  0.006102     0.504604  0.354006 -0.019966  1.000000   \n",
       "uranium     -0.009908  0.031704     0.000915  0.020273 -0.022134  0.008153   \n",
       "is_safe      0.046986 -0.036817     0.075735  0.064743 -0.030923  0.102813   \n",
       "\n",
       "              uranium   is_safe  \n",
       "aluminium    0.014711  0.333974  \n",
       "arsenic      0.001455 -0.123362  \n",
       "barium      -0.002440  0.090858  \n",
       "cadmium     -0.005633 -0.256034  \n",
       "chloramine  -0.007658  0.186704  \n",
       "chromium    -0.005526  0.182306  \n",
       "copper       0.006978  0.029498  \n",
       "flouride     0.016792  0.006550  \n",
       "bacteria     0.044839 -0.022077  \n",
       "viruses      0.058434 -0.097040  \n",
       "lead        -0.009151 -0.009970  \n",
       "nitrates     0.000824 -0.072100  \n",
       "nitrites    -0.009908  0.046986  \n",
       "mercury      0.031704 -0.036817  \n",
       "perchlorate  0.000915  0.075735  \n",
       "radium       0.020273  0.064743  \n",
       "selenium    -0.022134 -0.030923  \n",
       "silver       0.008153  0.102813  \n",
       "uranium      1.000000 -0.075619  \n",
       "is_safe     -0.075619  1.000000  "
      ]
     },
     "execution_count": 14,
     "metadata": {},
     "output_type": "execute_result"
    }
   ],
   "source": [
    "correlacion2 = calidad.corr(numeric_only=True)\n",
    "correlacion2 # ahora que tenemos el target en numerico"
   ]
  },
  {
   "cell_type": "code",
   "execution_count": 15,
   "metadata": {},
   "outputs": [
    {
     "name": "stderr",
     "output_type": "stream",
     "text": [
      "C:\\Users\\Picar\\AppData\\Local\\Temp\\ipykernel_33316\\1556826668.py:2: SettingWithCopyWarning: \n",
      "A value is trying to be set on a copy of a slice from a DataFrame.\n",
      "Try using .loc[row_indexer,col_indexer] = value instead\n",
      "\n",
      "See the caveats in the documentation: https://pandas.pydata.org/pandas-docs/stable/user_guide/indexing.html#returning-a-view-versus-a-copy\n",
      "  calidad1['ammonia'] = pd.to_numeric(calidad1['ammonia'], errors='coerce') # LOS CAMBIAMOS A NAN PARA ELIMINARLOS\n"
     ]
    }
   ],
   "source": [
    "# Y TENGO QUE CAMBIAR EL AMONIACO A NUMERICO, QUE ES LA UNICA OTRA COLUMNA QUE ESTA COMO OBJETO\n",
    "calidad1['ammonia'] = pd.to_numeric(calidad1['ammonia'], errors='coerce') # LOS CAMBIAMOS A NAN PARA ELIMINARLOS"
   ]
  },
  {
   "cell_type": "code",
   "execution_count": 16,
   "metadata": {},
   "outputs": [
    {
     "name": "stdout",
     "output_type": "stream",
     "text": [
      "<class 'pandas.core.frame.DataFrame'>\n",
      "Int64Index: 7996 entries, 0 to 7998\n",
      "Data columns (total 21 columns):\n",
      " #   Column       Non-Null Count  Dtype  \n",
      "---  ------       --------------  -----  \n",
      " 0   aluminium    7996 non-null   float64\n",
      " 1   ammonia      7996 non-null   float64\n",
      " 2   arsenic      7996 non-null   float64\n",
      " 3   barium       7996 non-null   float64\n",
      " 4   cadmium      7996 non-null   float64\n",
      " 5   chloramine   7996 non-null   float64\n",
      " 6   chromium     7996 non-null   float64\n",
      " 7   copper       7996 non-null   float64\n",
      " 8   flouride     7996 non-null   float64\n",
      " 9   bacteria     7996 non-null   float64\n",
      " 10  viruses      7996 non-null   float64\n",
      " 11  lead         7996 non-null   float64\n",
      " 12  nitrates     7996 non-null   float64\n",
      " 13  nitrites     7996 non-null   float64\n",
      " 14  mercury      7996 non-null   float64\n",
      " 15  perchlorate  7996 non-null   float64\n",
      " 16  radium       7996 non-null   float64\n",
      " 17  selenium     7996 non-null   float64\n",
      " 18  silver       7996 non-null   float64\n",
      " 19  uranium      7996 non-null   float64\n",
      " 20  is_safe      7996 non-null   float64\n",
      "dtypes: float64(21)\n",
      "memory usage: 1.3 MB\n"
     ]
    }
   ],
   "source": [
    "calidad1.info() # ya son todos numericos"
   ]
  },
  {
   "cell_type": "code",
   "execution_count": 17,
   "metadata": {},
   "outputs": [],
   "source": [
    "X = calidad1.drop('is_safe',axis=1)\n",
    "y = calidad1['is_safe']"
   ]
  },
  {
   "cell_type": "code",
   "execution_count": 18,
   "metadata": {},
   "outputs": [
    {
     "data": {
      "text/plain": [
       "array([[ 0.77740287, -0.58549134, -0.48087476, ...,  1.05369443,\n",
       "         1.33873624, -0.91704015],\n",
       "       [ 1.30694501,  0.77511802, -0.59963176, ...,  1.05369443,\n",
       "         0.85113427,  0.19802266],\n",
       "       [ 0.27157158, -0.02908321, -0.48087476, ...,  0.70612871,\n",
       "         2.03531047, -1.28872776],\n",
       "       ...,\n",
       "       [-0.45556091, -0.83666343, -0.63921743, ..., -1.72683135,\n",
       "        -0.75098648,  0.19802266],\n",
       "       [-0.51878982, -0.48186877, -0.59963176, ..., -1.72683135,\n",
       "        -1.02961617, -1.66041536],\n",
       "       [-0.49507898, -0.83666343, -0.59963176, ..., -1.72683135,\n",
       "        -0.75098648,  0.19802266]])"
      ]
     },
     "execution_count": 18,
     "metadata": {},
     "output_type": "execute_result"
    }
   ],
   "source": [
    "# normalizamos, ANTES QUE NADA\n",
    "from sklearn.preprocessing import StandardScaler \n",
    "scaler = StandardScaler()\n",
    "X = scaler.fit_transform(X)\n",
    "X\n",
    "# hemos normalizado sobre todo el conjunto de X antes de dividir en train y test.\n",
    "# ya solo habria que normalizar si queremos añadir un nuevo dato, IMPORTANTE"
   ]
  },
  {
   "cell_type": "code",
   "execution_count": 19,
   "metadata": {},
   "outputs": [],
   "source": [
    "# RECORDEMOS QUE EL TARGET ESTA MUY DESBALANCEADO. Si no queremos tener problemas, vamos a probar modelos para clases desbalanceadas primero:\n",
    "# AdaBoost, Gradient Boosting Machines (GBM) o modelos basados en árboles de decisión ponderados para tratar el desequilibrio de clases.\n",
    "X_train1, X_test1, y_train1, y_test1 = train_test_split(X, y, test_size=0.2, random_state=42) \n",
    "\n"
   ]
  },
  {
   "cell_type": "code",
   "execution_count": 20,
   "metadata": {},
   "outputs": [
    {
     "name": "stdout",
     "output_type": "stream",
     "text": [
      "Total features shape: (7996, 20)\n",
      "Train features shape: (6396, 20)\n",
      "Train target shape: (6396,)\n",
      "Test features shape: (1600, 20)\n",
      "Test target shape: (1600,)\n"
     ]
    }
   ],
   "source": [
    "print(\"Total features shape:\", X.shape)\n",
    "print(\"Train features shape:\", X_train1.shape)\n",
    "print(\"Train target shape:\", y_train1.shape)\n",
    "print(\"Test features shape:\", X_test1.shape)\n",
    "print(\"Test target shape:\", y_test1.shape)"
   ]
  },
  {
   "cell_type": "code",
   "execution_count": 21,
   "metadata": {},
   "outputs": [],
   "source": [
    "# Empezamos con un random forest\n",
    "from sklearn.ensemble import RandomForestClassifier\n",
    "model_rf = RandomForestClassifier(n_estimators=100,max_features=3, random_state=42)\n",
    "model_rf.fit(X_train1, y_train1)\n",
    "pred_rf = model_rf.predict(X_test1)"
   ]
  },
  {
   "cell_type": "code",
   "execution_count": 22,
   "metadata": {},
   "outputs": [
    {
     "name": "stdout",
     "output_type": "stream",
     "text": [
      "0.950625\n"
     ]
    }
   ],
   "source": [
    "# y el accuracy\n",
    "rf = accuracy_score(y_test1, pred_rf)\n",
    "print(rf)\n",
    "# el modelo tiene muy buena accuracy, hasta sin balancear!! pero tenemos que volver a revisar para evitar overfitting"
   ]
  },
  {
   "cell_type": "code",
   "execution_count": 23,
   "metadata": {},
   "outputs": [],
   "source": [
    "# prefiero VISUALIZAR TODAS LAS METRICAS QUE SOLO EL ACCURACY, DADO QUE EL ACCURACY RECORDEMOS QUE PUEDE NO SER \n",
    "# LA MEJOR PARA CLASES DESBALANCEADAS. Y EN ESTE CASO CONCRETO PARA ESTE TARGET(QUE EL AGUA SEA SEGURA O NO) SERIA \n",
    "# MAS IMPORTANTE EL RECALL(también conocida como sensibilidad o tasa de verdaderos positivos),PUES MI PRIORIDAD debería ser \n",
    "# identificar correctamente los casos en los que el agua no es segura (ME INTERESA LOS AUTENTICOS POSITIVOS DE LA CLASE 1 SOBRE TODO),\n",
    "# para poder tomar medidas preventivas o correctivas."
   ]
  },
  {
   "cell_type": "code",
   "execution_count": 24,
   "metadata": {},
   "outputs": [],
   "source": [
    "# Hacemos una validacion cruzada, para ver si los datos tienen sentido\n",
    "from sklearn.model_selection import cross_val_score\n",
    "model_rf_val = RandomForestClassifier(n_estimators=100, max_features=3, random_state=42)\n",
    "results_cv_rf = cross_val_score(model_rf_val, X_train1, y_train1, cv=10, scoring='recall')"
   ]
  },
  {
   "cell_type": "code",
   "execution_count": 25,
   "metadata": {},
   "outputs": [
    {
     "name": "stdout",
     "output_type": "stream",
     "text": [
      "[0.61971831 0.57746479 0.67605634 0.6056338  0.61111111 0.55555556\n",
      " 0.63380282 0.64788732 0.57746479 0.63380282]\n",
      "0.613849765258216\n"
     ]
    }
   ],
   "source": [
    "print(results_cv_rf)\n",
    "print(results_cv_rf.mean())\n",
    "# en principio, todos los cortes tienen mas o menos lo mismo, pero la media es muy mala"
   ]
  },
  {
   "cell_type": "code",
   "execution_count": 26,
   "metadata": {},
   "outputs": [],
   "source": [
    "# lo hacemos tambien con el accuracy\n",
    "model_rf_val = RandomForestClassifier(n_estimators=100, max_features=3, random_state=42)\n",
    "results_accuracy_rf = cross_val_score(model_rf_val, X_train1, y_train1, cv=10, scoring='accuracy')"
   ]
  },
  {
   "cell_type": "code",
   "execution_count": 27,
   "metadata": {},
   "outputs": [
    {
     "name": "stdout",
     "output_type": "stream",
     "text": [
      "[0.9453125  0.9484375  0.9578125  0.95       0.9515625  0.946875\n",
      " 0.95618153 0.95461659 0.94679186 0.95774648]\n",
      "0.9515336463223788\n"
     ]
    }
   ],
   "source": [
    "print(results_accuracy_rf)\n",
    "print(results_accuracy_rf.mean())\n",
    "# TODOS LOS CORTES TIENEN UNA MEDIA IGUAL DE BUENA DE ACCURACY.\n",
    "# EL PROBLEMA DEL RECALL ES POR EL DESBALANCEO (se predice mejor la clase 0 que la 1)\n"
   ]
  },
  {
   "cell_type": "code",
   "execution_count": 28,
   "metadata": {},
   "outputs": [
    {
     "name": "stdout",
     "output_type": "stream",
     "text": [
      "              precision    recall  f1-score   support\n",
      "\n",
      "         0.0       0.95      0.99      0.97      1400\n",
      "         1.0       0.94      0.65      0.77       200\n",
      "\n",
      "    accuracy                           0.95      1600\n",
      "   macro avg       0.95      0.82      0.87      1600\n",
      "weighted avg       0.95      0.95      0.95      1600\n",
      "\n"
     ]
    }
   ],
   "source": [
    "# USO CLASIFICACION REPORT, PARA VER todas las metricas\n",
    "print(classification_report(y_test1,pred_rf)) \n",
    "# parece muy bueno el modelo si nos fiamos del accuracy, AUNQUE ES BASTANTE MEJOR PARA CLASIFICAR LA CLASE 0 (PREDOMINANTE)\n",
    "# QUE LA 1 (LOS AUTENTICOS POSITIVOS DE LA CLASE 1 SE CLASIFICAN MUCHO PEOR). Hay que estudiar si esto es un problema"
   ]
  },
  {
   "cell_type": "code",
   "execution_count": 29,
   "metadata": {},
   "outputs": [
    {
     "data": {
      "text/plain": [
       "<Axes: >"
      ]
     },
     "execution_count": 29,
     "metadata": {},
     "output_type": "execute_result"
    },
    {
     "data": {
      "image/png": "[encoded data removed]",
      "text/plain": [
       "<Figure size 640x480 with 2 Axes>"
      ]
     },
     "metadata": {},
     "output_type": "display_data"
    }
   ],
   "source": [
    "# y la matriz de confusion\n",
    "sns.heatmap(confusion_matrix(y_test1, pred_rf , normalize='true'), annot=True)\n",
    "# MUY DESBALANCEADO, Y POR ESO LA PREDICCION DEL NUMERO 1 ES MUCHO MAS MALA"
   ]
  },
  {
   "cell_type": "code",
   "execution_count": 30,
   "metadata": {},
   "outputs": [],
   "source": [
    "# AHORA, CON ADABOOST, con su correspondiente validacion\n",
    "from sklearn.ensemble import AdaBoostClassifier\n",
    "\n",
    "model_ADA = AdaBoostClassifier(n_estimators=30, random_state=42)\n",
    "\n",
    "results_cv_ab = cross_val_score(model_ADA, X_train1, y_train1, cv=10, scoring='recall')"
   ]
  },
  {
   "cell_type": "code",
   "execution_count": 31,
   "metadata": {},
   "outputs": [
    {
     "name": "stdout",
     "output_type": "stream",
     "text": [
      "[0.49295775 0.49295775 0.63380282 0.47887324 0.66666667 0.45833333\n",
      " 0.54929577 0.5915493  0.56338028 0.43661972]\n",
      "0.536443661971831\n"
     ]
    }
   ],
   "source": [
    "print(results_cv_ab)\n",
    "print(results_cv_ab.mean()) # EL RECALL ES INCLUSO PEOR QUE EL ANTERIOR,0,53"
   ]
  },
  {
   "cell_type": "code",
   "execution_count": 32,
   "metadata": {},
   "outputs": [],
   "source": [
    "# ENTRENAMOS EL MODELO Y PREDECIMOS PARA PODER CONSEGUIR EL CLASSIFICATION REPORT\n",
    "model_ADA.fit(X_train1, y_train1)\n",
    "pred_ADA = model_ADA.predict(X_test1)"
   ]
  },
  {
   "cell_type": "code",
   "execution_count": 33,
   "metadata": {},
   "outputs": [
    {
     "name": "stdout",
     "output_type": "stream",
     "text": [
      "              precision    recall  f1-score   support\n",
      "\n",
      "         0.0       0.94      0.99      0.96      1400\n",
      "         1.0       0.86      0.55      0.67       200\n",
      "\n",
      "    accuracy                           0.93      1600\n",
      "   macro avg       0.90      0.77      0.82      1600\n",
      "weighted avg       0.93      0.93      0.93      1600\n",
      "\n"
     ]
    }
   ],
   "source": [
    "# Y LA EVALUACION DE TODAS LAS METRICAS\n",
    "print(classification_report(y_test1,pred_ADA))  \n",
    "# LAS METRICAS DE LA CLASE 1, SIGUEN SIENDO MUY MALAS, BASTANTE PEOR QUE CON RANDOM FOREST, SOBRE TODO EL RECALL QUE ES LA MAS IMPORTANTE PARA ESTE CASO,\n",
    "# (LOS AUTENTICOS POSITIVOS DE LA CLASE 1 SE CLASIFICAN MUCHO PEOR)"
   ]
  },
  {
   "cell_type": "code",
   "execution_count": 34,
   "metadata": {},
   "outputs": [
    {
     "data": {
      "text/plain": [
       "<Axes: >"
      ]
     },
     "execution_count": 34,
     "metadata": {},
     "output_type": "execute_result"
    },
    {
     "data": {
      "image/png": "[encoded data removed]",
      "text/plain": [
       "<Figure size 640x480 with 2 Axes>"
      ]
     },
     "metadata": {},
     "output_type": "display_data"
    }
   ],
   "source": [
    "sns.heatmap(confusion_matrix(y_test1, pred_ADA , normalize='true'), annot=True)\n",
    "# DE NUEVO, MALISIMA LA PREDICCION DE LA CLASE 1"
   ]
  },
  {
   "cell_type": "code",
   "execution_count": 35,
   "metadata": {},
   "outputs": [],
   "source": [
    "# PASAMOS A GRADIENT BOOSTING\n",
    "from sklearn.ensemble import GradientBoostingClassifier\n",
    "model_gbc = GradientBoostingClassifier(n_estimators=100, random_state=42)\n",
    "results_cv_gb = cross_val_score(model_gbc,X_train1, y_train1, cv=10, scoring='recall')"
   ]
  },
  {
   "cell_type": "code",
   "execution_count": 36,
   "metadata": {},
   "outputs": [
    {
     "name": "stdout",
     "output_type": "stream",
     "text": [
      "[0.66197183 0.66197183 0.77464789 0.69014085 0.72222222 0.65277778\n",
      " 0.70422535 0.69014085 0.67605634 0.78873239]\n",
      "0.7022887323943662\n"
     ]
    }
   ],
   "source": [
    "print(results_cv_gb)\n",
    "print(results_cv_gb.mean()) # la media de recall mejora un poco "
   ]
  },
  {
   "cell_type": "code",
   "execution_count": 37,
   "metadata": {},
   "outputs": [],
   "source": [
    "# ENTRENAMOS EL MODELO Y PREDECIMOS PARA PODER CONSEGUIR EL CLASSIFICATION REPORT\n",
    "model_gbc.fit(X_train1, y_train1)\n",
    "pred_gbc = model_gbc.predict(X_test1)"
   ]
  },
  {
   "cell_type": "code",
   "execution_count": 38,
   "metadata": {},
   "outputs": [
    {
     "name": "stdout",
     "output_type": "stream",
     "text": [
      "              precision    recall  f1-score   support\n",
      "\n",
      "         0.0       0.96      0.99      0.98      1400\n",
      "         1.0       0.94      0.72      0.81       200\n",
      "\n",
      "    accuracy                           0.96      1600\n",
      "   macro avg       0.95      0.86      0.90      1600\n",
      "weighted avg       0.96      0.96      0.96      1600\n",
      "\n"
     ]
    }
   ],
   "source": [
    "#Y LA EVALUACION DE TODAS LAS METRICAS\n",
    "print(classification_report(y_test1,pred_gbc)) # MEJORA EL RECALL AL CLASIFICAR LOS TRUE POSITIVES DE LA CLASE 1, \n",
    "#PERO SIGUE ESTANDO BASTANTE POR DEBAJO QUE LA CLASE 0"
   ]
  },
  {
   "cell_type": "code",
   "execution_count": 39,
   "metadata": {},
   "outputs": [
    {
     "data": {
      "text/plain": [
       "<Axes: >"
      ]
     },
     "execution_count": 39,
     "metadata": {},
     "output_type": "execute_result"
    },
    {
     "data": {
      "image/png": "[encoded data removed]",
      "text/plain": [
       "<Figure size 640x480 with 2 Axes>"
      ]
     },
     "metadata": {},
     "output_type": "display_data"
    }
   ],
   "source": [
    "sns.heatmap(confusion_matrix(y_test1, pred_gbc , normalize='true'), annot=True)\n",
    "# mejora con respecto a los otros modelos, aunque sigue siendo bastante peor que la prediccion de la otra clase"
   ]
  },
  {
   "cell_type": "code",
   "execution_count": 40,
   "metadata": {},
   "outputs": [],
   "source": [
    "# AHORA PROBAREMOS XG BOOST\n",
    "from xgboost import XGBRFClassifier\n",
    "\n",
    "model_XGB = XGBRFClassifier(n_estimators=100, random_state=42, use_label_encoder=False)\n",
    "\n",
    "results_cv_xgb = cross_val_score(model_XGB, X_train1, y_train1, cv=10, scoring='recall')\n"
   ]
  },
  {
   "cell_type": "code",
   "execution_count": 41,
   "metadata": {},
   "outputs": [
    {
     "name": "stdout",
     "output_type": "stream",
     "text": [
      "[0.73239437 0.71830986 0.87323944 0.74647887 0.70833333 0.73611111\n",
      " 0.74647887 0.78873239 0.78873239 0.8028169 ]\n",
      "0.7641627543035995\n"
     ]
    }
   ],
   "source": [
    "print(results_cv_xgb)\n",
    "print(results_cv_xgb.mean()) # 0,76,el recall vuelve a mejorar con este modelo"
   ]
  },
  {
   "cell_type": "code",
   "execution_count": 42,
   "metadata": {},
   "outputs": [],
   "source": [
    "# ENTRENAMOS EL MODELO Y PREDECIMOS PARA PODER CONSEGUIR EL CLASSIFICATION REPORT\n",
    "model_XGB.fit(X_train1, y_train1)\n",
    "pred_xgb = model_XGB.predict(X_test1)"
   ]
  },
  {
   "cell_type": "code",
   "execution_count": 43,
   "metadata": {},
   "outputs": [
    {
     "name": "stdout",
     "output_type": "stream",
     "text": [
      "              precision    recall  f1-score   support\n",
      "\n",
      "         0.0       0.97      0.99      0.98      1400\n",
      "         1.0       0.90      0.80      0.85       200\n",
      "\n",
      "    accuracy                           0.96      1600\n",
      "   macro avg       0.94      0.89      0.91      1600\n",
      "weighted avg       0.96      0.96      0.96      1600\n",
      "\n"
     ]
    }
   ],
   "source": [
    "#Y LA EVALUACION DE TODAS LAS METRICAS\n",
    "print(classification_report(y_test1,pred_xgb)) # Y ESTE ES EL PRIMER MODELO QUE ARREGLA UN POCO EL DESBALANCEO DE LAS CLASES\n",
    "# Y AUNQUE LA CLASIFICACION DE 1 ES ALGO PEOR, EMPIEZA A EQUIPARARSE (80, 85 DE RECALL Y F1-SCORE)"
   ]
  },
  {
   "cell_type": "code",
   "execution_count": 44,
   "metadata": {},
   "outputs": [
    {
     "data": {
      "text/plain": [
       "<Axes: >"
      ]
     },
     "execution_count": 44,
     "metadata": {},
     "output_type": "execute_result"
    },
    {
     "data": {
      "image/png": "[encoded data removed]",
      "text/plain": [
       "<Figure size 640x480 with 2 Axes>"
      ]
     },
     "metadata": {},
     "output_type": "display_data"
    }
   ],
   "source": [
    "sns.heatmap(confusion_matrix(y_test1, pred_xgb , normalize='true'), annot=True)"
   ]
  },
  {
   "cell_type": "code",
   "execution_count": 45,
   "metadata": {},
   "outputs": [],
   "source": [
    "# PARA VERLOS TODOS EN UNA TABLA (el recall, por ejemplo)\n",
    "serie = [results_cv_rf.mean(),results_cv_ab.mean(),results_cv_gb.mean(),results_cv_xgb.mean()]\n",
    "tabla_recall= pd.DataFrame(serie, columns = ['recall'], index = [\"Random Forest\", \"Ada Boosting\", \"Gradient Boosting\", \"XGBoost\"])"
   ]
  },
  {
   "cell_type": "code",
   "execution_count": 46,
   "metadata": {},
   "outputs": [
    {
     "name": "stdout",
     "output_type": "stream",
     "text": [
      "Stored 'tabla_recall' (DataFrame)\n"
     ]
    }
   ],
   "source": [
    "# buscamos este truco, PARA NO TENER QUE COPIAR DENTRO DE LA MEMORIA TODOS LOS MODELOS AQUI CREADOS, Y PODER ACCEDER A TABLA RECALL DIRECTAMENTE\n",
    "# EN MI NOTEBOOK DEL RESUMEN\n",
    "%store tabla_recall"
   ]
  },
  {
   "cell_type": "code",
   "execution_count": 47,
   "metadata": {},
   "outputs": [
    {
     "data": {
      "text/html": [
       "<div>\n",
       "<style scoped>\n",
       "    .dataframe tbody tr th:only-of-type {\n",
       "        vertical-align: middle;\n",
       "    }\n",
       "\n",
       "    .dataframe tbody tr th {\n",
       "        vertical-align: top;\n",
       "    }\n",
       "\n",
       "    .dataframe thead th {\n",
       "        text-align: right;\n",
       "    }\n",
       "</style>\n",
       "<table border=\"1\" class=\"dataframe\">\n",
       "  <thead>\n",
       "    <tr style=\"text-align: right;\">\n",
       "      <th></th>\n",
       "      <th>recall</th>\n",
       "    </tr>\n",
       "  </thead>\n",
       "  <tbody>\n",
       "    <tr>\n",
       "      <th>XGBoost</th>\n",
       "      <td>0.764163</td>\n",
       "    </tr>\n",
       "    <tr>\n",
       "      <th>Gradient Boosting</th>\n",
       "      <td>0.702289</td>\n",
       "    </tr>\n",
       "    <tr>\n",
       "      <th>Random Forest</th>\n",
       "      <td>0.613850</td>\n",
       "    </tr>\n",
       "    <tr>\n",
       "      <th>Ada Boosting</th>\n",
       "      <td>0.536444</td>\n",
       "    </tr>\n",
       "  </tbody>\n",
       "</table>\n",
       "</div>"
      ],
      "text/plain": [
       "                     recall\n",
       "XGBoost            0.764163\n",
       "Gradient Boosting  0.702289\n",
       "Random Forest      0.613850\n",
       "Ada Boosting       0.536444"
      ]
     },
     "execution_count": 47,
     "metadata": {},
     "output_type": "execute_result"
    }
   ],
   "source": [
    "# y ordenamos\n",
    "tabla_recall.sort_values(by=['recall'], ascending=False)\n",
    "# Tenemos que tener en cuenta que este recall es la media de LA CLASIFICACION DE LA CLASE 0 Y LA 1 TRAS EL CROSS VALIDATION, \n",
    "# Y LA DE LA CLASE 1 ES PEOR. AUNQUE EN OTRAS METRICAS LOS MODELOS SON MEJORES, el problema de la diferencia en clasificacion\n",
    "# de las dos  clases habria que intentar arreglarlo."
   ]
  },
  {
   "cell_type": "code",
   "execution_count": 48,
   "metadata": {},
   "outputs": [],
   "source": [
    "# SI QUEREMOS PROBAR ALGO PARA EQUIPARAR LA CLASES, DADO QUE ES MUY OBVIO QUE LA CLASIFICACION DE LA CLASE 1 \n",
    "# ES PEOR QUE DE LA CERO A PESAR DE HABER ELEGIDO MODELOS CONTRA EL DESBALANCEO,\n",
    "# PUES EL TARGET NO ESTA UN POCO, SI NO MUY DESBALANCEADO (88-11)"
   ]
  },
  {
   "cell_type": "code",
   "execution_count": 49,
   "metadata": {},
   "outputs": [
    {
     "name": "stderr",
     "output_type": "stream",
     "text": [
      "ERROR: Invalid requirement: '#'\n",
      "\n",
      "[notice] A new release of pip is available: 23.3.1 -> 24.0\n",
      "[notice] To update, run: python.exe -m pip install --upgrade pip\n",
      "c:\\Users\\Picar\\AppData\\Local\\Programs\\Python\\Python39\\lib\\site-packages\\joblib\\externals\\loky\\backend\\context.py:136: UserWarning: Could not find the number of physical cores for the following reason:\n",
      "found 0 physical cores < 1\n",
      "Returning the number of logical cores instead. You can silence this warning by setting LOKY_MAX_CPU_COUNT to the number of cores you want to use.\n",
      "  warnings.warn(\n",
      "  File \"c:\\Users\\Picar\\AppData\\Local\\Programs\\Python\\Python39\\lib\\site-packages\\joblib\\externals\\loky\\backend\\context.py\", line 282, in _count_physical_cores\n",
      "    raise ValueError(f\"found {cpu_count_physical} physical cores < 1\")\n"
     ]
    }
   ],
   "source": [
    "# PARA EVITAR VERNOS INFLUENCIADOS POR LA CLASE DOMINANTE 0(EN ESTE CASO, QUE EL AGUA SEA NO SEGURA) PROBAREMOS A RESAMPLEAR\n",
    "!pip install imbalanced-learn # me descargo este modulo\n",
    "from imblearn.over_sampling import SMOTE # oversampling, INTRODUCIMOS DATOS FICTICIOS DE LA CLASE MENOR\n",
    "smote = SMOTE()\n",
    "X_resampled, y_resampled = smote.fit_resample(X, y)"
   ]
  },
  {
   "cell_type": "code",
   "execution_count": 50,
   "metadata": {},
   "outputs": [
    {
     "data": {
      "text/plain": [
       "array([[ 0.77740287, -0.58549134, -0.48087476, ...,  1.05369443,\n",
       "         1.33873624, -0.91704015],\n",
       "       [ 1.30694501,  0.77511802, -0.59963176, ...,  1.05369443,\n",
       "         0.85113427,  0.19802266],\n",
       "       [ 0.27157158, -0.02908321, -0.48087476, ...,  0.70612871,\n",
       "         2.03531047, -1.28872776],\n",
       "       ...,\n",
       "       [-0.19119862, -0.99547627, -0.63525886, ...,  0.70612871,\n",
       "        -0.68132905, -1.28872776],\n",
       "       [ 1.82122518, -0.5736653 , -0.5296376 , ..., -0.1248952 ,\n",
       "         0.46548717, -0.54535255],\n",
       "       [ 0.23520737, -1.03388714, -0.63363767, ..., -0.68778399,\n",
       "         1.95614385, -0.5336432 ]])"
      ]
     },
     "execution_count": 50,
     "metadata": {},
     "output_type": "execute_result"
    }
   ],
   "source": [
    "X_resampled"
   ]
  },
  {
   "cell_type": "code",
   "execution_count": 51,
   "metadata": {},
   "outputs": [
    {
     "data": {
      "text/plain": [
       "0        1.0\n",
       "1        1.0\n",
       "2        0.0\n",
       "3        1.0\n",
       "4        1.0\n",
       "        ... \n",
       "14163    1.0\n",
       "14164    1.0\n",
       "14165    1.0\n",
       "14166    1.0\n",
       "14167    1.0\n",
       "Name: is_safe, Length: 14168, dtype: float64"
      ]
     },
     "execution_count": 51,
     "metadata": {},
     "output_type": "execute_result"
    }
   ],
   "source": [
    "y_resampled"
   ]
  },
  {
   "cell_type": "code",
   "execution_count": 52,
   "metadata": {},
   "outputs": [],
   "source": [
    "# y lo intentaremos asi, AUNQUE HAY QUE TENER CUIDADO Y REVISAR SI SE HAN INTRODUCIDO SESGOS EN LOS DATOS, AUNQUE ES DIFICIL DE SABER\n",
    "# Y REVISAR MUY BIEN EL OVERFITTING\n",
    "X_train, X_test, y_train, y_test = train_test_split(X_resampled, y_resampled, test_size=0.2, random_state=42)"
   ]
  },
  {
   "cell_type": "code",
   "execution_count": 53,
   "metadata": {},
   "outputs": [
    {
     "name": "stdout",
     "output_type": "stream",
     "text": [
      "Total features shape: (7996, 20)\n",
      "Train features shape: (11334, 20)\n",
      "Train target shape: (11334,)\n",
      "Test features shape: (2834, 20)\n",
      "Test target shape: (2834,)\n"
     ]
    }
   ],
   "source": [
    "print(\"Total features shape:\", X.shape)\n",
    "print(\"Train features shape:\", X_train.shape)\n",
    "print(\"Train target shape:\", y_train.shape)\n",
    "print(\"Test features shape:\", X_test.shape)\n",
    "print(\"Test target shape:\", y_test.shape)"
   ]
  },
  {
   "cell_type": "code",
   "execution_count": 54,
   "metadata": {},
   "outputs": [
    {
     "name": "stdout",
     "output_type": "stream",
     "text": [
      "Accuracy: 0.7992237120677488\n"
     ]
    }
   ],
   "source": [
    "# EMPEZAMOS POR REGRESION LOGISTICA\n",
    "model = LogisticRegression()\n",
    "model.fit(X_train, y_train)\n",
    "y_pred = model.predict(X_test)\n",
    "accuracy = accuracy_score(y_test, y_pred) # CALCULAMOS LA PRECISION\n",
    "print(\"Accuracy:\", accuracy) \n",
    "# BUENO, NO ESTA MAL"
   ]
  },
  {
   "cell_type": "code",
   "execution_count": 55,
   "metadata": {},
   "outputs": [
    {
     "data": {
      "text/plain": [
       "array([0., 1.])"
      ]
     },
     "execution_count": 55,
     "metadata": {},
     "output_type": "execute_result"
    }
   ],
   "source": [
    "model.classes_"
   ]
  },
  {
   "cell_type": "code",
   "execution_count": 56,
   "metadata": {},
   "outputs": [
    {
     "name": "stdout",
     "output_type": "stream",
     "text": [
      "              precision    recall  f1-score   support\n",
      "\n",
      "         0.0       0.80      0.81      0.80      1420\n",
      "         1.0       0.80      0.79      0.80      1414\n",
      "\n",
      "    accuracy                           0.80      2834\n",
      "   macro avg       0.80      0.80      0.80      2834\n",
      "weighted avg       0.80      0.80      0.80      2834\n",
      "\n",
      "Stored 'metricas_regresion' (str)\n"
     ]
    }
   ],
   "source": [
    "# Para ver todas las metricas\n",
    "from sklearn.metrics import classification_report\n",
    "metricas_regresion = classification_report(y_test, y_pred)\n",
    "print(classification_report(y_test, y_pred))\n",
    "# NO ESTA MAL, Y PARECE QUE SE EQUILIBRAN LAS METRICAS EN AMBAS CLASES\n",
    "%store metricas_regresion"
   ]
  },
  {
   "cell_type": "code",
   "execution_count": 57,
   "metadata": {},
   "outputs": [
    {
     "name": "stdout",
     "output_type": "stream",
     "text": [
      "Stored 'results' (ndarray)\n"
     ]
    }
   ],
   "source": [
    "# HACEMOS UN CROSS VALIDATIOM, pondremos el recall como metrica, PORQUE ME INTERESA LAS INSTANCIAS POSITIVAS SOBRE LAS REALES\n",
    "# ESPECIALMENTE, AUNQUE LE ECHO UN VISTAZO A TODAS\n",
    "\n",
    "results = cross_val_score(model, X_resampled, y_resampled, cv=10, scoring = 'recall')\n",
    "\n",
    "results\n",
    "%store results\n",
    "# parece que hay algunos cortes que funcionan bastante mejor que otros.\n",
    "# ALGUNOS ESTAN A 0,64 Y OTROS A 0,88, PUEDE SER QUE NO SEA EL MEJOR MODELO."
   ]
  },
  {
   "cell_type": "code",
   "execution_count": 58,
   "metadata": {},
   "outputs": [
    {
     "data": {
      "text/plain": [
       "array([0.87447109, 0.64315938, 0.7842031 , 0.77856135, 0.79378531,\n",
       "       0.78107345, 0.7980226 , 0.80932203, 0.75564972, 0.7980226 ])"
      ]
     },
     "execution_count": 58,
     "metadata": {},
     "output_type": "execute_result"
    }
   ],
   "source": [
    "results"
   ]
  },
  {
   "cell_type": "code",
   "execution_count": 59,
   "metadata": {},
   "outputs": [
    {
     "name": "stdout",
     "output_type": "stream",
     "text": [
      "0.7816270628640641\n"
     ]
    }
   ],
   "source": [
    "print(results.mean())"
   ]
  },
  {
   "cell_type": "code",
   "execution_count": 60,
   "metadata": {},
   "outputs": [
    {
     "name": "stdout",
     "output_type": "stream",
     "text": [
      "              precision    recall  f1-score   support\n",
      "\n",
      "         0.0       0.79      0.81      0.80      5664\n",
      "         1.0       0.80      0.78      0.79      5670\n",
      "\n",
      "    accuracy                           0.79     11334\n",
      "   macro avg       0.79      0.79      0.79     11334\n",
      "weighted avg       0.79      0.79      0.79     11334\n",
      "\n"
     ]
    }
   ],
   "source": [
    "# vamos a comprobar con el train, para asegurar el overfitting, si empeora mucho con respecto al test, ES OVERFITTING\n",
    "y_train_pred = model.predict(X_train)\n",
    "print(classification_report(y_train,y_train_pred))\n",
    "# NO EMPEORA MUCHO TAMPOCO, ES BASTANTE SIMILAR."
   ]
  },
  {
   "cell_type": "code",
   "execution_count": 61,
   "metadata": {},
   "outputs": [
    {
     "data": {
      "text/plain": [
       "<Axes: >"
      ]
     },
     "execution_count": 61,
     "metadata": {},
     "output_type": "execute_result"
    },
    {
     "data": {
      "image/png": "[encoded data removed]",
      "text/plain": [
       "<Figure size 640x480 with 2 Axes>"
      ]
     },
     "metadata": {},
     "output_type": "display_data"
    }
   ],
   "source": [
    "# y su matriz de confusion\n",
    "sns.heatmap(confusion_matrix(y_test, y_pred, normalize='true'), annot=True)"
   ]
  },
  {
   "cell_type": "code",
   "execution_count": 62,
   "metadata": {},
   "outputs": [
    {
     "name": "stderr",
     "output_type": "stream",
     "text": [
      "c:\\Users\\Picar\\AppData\\Local\\Programs\\Python\\Python39\\lib\\site-packages\\sklearn\\svm\\_classes.py:32: FutureWarning: The default value of `dual` will change from `True` to `'auto'` in 1.5. Set the value of `dual` explicitly to suppress the warning.\n",
      "  warnings.warn(\n",
      "c:\\Users\\Picar\\AppData\\Local\\Programs\\Python\\Python39\\lib\\site-packages\\sklearn\\svm\\_base.py:1250: ConvergenceWarning: Liblinear failed to converge, increase the number of iterations.\n",
      "  warnings.warn(\n"
     ]
    }
   ],
   "source": [
    "# PROBAMOS SVC TAMBIEN\n",
    "from sklearn.svm import SVC, LinearSVC\n",
    "svc = LinearSVC(C=10, loss='hinge', max_iter=10000)\n",
    "svc.fit(X_train,y_train)\n",
    "pred_svm = svc.predict(X_test)"
   ]
  },
  {
   "cell_type": "code",
   "execution_count": 63,
   "metadata": {},
   "outputs": [
    {
     "name": "stderr",
     "output_type": "stream",
     "text": [
      "c:\\Users\\Picar\\AppData\\Local\\Programs\\Python\\Python39\\lib\\site-packages\\sklearn\\svm\\_classes.py:32: FutureWarning: The default value of `dual` will change from `True` to `'auto'` in 1.5. Set the value of `dual` explicitly to suppress the warning.\n",
      "  warnings.warn(\n",
      "c:\\Users\\Picar\\AppData\\Local\\Programs\\Python\\Python39\\lib\\site-packages\\sklearn\\svm\\_base.py:1250: ConvergenceWarning: Liblinear failed to converge, increase the number of iterations.\n",
      "  warnings.warn(\n",
      "c:\\Users\\Picar\\AppData\\Local\\Programs\\Python\\Python39\\lib\\site-packages\\sklearn\\svm\\_classes.py:32: FutureWarning: The default value of `dual` will change from `True` to `'auto'` in 1.5. Set the value of `dual` explicitly to suppress the warning.\n",
      "  warnings.warn(\n",
      "c:\\Users\\Picar\\AppData\\Local\\Programs\\Python\\Python39\\lib\\site-packages\\sklearn\\svm\\_base.py:1250: ConvergenceWarning: Liblinear failed to converge, increase the number of iterations.\n",
      "  warnings.warn(\n",
      "c:\\Users\\Picar\\AppData\\Local\\Programs\\Python\\Python39\\lib\\site-packages\\sklearn\\svm\\_classes.py:32: FutureWarning: The default value of `dual` will change from `True` to `'auto'` in 1.5. Set the value of `dual` explicitly to suppress the warning.\n",
      "  warnings.warn(\n",
      "c:\\Users\\Picar\\AppData\\Local\\Programs\\Python\\Python39\\lib\\site-packages\\sklearn\\svm\\_base.py:1250: ConvergenceWarning: Liblinear failed to converge, increase the number of iterations.\n",
      "  warnings.warn(\n",
      "c:\\Users\\Picar\\AppData\\Local\\Programs\\Python\\Python39\\lib\\site-packages\\sklearn\\svm\\_classes.py:32: FutureWarning: The default value of `dual` will change from `True` to `'auto'` in 1.5. Set the value of `dual` explicitly to suppress the warning.\n",
      "  warnings.warn(\n",
      "c:\\Users\\Picar\\AppData\\Local\\Programs\\Python\\Python39\\lib\\site-packages\\sklearn\\svm\\_base.py:1250: ConvergenceWarning: Liblinear failed to converge, increase the number of iterations.\n",
      "  warnings.warn(\n",
      "c:\\Users\\Picar\\AppData\\Local\\Programs\\Python\\Python39\\lib\\site-packages\\sklearn\\svm\\_classes.py:32: FutureWarning: The default value of `dual` will change from `True` to `'auto'` in 1.5. Set the value of `dual` explicitly to suppress the warning.\n",
      "  warnings.warn(\n",
      "c:\\Users\\Picar\\AppData\\Local\\Programs\\Python\\Python39\\lib\\site-packages\\sklearn\\svm\\_base.py:1250: ConvergenceWarning: Liblinear failed to converge, increase the number of iterations.\n",
      "  warnings.warn(\n",
      "c:\\Users\\Picar\\AppData\\Local\\Programs\\Python\\Python39\\lib\\site-packages\\sklearn\\svm\\_classes.py:32: FutureWarning: The default value of `dual` will change from `True` to `'auto'` in 1.5. Set the value of `dual` explicitly to suppress the warning.\n",
      "  warnings.warn(\n",
      "c:\\Users\\Picar\\AppData\\Local\\Programs\\Python\\Python39\\lib\\site-packages\\sklearn\\svm\\_base.py:1250: ConvergenceWarning: Liblinear failed to converge, increase the number of iterations.\n",
      "  warnings.warn(\n",
      "c:\\Users\\Picar\\AppData\\Local\\Programs\\Python\\Python39\\lib\\site-packages\\sklearn\\svm\\_classes.py:32: FutureWarning: The default value of `dual` will change from `True` to `'auto'` in 1.5. Set the value of `dual` explicitly to suppress the warning.\n",
      "  warnings.warn(\n",
      "c:\\Users\\Picar\\AppData\\Local\\Programs\\Python\\Python39\\lib\\site-packages\\sklearn\\svm\\_base.py:1250: ConvergenceWarning: Liblinear failed to converge, increase the number of iterations.\n",
      "  warnings.warn(\n",
      "c:\\Users\\Picar\\AppData\\Local\\Programs\\Python\\Python39\\lib\\site-packages\\sklearn\\svm\\_classes.py:32: FutureWarning: The default value of `dual` will change from `True` to `'auto'` in 1.5. Set the value of `dual` explicitly to suppress the warning.\n",
      "  warnings.warn(\n",
      "c:\\Users\\Picar\\AppData\\Local\\Programs\\Python\\Python39\\lib\\site-packages\\sklearn\\svm\\_base.py:1250: ConvergenceWarning: Liblinear failed to converge, increase the number of iterations.\n",
      "  warnings.warn(\n",
      "c:\\Users\\Picar\\AppData\\Local\\Programs\\Python\\Python39\\lib\\site-packages\\sklearn\\svm\\_classes.py:32: FutureWarning: The default value of `dual` will change from `True` to `'auto'` in 1.5. Set the value of `dual` explicitly to suppress the warning.\n",
      "  warnings.warn(\n",
      "c:\\Users\\Picar\\AppData\\Local\\Programs\\Python\\Python39\\lib\\site-packages\\sklearn\\svm\\_base.py:1250: ConvergenceWarning: Liblinear failed to converge, increase the number of iterations.\n",
      "  warnings.warn(\n",
      "c:\\Users\\Picar\\AppData\\Local\\Programs\\Python\\Python39\\lib\\site-packages\\sklearn\\svm\\_classes.py:32: FutureWarning: The default value of `dual` will change from `True` to `'auto'` in 1.5. Set the value of `dual` explicitly to suppress the warning.\n",
      "  warnings.warn(\n",
      "c:\\Users\\Picar\\AppData\\Local\\Programs\\Python\\Python39\\lib\\site-packages\\sklearn\\svm\\_base.py:1250: ConvergenceWarning: Liblinear failed to converge, increase the number of iterations.\n",
      "  warnings.warn(\n"
     ]
    },
    {
     "data": {
      "text/plain": [
       "array([0.88434415, 0.62059238, 0.77150917, 0.77715092, 0.78389831,\n",
       "       0.77966102, 0.81073446, 0.81355932, 0.75706215, 0.79661017])"
      ]
     },
     "execution_count": 63,
     "metadata": {},
     "output_type": "execute_result"
    }
   ],
   "source": [
    "# Y EL CROSS VALIDATION\n",
    "val_SVC = cross_val_score(svc, X_resampled, y_resampled, cv=10, scoring = 'recall')\n",
    "\n",
    "val_SVC\n",
    "# HAY CORTES A 0,61 Y OTROS A 0,89 DE RECALL, BASTANTE VARIEDAD."
   ]
  },
  {
   "cell_type": "code",
   "execution_count": 64,
   "metadata": {},
   "outputs": [
    {
     "data": {
      "text/plain": [
       "0.779512203867945"
      ]
     },
     "execution_count": 64,
     "metadata": {},
     "output_type": "execute_result"
    }
   ],
   "source": [
    "val_SVC.mean()"
   ]
  },
  {
   "cell_type": "code",
   "execution_count": 65,
   "metadata": {},
   "outputs": [
    {
     "data": {
      "text/plain": [
       "<Axes: >"
      ]
     },
     "execution_count": 65,
     "metadata": {},
     "output_type": "execute_result"
    },
    {
     "data": {
      "image/png": "[encoded data removed]",
      "text/plain": [
       "<Figure size 640x480 with 2 Axes>"
      ]
     },
     "metadata": {},
     "output_type": "display_data"
    }
   ],
   "source": [
    "sns.heatmap(confusion_matrix(y_test, pred_svm , normalize='true'), annot=True)\n",
    "# da mas o menos los mismos datos que la regresion logistica"
   ]
  },
  {
   "cell_type": "code",
   "execution_count": 66,
   "metadata": {},
   "outputs": [
    {
     "name": "stdout",
     "output_type": "stream",
     "text": [
      "              precision    recall  f1-score   support\n",
      "\n",
      "         0.0       0.80      0.81      0.81      1420\n",
      "         1.0       0.81      0.79      0.80      1414\n",
      "\n",
      "    accuracy                           0.80      2834\n",
      "   macro avg       0.80      0.80      0.80      2834\n",
      "weighted avg       0.80      0.80      0.80      2834\n",
      "\n",
      "Stored 'metricas_svm' (str)\n"
     ]
    }
   ],
   "source": [
    "metricas_svm = classification_report(y_test,pred_svm)\n",
    "print(classification_report(y_test,pred_svm))\n",
    "# no esta mal, pero no creo que sea el mejor modelo\n",
    "%store metricas_svm"
   ]
  },
  {
   "cell_type": "code",
   "execution_count": 67,
   "metadata": {},
   "outputs": [
    {
     "name": "stdout",
     "output_type": "stream",
     "text": [
      "0.9054340155257586\n"
     ]
    }
   ],
   "source": [
    "# vamos a intentarlo con otro modelo, en este caso UN ARBOL DE DECISIONES\n",
    "from sklearn.tree import DecisionTreeClassifier\n",
    "model_arbol = DecisionTreeClassifier(max_depth=4, random_state=42)\n",
    "model_arbol.fit(X_train,y_train)\n",
    "pred_dt = model_arbol.predict(X_test)\n",
    "dt = accuracy_score(y_test, pred_dt)\n",
    "print(dt)"
   ]
  },
  {
   "cell_type": "code",
   "execution_count": 68,
   "metadata": {},
   "outputs": [
    {
     "name": "stdout",
     "output_type": "stream",
     "text": [
      "              precision    recall  f1-score   support\n",
      "\n",
      "         0.0       0.94      0.87      0.90      1420\n",
      "         1.0       0.88      0.94      0.91      1414\n",
      "\n",
      "    accuracy                           0.91      2834\n",
      "   macro avg       0.91      0.91      0.91      2834\n",
      "weighted avg       0.91      0.91      0.91      2834\n",
      "\n",
      "Stored 'metricas_decission_tree' (str)\n"
     ]
    }
   ],
   "source": [
    "metricas_decission_tree = classification_report(y_test,pred_dt)\n",
    "print(classification_report(y_test,pred_dt))\n",
    "# EL MODELO NO ES MALO,DE HECHO EL RECALL ES EL MEJOR DE TODOS EN LA CLASIFICACION DE LA CLASE 1.\n",
    "# pero vamos a hacer la validacion cruzada, para comprobar que no hay overfitting\n",
    "%store metricas_decission_tree"
   ]
  },
  {
   "cell_type": "code",
   "execution_count": 69,
   "metadata": {},
   "outputs": [
    {
     "name": "stdout",
     "output_type": "stream",
     "text": [
      "Stored 'val_arbol' (ndarray)\n"
     ]
    }
   ],
   "source": [
    "#y hacemos el cross validation\n",
    "val_arbol = cross_val_score(model_arbol, X_resampled, y_resampled, cv=10, scoring = 'recall')\n",
    "val_arbol\n",
    "# empeora especialmente, en cada corte, hay algunos que estan en 59 y otros en 94\n",
    "%store val_arbol"
   ]
  },
  {
   "cell_type": "code",
   "execution_count": 70,
   "metadata": {},
   "outputs": [
    {
     "name": "stdout",
     "output_type": "stream",
     "text": [
      "0.8939914975337271\n"
     ]
    }
   ],
   "source": [
    "print(val_arbol.mean())"
   ]
  },
  {
   "cell_type": "code",
   "execution_count": 71,
   "metadata": {},
   "outputs": [
    {
     "name": "stdout",
     "output_type": "stream",
     "text": [
      "              precision    recall  f1-score   support\n",
      "\n",
      "         0.0       0.94      0.88      0.91      5664\n",
      "         1.0       0.88      0.94      0.91      5670\n",
      "\n",
      "    accuracy                           0.91     11334\n",
      "   macro avg       0.91      0.91      0.91     11334\n",
      "weighted avg       0.91      0.91      0.91     11334\n",
      "\n"
     ]
    }
   ],
   "source": [
    "# y vamos a comprobar con el train, para asegurar el overfitting, si empeora mucho con respecto al test, ES OVERFITTING\n",
    "y_train_pred1 = model_arbol.predict(X_train)\n",
    "print(classification_report(y_train,y_train_pred1))\n",
    "# NO EMPEORA MUCHO TAMPOCO, SOLO UN POCO, IGUAL EL CORTE EN CROSS DE UN 59 ES POR OTRO MOTIVO EN LOS DATOS."
   ]
  },
  {
   "cell_type": "code",
   "execution_count": 72,
   "metadata": {},
   "outputs": [
    {
     "data": {
      "text/plain": [
       "array([0.46764272, 0.01373165, 0.        , 0.        , 0.15048352,\n",
       "       0.00508785, 0.        , 0.        , 0.        , 0.        ,\n",
       "       0.0383391 , 0.        , 0.04898833, 0.0584818 , 0.        ,\n",
       "       0.06002807, 0.        , 0.        , 0.11460787, 0.0426091 ])"
      ]
     },
     "execution_count": 72,
     "metadata": {},
     "output_type": "execute_result"
    }
   ],
   "source": [
    "# PARA VER A CUAL DE LAS COLUMNAS SE LE DA MAS IMPORTANCIA EN ESTE MODELO\n",
    "model_arbol.feature_importances_ "
   ]
  },
  {
   "cell_type": "code",
   "execution_count": 73,
   "metadata": {},
   "outputs": [
    {
     "data": {
      "text/plain": [
       "array([0.46764272, 0.15048352, 0.11460787, 0.06002807, 0.0584818 ,\n",
       "       0.04898833, 0.0426091 , 0.0383391 , 0.01373165, 0.00508785,\n",
       "       0.        , 0.        , 0.        , 0.        , 0.        ,\n",
       "       0.        , 0.        , 0.        , 0.        , 0.        ])"
      ]
     },
     "execution_count": 73,
     "metadata": {},
     "output_type": "execute_result"
    }
   ],
   "source": [
    "columnas_importancia = model_arbol.feature_importances_\n",
    "importancia_ordenada= np.sort(columnas_importancia,axis=-1)[::-1]\n",
    "importancia_ordenada\n",
    "# podemos ver que nuestro modelo de arbol, SOLO LE DA PRIORIDAD A LA MITAD DE LAS VARIABLES, EL RESTO NI LAS TIENE EN CONSIDERACION, LES DA UN VALOR DE CERO IMPORTANCIA.\n",
    "# NOS GUARDAMOS ESTA INFORMACION, PUES ES POSIBLE QUE ELIMINANDO VARIABLES OBTENGAMOS MEJORES DATOS."
   ]
  },
  {
   "cell_type": "code",
   "execution_count": 74,
   "metadata": {},
   "outputs": [
    {
     "data": {
      "image/png": "[encoded data removed]",
      "text/plain": [
       "<Figure size 1000x600 with 1 Axes>"
      ]
     },
     "metadata": {},
     "output_type": "display_data"
    }
   ],
   "source": [
    "# y representamos la importancia en un grafico\n",
    "X_importancia = calidad1.drop(['is_safe'],axis=1)\n",
    "importancias = model_arbol.feature_importances_\n",
    "nombres_caracteristicas = X_importancia.columns\n",
    "\n",
    "plt.figure(figsize=(10, 6))\n",
    "plt.barh(range(len(nombres_caracteristicas)), importancias, align='center')\n",
    "plt.yticks(range(len(nombres_caracteristicas)), nombres_caracteristicas)\n",
    "plt.xlabel('Importancia')\n",
    "plt.ylabel('Característica')\n",
    "plt.title('Importancia de las Características')\n",
    "plt.show()\n",
    "# Y ASI VISUALIZAMOS LA IMPORTANCIA QUE SE LE DA A CADA UNA DE LAS COLUMNAS en este modelo de arbol, Y A LA QUE MAS IMPORTANCIA LE DA ES AL ALUMINIO,\n",
    "# AL CADMIO Y A LA PLATA. Tambien vemos que hay algunos, como el selenio, radio o el bario, al que este modelo no\n",
    "# les da casi ninguna importancia"
   ]
  },
  {
   "cell_type": "code",
   "execution_count": 75,
   "metadata": {},
   "outputs": [
    {
     "data": {
      "text/plain": [
       "<Axes: >"
      ]
     },
     "execution_count": 75,
     "metadata": {},
     "output_type": "execute_result"
    },
    {
     "data": {
      "image/png": "[encoded data removed]",
      "text/plain": [
       "<Figure size 640x480 with 2 Axes>"
      ]
     },
     "metadata": {},
     "output_type": "display_data"
    }
   ],
   "source": [
    "# y la matriz de confusion\n",
    "sns.heatmap(confusion_matrix(y_test, pred_dt , normalize='true'), annot=True)"
   ]
  },
  {
   "cell_type": "code",
   "execution_count": 76,
   "metadata": {},
   "outputs": [],
   "source": [
    "# TODOS LOS MODELOS, TANTO REGRESION LINEAL,SVC, COMO DECISSION TREE SON BASTANTE BUENOS tras el resampleo,\n",
    "# AUNQUE TIENEN BASTANTE VARIEDAD EN EL RECALL DE LOS CORTES DEL CROSS VALIDATION, \n",
    "# PERO PODEMOS VER SI PROBANDO ENSEMBLES (como los anteriores) RESAMPLEADOS CONSEGUIMOS MEJORES DATOS, siempre vigilando el overfitting"
   ]
  },
  {
   "cell_type": "code",
   "execution_count": 77,
   "metadata": {},
   "outputs": [],
   "source": [
    "# Empezamos con un random forest\n",
    "from sklearn.ensemble import RandomForestClassifier\n",
    "model_rf_resampleado = RandomForestClassifier(n_estimators=100,max_features=3, random_state=42)\n",
    "model_rf_resampleado.fit(X_train, y_train)\n",
    "pred_rf_resampleado = model_rf_resampleado.predict(X_test)"
   ]
  },
  {
   "cell_type": "code",
   "execution_count": 78,
   "metadata": {},
   "outputs": [],
   "source": [
    "# Hacemos una validacion cruzada, para ver si los datos tienen sentido\n",
    "from sklearn.model_selection import cross_val_score\n",
    "model_rf_val_res = RandomForestClassifier(n_estimators=100, max_features=3, random_state=42)\n",
    "results_cv_rf_res = cross_val_score(model_rf_val_res, X_train, y_train, cv=10, scoring='recall')"
   ]
  },
  {
   "cell_type": "code",
   "execution_count": 79,
   "metadata": {},
   "outputs": [
    {
     "name": "stdout",
     "output_type": "stream",
     "text": [
      "[0.98412698 0.98412698 0.98412698 0.98941799 0.97530864 0.97178131\n",
      " 0.98412698 0.98236332 0.98765432 0.98412698]\n",
      "0.982716049382716\n"
     ]
    }
   ],
   "source": [
    "print(results_cv_rf_res)\n",
    "print(results_cv_rf_res.mean())\n",
    "# en principio, todos los cortes tienen mas o menos lo mismo, pero la media es muy mala"
   ]
  },
  {
   "cell_type": "code",
   "execution_count": 80,
   "metadata": {},
   "outputs": [
    {
     "name": "stdout",
     "output_type": "stream",
     "text": [
      "              precision    recall  f1-score   support\n",
      "\n",
      "         0.0       0.99      0.97      0.98      1420\n",
      "         1.0       0.97      0.99      0.98      1414\n",
      "\n",
      "    accuracy                           0.98      2834\n",
      "   macro avg       0.98      0.98      0.98      2834\n",
      "weighted avg       0.98      0.98      0.98      2834\n",
      "\n"
     ]
    }
   ],
   "source": [
    "# USO CLASIFICACION REPORT, PARA VER todas las metricas\n",
    "print(classification_report(y_test,pred_rf_resampleado))"
   ]
  },
  {
   "cell_type": "code",
   "execution_count": 81,
   "metadata": {},
   "outputs": [
    {
     "data": {
      "text/plain": [
       "<Axes: >"
      ]
     },
     "execution_count": 81,
     "metadata": {},
     "output_type": "execute_result"
    },
    {
     "data": {
      "image/png": "[encoded data removed]",
      "text/plain": [
       "<Figure size 640x480 with 2 Axes>"
      ]
     },
     "metadata": {},
     "output_type": "display_data"
    }
   ],
   "source": [
    "# y la matriz de confusion\n",
    "sns.heatmap(confusion_matrix(y_test, pred_rf_resampleado, normalize='true'), annot=True)"
   ]
  },
  {
   "cell_type": "code",
   "execution_count": 82,
   "metadata": {},
   "outputs": [
    {
     "data": {
      "text/plain": [
       "array([0.18287895, 0.0229079 , 0.07925353, 0.02326999, 0.09901419,\n",
       "       0.06485435, 0.05451257, 0.03019472, 0.01386511, 0.02806753,\n",
       "       0.0493066 , 0.0249638 , 0.03423133, 0.04290091, 0.01456401,\n",
       "       0.075667  , 0.02882173, 0.0186125 , 0.06552629, 0.04658699])"
      ]
     },
     "execution_count": 82,
     "metadata": {},
     "output_type": "execute_result"
    }
   ],
   "source": [
    "# tambien podemos sacar la importancia de las features\n",
    "model_rf_resampleado.feature_importances_ "
   ]
  },
  {
   "cell_type": "code",
   "execution_count": 83,
   "metadata": {},
   "outputs": [
    {
     "data": {
      "image/png": "[encoded data removed]",
      "text/plain": [
       "<Figure size 1000x600 with 1 Axes>"
      ]
     },
     "metadata": {},
     "output_type": "display_data"
    }
   ],
   "source": [
    "# y representamos la importancia en un grafico\n",
    "X_importancia = calidad1.drop(['is_safe'],axis=1)\n",
    "importancias = model_rf_resampleado.feature_importances_\n",
    "nombres_caracteristicas = X_importancia.columns\n",
    "\n",
    "plt.figure(figsize=(10, 6))\n",
    "plt.barh(range(len(nombres_caracteristicas)), importancias, align='center')\n",
    "plt.yticks(range(len(nombres_caracteristicas)), nombres_caracteristicas)\n",
    "plt.xlabel('Importancia')\n",
    "plt.ylabel('Característica')\n",
    "plt.title('Importancia de las Características')\n",
    "plt.show()\n",
    "# en este modelo, la importancia esta mas repartida entre todas las variables que en el modelo decission tree."
   ]
  },
  {
   "cell_type": "code",
   "execution_count": 84,
   "metadata": {},
   "outputs": [],
   "source": [
    "# ahora con adaboost\n",
    "model_ADA_resampleado = AdaBoostClassifier(n_estimators=30, random_state=42)\n",
    "\n",
    "results_cv_ab_resampleado = cross_val_score(model_ADA_resampleado, X_train, y_train, cv=10, scoring='recall')"
   ]
  },
  {
   "cell_type": "code",
   "execution_count": 85,
   "metadata": {},
   "outputs": [
    {
     "name": "stdout",
     "output_type": "stream",
     "text": [
      "[0.90299824 0.87654321 0.87830688 0.86243386 0.88536155 0.88007055\n",
      " 0.88536155 0.91534392 0.87654321 0.86948854]\n",
      "0.8832451499118166\n"
     ]
    }
   ],
   "source": [
    "print(results_cv_ab_resampleado)\n",
    "print(results_cv_ab_resampleado.mean()) "
   ]
  },
  {
   "cell_type": "code",
   "execution_count": 86,
   "metadata": {},
   "outputs": [],
   "source": [
    "# ENTRENAMOS EL MODELO Y PREDECIMOS PARA PODER CONSEGUIR EL CLASSIFICATION REPORT\n",
    "model_ADA_resampleado.fit(X_train, y_train)\n",
    "pred_ADA_res = model_ADA_resampleado.predict(X_test)"
   ]
  },
  {
   "cell_type": "code",
   "execution_count": 87,
   "metadata": {},
   "outputs": [
    {
     "name": "stdout",
     "output_type": "stream",
     "text": [
      "              precision    recall  f1-score   support\n",
      "\n",
      "         0.0       0.90      0.90      0.90      1420\n",
      "         1.0       0.90      0.90      0.90      1414\n",
      "\n",
      "    accuracy                           0.90      2834\n",
      "   macro avg       0.90      0.90      0.90      2834\n",
      "weighted avg       0.90      0.90      0.90      2834\n",
      "\n"
     ]
    }
   ],
   "source": [
    "# Y LA EVALUACION DE TODAS LAS METRICAS\n",
    "print(classification_report(y_test,pred_ADA_res))  "
   ]
  },
  {
   "cell_type": "code",
   "execution_count": 88,
   "metadata": {},
   "outputs": [
    {
     "data": {
      "text/plain": [
       "<Axes: >"
      ]
     },
     "execution_count": 88,
     "metadata": {},
     "output_type": "execute_result"
    },
    {
     "data": {
      "image/png": "[encoded data removed]",
      "text/plain": [
       "<Figure size 640x480 with 2 Axes>"
      ]
     },
     "metadata": {},
     "output_type": "display_data"
    }
   ],
   "source": [
    "sns.heatmap(confusion_matrix(y_test, pred_ADA_res, normalize='true'), annot=True)"
   ]
  },
  {
   "cell_type": "code",
   "execution_count": 89,
   "metadata": {},
   "outputs": [
    {
     "data": {
      "text/plain": [
       "array([0.1       , 0.03333333, 0.1       , 0.        , 0.13333333,\n",
       "       0.06666667, 0.        , 0.03333333, 0.        , 0.        ,\n",
       "       0.1       , 0.03333333, 0.03333333, 0.03333333, 0.03333333,\n",
       "       0.06666667, 0.03333333, 0.03333333, 0.06666667, 0.1       ])"
      ]
     },
     "execution_count": 89,
     "metadata": {},
     "output_type": "execute_result"
    }
   ],
   "source": [
    "model_ADA_resampleado.feature_importances_ "
   ]
  },
  {
   "cell_type": "code",
   "execution_count": 90,
   "metadata": {},
   "outputs": [
    {
     "data": {
      "image/png": "[encoded data removed]",
      "text/plain": [
       "<Figure size 1000x600 with 1 Axes>"
      ]
     },
     "metadata": {},
     "output_type": "display_data"
    }
   ],
   "source": [
    "# y representamos la importancia en un grafico\n",
    "X_importancia = calidad1.drop(['is_safe'],axis=1)\n",
    "importancias = model_ADA_resampleado.feature_importances_\n",
    "nombres_caracteristicas = X_importancia.columns\n",
    "\n",
    "plt.figure(figsize=(10, 6))\n",
    "plt.barh(range(len(nombres_caracteristicas)), importancias, align='center')\n",
    "plt.yticks(range(len(nombres_caracteristicas)), nombres_caracteristicas)\n",
    "plt.xlabel('Importancia')\n",
    "plt.ylabel('Característica')\n",
    "plt.title('Importancia de las Características')\n",
    "plt.show()\n",
    "# aunque el porcentaje de importancia es algo distinto, se siguen manteniendo en los primeros puestos de importancia\n",
    "# el aluminio y el cadmio, EL PERCLORATO Y EL URANIUM SE DISPARAN CON RESPECTO A LOS OTROS ANALISIS.\n",
    "# EN ESTE MODELO, NO TODAS LAS FEATURES TIENEN IMPORTANCIA COMO EN RANDOM FOREST. ALGUNAS COMO EL MERCURIO, BACTERIAS O CROMO\n",
    "# NO SON NADA REPRESENTATIVAS"
   ]
  },
  {
   "cell_type": "code",
   "execution_count": 91,
   "metadata": {},
   "outputs": [],
   "source": [
    "# PASAMOS A GRADIENT BOOSTING\n",
    "model_gbc_resampleado = GradientBoostingClassifier(n_estimators=100, random_state=42)\n",
    "results_cv_gb_resampleado = cross_val_score(model_gbc_resampleado,X_train, y_train, cv=10, scoring='recall')"
   ]
  },
  {
   "cell_type": "code",
   "execution_count": 92,
   "metadata": {},
   "outputs": [
    {
     "name": "stdout",
     "output_type": "stream",
     "text": [
      "[0.98589065 0.97883598 0.97530864 0.97001764 0.97354497 0.96296296\n",
      " 0.97530864 0.9664903  0.96825397 0.96825397]\n",
      "0.9724867724867725\n"
     ]
    }
   ],
   "source": [
    "print(results_cv_gb_resampleado)\n",
    "print(results_cv_gb_resampleado.mean()) "
   ]
  },
  {
   "cell_type": "code",
   "execution_count": 93,
   "metadata": {},
   "outputs": [],
   "source": [
    "# ENTRENAMOS EL MODELO Y PREDECIMOS PARA PODER CONSEGUIR EL CLASSIFICATION REPORT\n",
    "model_gbc_resampleado.fit(X_train, y_train)\n",
    "pred_gbc_res = model_gbc_resampleado.predict(X_test)"
   ]
  },
  {
   "cell_type": "code",
   "execution_count": 94,
   "metadata": {},
   "outputs": [
    {
     "name": "stdout",
     "output_type": "stream",
     "text": [
      "              precision    recall  f1-score   support\n",
      "\n",
      "         0.0       0.98      0.95      0.96      1420\n",
      "         1.0       0.95      0.98      0.96      1414\n",
      "\n",
      "    accuracy                           0.96      2834\n",
      "   macro avg       0.96      0.96      0.96      2834\n",
      "weighted avg       0.96      0.96      0.96      2834\n",
      "\n"
     ]
    }
   ],
   "source": [
    "#Y LA EVALUACION DE TODAS LAS METRICAS\n",
    "print(classification_report(y_test,pred_gbc_res)) # MEJORA EL RECALL AL CLASIFICAR LOS TRUE POSITIVES DE LA CLASE 1, \n",
    "#PERO SIGUE ESTANDO BASTANTE POR DEBAJO QUE LA CLASE 0"
   ]
  },
  {
   "cell_type": "code",
   "execution_count": 95,
   "metadata": {},
   "outputs": [
    {
     "data": {
      "text/plain": [
       "<Axes: >"
      ]
     },
     "execution_count": 95,
     "metadata": {},
     "output_type": "execute_result"
    },
    {
     "data": {
      "image/png": "[encoded data removed]",
      "text/plain": [
       "<Figure size 640x480 with 2 Axes>"
      ]
     },
     "metadata": {},
     "output_type": "display_data"
    }
   ],
   "source": [
    "sns.heatmap(confusion_matrix(y_test, pred_gbc_res, normalize='true'), annot=True)"
   ]
  },
  {
   "cell_type": "code",
   "execution_count": 96,
   "metadata": {},
   "outputs": [
    {
     "data": {
      "text/plain": [
       "array([0.41280937, 0.0059829 , 0.02621607, 0.00097931, 0.13445383,\n",
       "       0.03518159, 0.00247932, 0.00904248, 0.00056762, 0.01399541,\n",
       "       0.04155535, 0.00279098, 0.02043907, 0.05939038, 0.00370784,\n",
       "       0.06679929, 0.00616733, 0.00562846, 0.08963401, 0.0621794 ])"
      ]
     },
     "execution_count": 96,
     "metadata": {},
     "output_type": "execute_result"
    }
   ],
   "source": [
    "model_gbc_resampleado.feature_importances_ "
   ]
  },
  {
   "cell_type": "code",
   "execution_count": 97,
   "metadata": {},
   "outputs": [
    {
     "data": {
      "image/png": "[encoded data removed]",
      "text/plain": [
       "<Figure size 1000x600 with 1 Axes>"
      ]
     },
     "metadata": {},
     "output_type": "display_data"
    }
   ],
   "source": [
    "# y representamos la importancia en un grafico\n",
    "X_importancia = calidad1.drop(['is_safe'],axis=1)\n",
    "importancias = model_gbc_resampleado.feature_importances_\n",
    "nombres_caracteristicas = X_importancia.columns\n",
    "\n",
    "plt.figure(figsize=(10, 6))\n",
    "plt.barh(range(len(nombres_caracteristicas)), importancias, align='center')\n",
    "plt.yticks(range(len(nombres_caracteristicas)), nombres_caracteristicas)\n",
    "plt.xlabel('Importancia')\n",
    "plt.ylabel('Característica')\n",
    "plt.title('Importancia de las Características')\n",
    "plt.show()\n",
    "# DE NUEVO, EN GRADIENT BOOSTING SE LE APLICA MAYOR IMPORTANCIA A ALUMINIO CADMIO Y PLATA, CASI COMO EN EL MODELO DECISSION TREE\n",
    "# teniendo elementos como el fluoruro y el bario importancia practicamente nula."
   ]
  },
  {
   "cell_type": "code",
   "execution_count": 98,
   "metadata": {},
   "outputs": [],
   "source": [
    "# Y POR ULTIMO, XGBOOST\n",
    "model_XGB_resampleado = XGBRFClassifier(n_estimators=100, random_state=42, use_label_encoder=False)\n",
    "results_cv_xgb_resampleado = cross_val_score(model_XGB_resampleado, X_train, y_train, cv=10, scoring='recall')"
   ]
  },
  {
   "cell_type": "code",
   "execution_count": 99,
   "metadata": {},
   "outputs": [
    {
     "name": "stdout",
     "output_type": "stream",
     "text": [
      "[0.97354497 0.96825397 0.97530864 0.97001764 0.97883598 0.96472663\n",
      " 0.98059965 0.97883598 0.97530864 0.98059965]\n",
      "0.9746031746031745\n"
     ]
    }
   ],
   "source": [
    "print(results_cv_xgb_resampleado)\n",
    "print(results_cv_xgb_resampleado.mean()) "
   ]
  },
  {
   "cell_type": "code",
   "execution_count": 100,
   "metadata": {},
   "outputs": [],
   "source": [
    "# ENTRENAMOS EL MODELO Y PREDECIMOS PARA PODER CONSEGUIR EL CLASSIFICATION REPORT\n",
    "model_XGB_resampleado.fit(X_train, y_train)\n",
    "pred_xgb_resampleado = model_XGB_resampleado.predict(X_test)"
   ]
  },
  {
   "cell_type": "code",
   "execution_count": 101,
   "metadata": {},
   "outputs": [
    {
     "name": "stdout",
     "output_type": "stream",
     "text": [
      "              precision    recall  f1-score   support\n",
      "\n",
      "         0.0       0.98      0.93      0.95      1420\n",
      "         1.0       0.94      0.98      0.96      1414\n",
      "\n",
      "    accuracy                           0.96      2834\n",
      "   macro avg       0.96      0.96      0.96      2834\n",
      "weighted avg       0.96      0.96      0.96      2834\n",
      "\n"
     ]
    }
   ],
   "source": [
    "#Y LA EVALUACION DE TODAS LAS METRICAS\n",
    "print(classification_report(y_test,pred_xgb_resampleado))"
   ]
  },
  {
   "cell_type": "code",
   "execution_count": 102,
   "metadata": {},
   "outputs": [
    {
     "data": {
      "text/plain": [
       "<Axes: >"
      ]
     },
     "execution_count": 102,
     "metadata": {},
     "output_type": "execute_result"
    },
    {
     "data": {
      "image/png": "[encoded data removed]",
      "text/plain": [
       "<Figure size 640x480 with 2 Axes>"
      ]
     },
     "metadata": {},
     "output_type": "display_data"
    }
   ],
   "source": [
    "sns.heatmap(confusion_matrix(y_test, pred_xgb_resampleado, normalize='true'), annot=True)"
   ]
  },
  {
   "cell_type": "code",
   "execution_count": 103,
   "metadata": {},
   "outputs": [
    {
     "data": {
      "text/plain": [
       "array([0.29177377, 0.0214411 , 0.01887589, 0.00486695, 0.14226751,\n",
       "       0.03568818, 0.00638223, 0.01086782, 0.00218913, 0.03405648,\n",
       "       0.0630413 , 0.03337853, 0.05325757, 0.06368476, 0.01099721,\n",
       "       0.0426549 , 0.02173097, 0.01157125, 0.07465299, 0.05662145],\n",
       "      dtype=float32)"
      ]
     },
     "execution_count": 103,
     "metadata": {},
     "output_type": "execute_result"
    }
   ],
   "source": [
    "model_XGB_resampleado.feature_importances_ "
   ]
  },
  {
   "cell_type": "code",
   "execution_count": 104,
   "metadata": {},
   "outputs": [
    {
     "data": {
      "image/png": "[encoded data removed]",
      "text/plain": [
       "<Figure size 1000x600 with 1 Axes>"
      ]
     },
     "metadata": {},
     "output_type": "display_data"
    }
   ],
   "source": [
    "# y representamos la importancia en un grafico\n",
    "X_importancia = calidad1.drop(['is_safe'],axis=1)\n",
    "importancias = model_XGB_resampleado.feature_importances_\n",
    "nombres_caracteristicas = X_importancia.columns\n",
    "\n",
    "plt.figure(figsize=(10, 6))\n",
    "plt.barh(range(len(nombres_caracteristicas)), importancias, align='center')\n",
    "plt.yticks(range(len(nombres_caracteristicas)), nombres_caracteristicas)\n",
    "plt.xlabel('Importancia')\n",
    "plt.ylabel('Característica')\n",
    "plt.title('Importancia de las Características')\n",
    "plt.show()\n",
    "# NADA SORPRENDENTE, EN LOS PRIMEROS PUESTOS SE MANTIENEN LAS 3 MAS ALTAS DE LOS MODELOS DE ARBOLES COMO RANDOM FOREST Y DECISSION TREE,\n",
    "# ALUMINIO,PLATA Y CADMIO, PERO COMO EN RF SE LE DA IMPORTANCIA A TODAS LAS VARIABLES, NO COMO EN DECISSION TREE O ADABOOST."
   ]
  },
  {
   "cell_type": "code",
   "execution_count": 105,
   "metadata": {},
   "outputs": [],
   "source": [
    "# PARA VERLOS TODOS EN UNA TABLA (el recall, por ejemplo) de los 4 modelos usados\n",
    "serie = [results.mean(), val_SVC.mean(),val_arbol.mean(),results_cv_rf_res.mean(),results_cv_ab_resampleado.mean(),results_cv_gb_resampleado.mean(),results_cv_xgb_resampleado.mean()]\n",
    "tabla_recall_resampleado= pd.DataFrame(serie, columns = ['recall'], index = [\"Regresion logistica\",\"SVC\",\"DecissionTree Classifier\",\"Random Forest\", \"Ada Boosting\", \"Gradient Boosting\", \"XGBoost\"])"
   ]
  },
  {
   "cell_type": "code",
   "execution_count": 106,
   "metadata": {},
   "outputs": [
    {
     "name": "stdout",
     "output_type": "stream",
     "text": [
      "Stored 'tabla_recall_resampleado' (DataFrame)\n"
     ]
    }
   ],
   "source": [
    "# PARA USARLO EN EL NOTEBOOK DE MEMORIA\n",
    "%store tabla_recall_resampleado"
   ]
  },
  {
   "cell_type": "code",
   "execution_count": 107,
   "metadata": {},
   "outputs": [
    {
     "data": {
      "text/html": [
       "<div>\n",
       "<style scoped>\n",
       "    .dataframe tbody tr th:only-of-type {\n",
       "        vertical-align: middle;\n",
       "    }\n",
       "\n",
       "    .dataframe tbody tr th {\n",
       "        vertical-align: top;\n",
       "    }\n",
       "\n",
       "    .dataframe thead th {\n",
       "        text-align: right;\n",
       "    }\n",
       "</style>\n",
       "<table border=\"1\" class=\"dataframe\">\n",
       "  <thead>\n",
       "    <tr style=\"text-align: right;\">\n",
       "      <th></th>\n",
       "      <th>recall</th>\n",
       "    </tr>\n",
       "  </thead>\n",
       "  <tbody>\n",
       "    <tr>\n",
       "      <th>Random Forest</th>\n",
       "      <td>0.982716</td>\n",
       "    </tr>\n",
       "    <tr>\n",
       "      <th>XGBoost</th>\n",
       "      <td>0.974603</td>\n",
       "    </tr>\n",
       "    <tr>\n",
       "      <th>Gradient Boosting</th>\n",
       "      <td>0.972487</td>\n",
       "    </tr>\n",
       "    <tr>\n",
       "      <th>DecissionTree Classifier</th>\n",
       "      <td>0.893991</td>\n",
       "    </tr>\n",
       "    <tr>\n",
       "      <th>Ada Boosting</th>\n",
       "      <td>0.883245</td>\n",
       "    </tr>\n",
       "    <tr>\n",
       "      <th>Regresion logistica</th>\n",
       "      <td>0.781627</td>\n",
       "    </tr>\n",
       "    <tr>\n",
       "      <th>SVC</th>\n",
       "      <td>0.779512</td>\n",
       "    </tr>\n",
       "  </tbody>\n",
       "</table>\n",
       "</div>"
      ],
      "text/plain": [
       "                            recall\n",
       "Random Forest             0.982716\n",
       "XGBoost                   0.974603\n",
       "Gradient Boosting         0.972487\n",
       "DecissionTree Classifier  0.893991\n",
       "Ada Boosting              0.883245\n",
       "Regresion logistica       0.781627\n",
       "SVC                       0.779512"
      ]
     },
     "execution_count": 107,
     "metadata": {},
     "output_type": "execute_result"
    }
   ],
   "source": [
    "# y ordenamos\n",
    "tabla_recall_resampleado.sort_values(by=['recall'], ascending=False)\n",
    "# EL RECALL HA AUMENTADO HASTA CASI LOGRAR LA PERFECCION, SOBRE TODO EN EL CASO DE RANDOM FOREST, INCLUSO SIN HIPERPAAMETRIZAR!!\n",
    "# SVC Y REGRESION LOGISTICA ES EL QUE FUNCIONA PEOR EN ESTE CASO, DE MODO QUE PODEMOS INTENTAR HIPERPARAMETRIZAR SOLO RANDOM FOREST Y XGBOOST,\n",
    "# LOS DOS MEJORES A NIVEL DE DATOS PARA VER SI LOGRAMOS INCLUSO MEJORAR SU YA ALTISIMA PRECISION.\n"
   ]
  },
  {
   "cell_type": "code",
   "execution_count": 108,
   "metadata": {},
   "outputs": [
    {
     "data": {
      "text/html": [
       "<style>#sk-container-id-1 {color: black;}#sk-container-id-1 pre{padding: 0;}#sk-container-id-1 div.sk-toggleable {background-color: white;}#sk-container-id-1 label.sk-toggleable__label {cursor: pointer;display: block;width: 100%;margin-bottom: 0;padding: 0.3em;box-sizing: border-box;text-align: center;}#sk-container-id-1 label.sk-toggleable__label-arrow:before {content: \"▸\";float: left;margin-right: 0.25em;color: #696969;}#sk-container-id-1 label.sk-toggleable__label-arrow:hover:before {color: black;}#sk-container-id-1 div.sk-estimator:hover label.sk-toggleable__label-arrow:before {color: black;}#sk-container-id-1 div.sk-toggleable__content {max-height: 0;max-width: 0;overflow: hidden;text-align: left;background-color: #f0f8ff;}#sk-container-id-1 div.sk-toggleable__content pre {margin: 0.2em;color: black;border-radius: 0.25em;background-color: #f0f8ff;}#sk-container-id-1 input.sk-toggleable__control:checked~div.sk-toggleable__content {max-height: 200px;max-width: 100%;overflow: auto;}#sk-container-id-1 input.sk-toggleable__control:checked~label.sk-toggleable__label-arrow:before {content: \"▾\";}#sk-container-id-1 div.sk-estimator input.sk-toggleable__control:checked~label.sk-toggleable__label {background-color: #d4ebff;}#sk-container-id-1 div.sk-label input.sk-toggleable__control:checked~label.sk-toggleable__label {background-color: #d4ebff;}#sk-container-id-1 input.sk-hidden--visually {border: 0;clip: rect(1px 1px 1px 1px);clip: rect(1px, 1px, 1px, 1px);height: 1px;margin: -1px;overflow: hidden;padding: 0;position: absolute;width: 1px;}#sk-container-id-1 div.sk-estimator {font-family: monospace;background-color: #f0f8ff;border: 1px dotted black;border-radius: 0.25em;box-sizing: border-box;margin-bottom: 0.5em;}#sk-container-id-1 div.sk-estimator:hover {background-color: #d4ebff;}#sk-container-id-1 div.sk-parallel-item::after {content: \"\";width: 100%;border-bottom: 1px solid gray;flex-grow: 1;}#sk-container-id-1 div.sk-label:hover label.sk-toggleable__label {background-color: #d4ebff;}#sk-container-id-1 div.sk-serial::before {content: \"\";position: absolute;border-left: 1px solid gray;box-sizing: border-box;top: 0;bottom: 0;left: 50%;z-index: 0;}#sk-container-id-1 div.sk-serial {display: flex;flex-direction: column;align-items: center;background-color: white;padding-right: 0.2em;padding-left: 0.2em;position: relative;}#sk-container-id-1 div.sk-item {position: relative;z-index: 1;}#sk-container-id-1 div.sk-parallel {display: flex;align-items: stretch;justify-content: center;background-color: white;position: relative;}#sk-container-id-1 div.sk-item::before, #sk-container-id-1 div.sk-parallel-item::before {content: \"\";position: absolute;border-left: 1px solid gray;box-sizing: border-box;top: 0;bottom: 0;left: 50%;z-index: -1;}#sk-container-id-1 div.sk-parallel-item {display: flex;flex-direction: column;z-index: 1;position: relative;background-color: white;}#sk-container-id-1 div.sk-parallel-item:first-child::after {align-self: flex-end;width: 50%;}#sk-container-id-1 div.sk-parallel-item:last-child::after {align-self: flex-start;width: 50%;}#sk-container-id-1 div.sk-parallel-item:only-child::after {width: 0;}#sk-container-id-1 div.sk-dashed-wrapped {border: 1px dashed gray;margin: 0 0.4em 0.5em 0.4em;box-sizing: border-box;padding-bottom: 0.4em;background-color: white;}#sk-container-id-1 div.sk-label label {font-family: monospace;font-weight: bold;display: inline-block;line-height: 1.2em;}#sk-container-id-1 div.sk-label-container {text-align: center;}#sk-container-id-1 div.sk-container {/* jupyter's `normalize.less` sets `[hidden] { display: none; }` but bootstrap.min.css set `[hidden] { display: none !important; }` so we also need the `!important` here to be able to override the default hidden behavior on the sphinx rendered scikit-learn.org. See: https://github.com/scikit-learn/scikit-learn/issues/21755 */display: inline-block !important;position: relative;}#sk-container-id-1 div.sk-text-repr-fallback {display: none;}</style><div id=\"sk-container-id-1\" class=\"sk-top-container\"><div class=\"sk-text-repr-fallback\"><pre>GridSearchCV(cv=3, estimator=RandomForestClassifier(random_state=42),\n",
       "             param_grid={&#x27;max_depth&#x27;: [2, 3, 4, 5],\n",
       "                         &#x27;max_features&#x27;: [2, 3, 4, 5],\n",
       "                         &#x27;n_estimators&#x27;: [50, 100]},\n",
       "             scoring=&#x27;recall&#x27;)</pre><b>In a Jupyter environment, please rerun this cell to show the HTML representation or trust the notebook. <br />On GitHub, the HTML representation is unable to render, please try loading this page with nbviewer.org.</b></div><div class=\"sk-container\" hidden><div class=\"sk-item sk-dashed-wrapped\"><div class=\"sk-label-container\"><div class=\"sk-label sk-toggleable\"><input class=\"sk-toggleable__control sk-hidden--visually\" id=\"sk-estimator-id-1\" type=\"checkbox\" ><label for=\"sk-estimator-id-1\" class=\"sk-toggleable__label sk-toggleable__label-arrow\">GridSearchCV</label><div class=\"sk-toggleable__content\"><pre>GridSearchCV(cv=3, estimator=RandomForestClassifier(random_state=42),\n",
       "             param_grid={&#x27;max_depth&#x27;: [2, 3, 4, 5],\n",
       "                         &#x27;max_features&#x27;: [2, 3, 4, 5],\n",
       "                         &#x27;n_estimators&#x27;: [50, 100]},\n",
       "             scoring=&#x27;recall&#x27;)</pre></div></div></div><div class=\"sk-parallel\"><div class=\"sk-parallel-item\"><div class=\"sk-item\"><div class=\"sk-label-container\"><div class=\"sk-label sk-toggleable\"><input class=\"sk-toggleable__control sk-hidden--visually\" id=\"sk-estimator-id-2\" type=\"checkbox\" ><label for=\"sk-estimator-id-2\" class=\"sk-toggleable__label sk-toggleable__label-arrow\">estimator: RandomForestClassifier</label><div class=\"sk-toggleable__content\"><pre>RandomForestClassifier(random_state=42)</pre></div></div></div><div class=\"sk-serial\"><div class=\"sk-item\"><div class=\"sk-estimator sk-toggleable\"><input class=\"sk-toggleable__control sk-hidden--visually\" id=\"sk-estimator-id-3\" type=\"checkbox\" ><label for=\"sk-estimator-id-3\" class=\"sk-toggleable__label sk-toggleable__label-arrow\">RandomForestClassifier</label><div class=\"sk-toggleable__content\"><pre>RandomForestClassifier(random_state=42)</pre></div></div></div></div></div></div></div></div></div></div>"
      ],
      "text/plain": [
       "GridSearchCV(cv=3, estimator=RandomForestClassifier(random_state=42),\n",
       "             param_grid={'max_depth': [2, 3, 4, 5],\n",
       "                         'max_features': [2, 3, 4, 5],\n",
       "                         'n_estimators': [50, 100]},\n",
       "             scoring='recall')"
      ]
     },
     "execution_count": 108,
     "metadata": {},
     "output_type": "execute_result"
    }
   ],
   "source": [
    "# Lo que nos queda, HIPERPARAMETRIZAR (ENCONTRAR PARAMETROS OPTIMOS PARA LOS MEJORES MODELOS,\n",
    "# EN ESTE CASO, RANDOM FOREST Y XGBOOST), elegir con un gridsearch y especificar los pasos QUE HEMOS SEGUIDO\n",
    "# EMPEZAMOS CON RANDOM FOREST\n",
    "from sklearn.model_selection import GridSearchCV\n",
    "parameters = {'n_estimators' : [50,100,],\n",
    "              'max_features': [2,3,4,5],\n",
    "              'max_depth': [2,3,4,5]\n",
    "            }\n",
    "\n",
    "modelo_RF = RandomForestClassifier(random_state=42)\n",
    "\n",
    "rf_gs = GridSearchCV(modelo_RF, parameters, cv=3, scoring='recall')\n",
    "\n",
    "rf_gs.fit(X_train, y_train)\n"
   ]
  },
  {
   "cell_type": "code",
   "execution_count": 109,
   "metadata": {},
   "outputs": [
    {
     "name": "stdout",
     "output_type": "stream",
     "text": [
      "RandomForestClassifier(max_depth=5, max_features=5, n_estimators=50,\n",
      "                       random_state=42)\n",
      "0.9506172839506172\n",
      "{'max_depth': 5, 'max_features': 5, 'n_estimators': 50}\n"
     ]
    }
   ],
   "source": [
    "print(rf_gs.best_estimator_)\n",
    "print(rf_gs.best_score_)\n",
    "print(rf_gs.best_params_) # el best score, para evitar el overfitting y con una buena robustez,0,95 aunque en el cross value\n",
    "# tenia 0,98, mayor aun sin parametrizar. Puede ser que hallamos usado demasiados parametros, o que no fueran los adecuados\n",
    "# o que la validacion cruzada 3 sea insuficiente'''"
   ]
  },
  {
   "cell_type": "code",
   "execution_count": 110,
   "metadata": {},
   "outputs": [
    {
     "name": "stdout",
     "output_type": "stream",
     "text": [
      "Accuracy 0.9431898376852506\n",
      "Precision 0.9207521826729349\n",
      "Recall 0.9695898161244696\n",
      "ROC 0.9432456122875869\n"
     ]
    }
   ],
   "source": [
    "# y un resumen de sus metricas\n",
    "from sklearn.metrics import accuracy_score, precision_score, recall_score, roc_auc_score, confusion_matrix\n",
    "y_pred_rf= rf_gs.best_estimator_.predict(X_test)\n",
    "\n",
    "print('Accuracy', accuracy_score(y_test, y_pred_rf))\n",
    "print('Precision', precision_score(y_test, y_pred_rf))\n",
    "print('Recall', recall_score(y_test, y_pred_rf))\n",
    "print('ROC', roc_auc_score(y_test, y_pred_rf))\n"
   ]
  },
  {
   "cell_type": "code",
   "execution_count": 111,
   "metadata": {},
   "outputs": [
    {
     "data": {
      "text/plain": [
       "<Axes: >"
      ]
     },
     "execution_count": 111,
     "metadata": {},
     "output_type": "execute_result"
    },
    {
     "data": {
      "image/png": "[encoded data removed]",
      "text/plain": [
       "<Figure size 640x480 with 2 Axes>"
      ]
     },
     "metadata": {},
     "output_type": "display_data"
    }
   ],
   "source": [
    "sns.heatmap(confusion_matrix(y_test, y_pred_rf, normalize='true'), annot=True)"
   ]
  },
  {
   "cell_type": "code",
   "execution_count": 112,
   "metadata": {},
   "outputs": [],
   "source": [
    "# Hemos visto que tras usar grid search empeoran incluso las metricas, puede ser porque he elegido demasiados \n",
    "# parametros, por las muestras..."
   ]
  },
  {
   "cell_type": "code",
   "execution_count": 113,
   "metadata": {},
   "outputs": [
    {
     "data": {
      "text/html": [
       "<style>#sk-container-id-2 {color: black;}#sk-container-id-2 pre{padding: 0;}#sk-container-id-2 div.sk-toggleable {background-color: white;}#sk-container-id-2 label.sk-toggleable__label {cursor: pointer;display: block;width: 100%;margin-bottom: 0;padding: 0.3em;box-sizing: border-box;text-align: center;}#sk-container-id-2 label.sk-toggleable__label-arrow:before {content: \"▸\";float: left;margin-right: 0.25em;color: #696969;}#sk-container-id-2 label.sk-toggleable__label-arrow:hover:before {color: black;}#sk-container-id-2 div.sk-estimator:hover label.sk-toggleable__label-arrow:before {color: black;}#sk-container-id-2 div.sk-toggleable__content {max-height: 0;max-width: 0;overflow: hidden;text-align: left;background-color: #f0f8ff;}#sk-container-id-2 div.sk-toggleable__content pre {margin: 0.2em;color: black;border-radius: 0.25em;background-color: #f0f8ff;}#sk-container-id-2 input.sk-toggleable__control:checked~div.sk-toggleable__content {max-height: 200px;max-width: 100%;overflow: auto;}#sk-container-id-2 input.sk-toggleable__control:checked~label.sk-toggleable__label-arrow:before {content: \"▾\";}#sk-container-id-2 div.sk-estimator input.sk-toggleable__control:checked~label.sk-toggleable__label {background-color: #d4ebff;}#sk-container-id-2 div.sk-label input.sk-toggleable__control:checked~label.sk-toggleable__label {background-color: #d4ebff;}#sk-container-id-2 input.sk-hidden--visually {border: 0;clip: rect(1px 1px 1px 1px);clip: rect(1px, 1px, 1px, 1px);height: 1px;margin: -1px;overflow: hidden;padding: 0;position: absolute;width: 1px;}#sk-container-id-2 div.sk-estimator {font-family: monospace;background-color: #f0f8ff;border: 1px dotted black;border-radius: 0.25em;box-sizing: border-box;margin-bottom: 0.5em;}#sk-container-id-2 div.sk-estimator:hover {background-color: #d4ebff;}#sk-container-id-2 div.sk-parallel-item::after {content: \"\";width: 100%;border-bottom: 1px solid gray;flex-grow: 1;}#sk-container-id-2 div.sk-label:hover label.sk-toggleable__label {background-color: #d4ebff;}#sk-container-id-2 div.sk-serial::before {content: \"\";position: absolute;border-left: 1px solid gray;box-sizing: border-box;top: 0;bottom: 0;left: 50%;z-index: 0;}#sk-container-id-2 div.sk-serial {display: flex;flex-direction: column;align-items: center;background-color: white;padding-right: 0.2em;padding-left: 0.2em;position: relative;}#sk-container-id-2 div.sk-item {position: relative;z-index: 1;}#sk-container-id-2 div.sk-parallel {display: flex;align-items: stretch;justify-content: center;background-color: white;position: relative;}#sk-container-id-2 div.sk-item::before, #sk-container-id-2 div.sk-parallel-item::before {content: \"\";position: absolute;border-left: 1px solid gray;box-sizing: border-box;top: 0;bottom: 0;left: 50%;z-index: -1;}#sk-container-id-2 div.sk-parallel-item {display: flex;flex-direction: column;z-index: 1;position: relative;background-color: white;}#sk-container-id-2 div.sk-parallel-item:first-child::after {align-self: flex-end;width: 50%;}#sk-container-id-2 div.sk-parallel-item:last-child::after {align-self: flex-start;width: 50%;}#sk-container-id-2 div.sk-parallel-item:only-child::after {width: 0;}#sk-container-id-2 div.sk-dashed-wrapped {border: 1px dashed gray;margin: 0 0.4em 0.5em 0.4em;box-sizing: border-box;padding-bottom: 0.4em;background-color: white;}#sk-container-id-2 div.sk-label label {font-family: monospace;font-weight: bold;display: inline-block;line-height: 1.2em;}#sk-container-id-2 div.sk-label-container {text-align: center;}#sk-container-id-2 div.sk-container {/* jupyter's `normalize.less` sets `[hidden] { display: none; }` but bootstrap.min.css set `[hidden] { display: none !important; }` so we also need the `!important` here to be able to override the default hidden behavior on the sphinx rendered scikit-learn.org. See: https://github.com/scikit-learn/scikit-learn/issues/21755 */display: inline-block !important;position: relative;}#sk-container-id-2 div.sk-text-repr-fallback {display: none;}</style><div id=\"sk-container-id-2\" class=\"sk-top-container\"><div class=\"sk-text-repr-fallback\"><pre>GridSearchCV(cv=3,\n",
       "             estimator=XGBRFClassifier(base_score=None, booster=None,\n",
       "                                       callbacks=None, colsample_bylevel=None,\n",
       "                                       colsample_bytree=None, device=None,\n",
       "                                       early_stopping_rounds=None,\n",
       "                                       enable_categorical=False,\n",
       "                                       eval_metric=None, feature_types=None,\n",
       "                                       gamma=None, grow_policy=None,\n",
       "                                       importance_type=None,\n",
       "                                       interaction_constraints=None,\n",
       "                                       max_bin=None, max_cat_threshold=None,\n",
       "                                       max...\n",
       "                                       max_delta_step=None, max_depth=None,\n",
       "                                       max_leaves=None, min_child_weight=None,\n",
       "                                       missing=nan, monotone_constraints=None,\n",
       "                                       multi_strategy=None, n_estimators=None,\n",
       "                                       n_jobs=None, num_parallel_tree=None,\n",
       "                                       objective=&#x27;binary:logistic&#x27;,\n",
       "                                       random_state=42, reg_alpha=None, ...),\n",
       "             param_grid={&#x27;learning_rate&#x27;: [0.1, 0.5, 0.7],\n",
       "                         &#x27;max_depth&#x27;: [3, 4, 5], &#x27;n_estimators&#x27;: [25, 50, 75]},\n",
       "             scoring=&#x27;recall&#x27;)</pre><b>In a Jupyter environment, please rerun this cell to show the HTML representation or trust the notebook. <br />On GitHub, the HTML representation is unable to render, please try loading this page with nbviewer.org.</b></div><div class=\"sk-container\" hidden><div class=\"sk-item sk-dashed-wrapped\"><div class=\"sk-label-container\"><div class=\"sk-label sk-toggleable\"><input class=\"sk-toggleable__control sk-hidden--visually\" id=\"sk-estimator-id-4\" type=\"checkbox\" ><label for=\"sk-estimator-id-4\" class=\"sk-toggleable__label sk-toggleable__label-arrow\">GridSearchCV</label><div class=\"sk-toggleable__content\"><pre>GridSearchCV(cv=3,\n",
       "             estimator=XGBRFClassifier(base_score=None, booster=None,\n",
       "                                       callbacks=None, colsample_bylevel=None,\n",
       "                                       colsample_bytree=None, device=None,\n",
       "                                       early_stopping_rounds=None,\n",
       "                                       enable_categorical=False,\n",
       "                                       eval_metric=None, feature_types=None,\n",
       "                                       gamma=None, grow_policy=None,\n",
       "                                       importance_type=None,\n",
       "                                       interaction_constraints=None,\n",
       "                                       max_bin=None, max_cat_threshold=None,\n",
       "                                       max...\n",
       "                                       max_delta_step=None, max_depth=None,\n",
       "                                       max_leaves=None, min_child_weight=None,\n",
       "                                       missing=nan, monotone_constraints=None,\n",
       "                                       multi_strategy=None, n_estimators=None,\n",
       "                                       n_jobs=None, num_parallel_tree=None,\n",
       "                                       objective=&#x27;binary:logistic&#x27;,\n",
       "                                       random_state=42, reg_alpha=None, ...),\n",
       "             param_grid={&#x27;learning_rate&#x27;: [0.1, 0.5, 0.7],\n",
       "                         &#x27;max_depth&#x27;: [3, 4, 5], &#x27;n_estimators&#x27;: [25, 50, 75]},\n",
       "             scoring=&#x27;recall&#x27;)</pre></div></div></div><div class=\"sk-parallel\"><div class=\"sk-parallel-item\"><div class=\"sk-item\"><div class=\"sk-label-container\"><div class=\"sk-label sk-toggleable\"><input class=\"sk-toggleable__control sk-hidden--visually\" id=\"sk-estimator-id-5\" type=\"checkbox\" ><label for=\"sk-estimator-id-5\" class=\"sk-toggleable__label sk-toggleable__label-arrow\">estimator: XGBRFClassifier</label><div class=\"sk-toggleable__content\"><pre>XGBRFClassifier(base_score=None, booster=None, callbacks=None,\n",
       "                colsample_bylevel=None, colsample_bytree=None, device=None,\n",
       "                early_stopping_rounds=None, enable_categorical=False,\n",
       "                eval_metric=None, feature_types=None, gamma=None,\n",
       "                grow_policy=None, importance_type=None,\n",
       "                interaction_constraints=None, max_bin=None,\n",
       "                max_cat_threshold=None, max_cat_to_onehot=None,\n",
       "                max_delta_step=None, max_depth=None, max_leaves=None,\n",
       "                min_child_weight=None, missing=nan, monotone_constraints=None,\n",
       "                multi_strategy=None, n_estimators=None, n_jobs=None,\n",
       "                num_parallel_tree=None, objective=&#x27;binary:logistic&#x27;,\n",
       "                random_state=42, reg_alpha=None, ...)</pre></div></div></div><div class=\"sk-serial\"><div class=\"sk-item\"><div class=\"sk-estimator sk-toggleable\"><input class=\"sk-toggleable__control sk-hidden--visually\" id=\"sk-estimator-id-6\" type=\"checkbox\" ><label for=\"sk-estimator-id-6\" class=\"sk-toggleable__label sk-toggleable__label-arrow\">XGBRFClassifier</label><div class=\"sk-toggleable__content\"><pre>XGBRFClassifier(base_score=None, booster=None, callbacks=None,\n",
       "                colsample_bylevel=None, colsample_bytree=None, device=None,\n",
       "                early_stopping_rounds=None, enable_categorical=False,\n",
       "                eval_metric=None, feature_types=None, gamma=None,\n",
       "                grow_policy=None, importance_type=None,\n",
       "                interaction_constraints=None, max_bin=None,\n",
       "                max_cat_threshold=None, max_cat_to_onehot=None,\n",
       "                max_delta_step=None, max_depth=None, max_leaves=None,\n",
       "                min_child_weight=None, missing=nan, monotone_constraints=None,\n",
       "                multi_strategy=None, n_estimators=None, n_jobs=None,\n",
       "                num_parallel_tree=None, objective=&#x27;binary:logistic&#x27;,\n",
       "                random_state=42, reg_alpha=None, ...)</pre></div></div></div></div></div></div></div></div></div></div>"
      ],
      "text/plain": [
       "GridSearchCV(cv=3,\n",
       "             estimator=XGBRFClassifier(base_score=None, booster=None,\n",
       "                                       callbacks=None, colsample_bylevel=None,\n",
       "                                       colsample_bytree=None, device=None,\n",
       "                                       early_stopping_rounds=None,\n",
       "                                       enable_categorical=False,\n",
       "                                       eval_metric=None, feature_types=None,\n",
       "                                       gamma=None, grow_policy=None,\n",
       "                                       importance_type=None,\n",
       "                                       interaction_constraints=None,\n",
       "                                       max_bin=None, max_cat_threshold=None,\n",
       "                                       max...\n",
       "                                       max_delta_step=None, max_depth=None,\n",
       "                                       max_leaves=None, min_child_weight=None,\n",
       "                                       missing=nan, monotone_constraints=None,\n",
       "                                       multi_strategy=None, n_estimators=None,\n",
       "                                       n_jobs=None, num_parallel_tree=None,\n",
       "                                       objective='binary:logistic',\n",
       "                                       random_state=42, reg_alpha=None, ...),\n",
       "             param_grid={'learning_rate': [0.1, 0.5, 0.7],\n",
       "                         'max_depth': [3, 4, 5], 'n_estimators': [25, 50, 75]},\n",
       "             scoring='recall')"
      ]
     },
     "execution_count": 113,
     "metadata": {},
     "output_type": "execute_result"
    }
   ],
   "source": [
    "# y ahora con XGBOOST\n",
    "from sklearn.model_selection import GridSearchCV\n",
    "parameters = {'n_estimators' : [25, 50,75],\n",
    "              'max_depth': [3,4,5],\n",
    "              'learning_rate': [0.1,0.5,0.7]\n",
    "            }\n",
    "\n",
    "\n",
    "modelo_xgboost = XGBRFClassifier(random_state=42)\n",
    "\n",
    "xgb_gs = GridSearchCV(modelo_xgboost, parameters, cv=3, scoring='recall')\n",
    "\n",
    "xgb_gs.fit(X_train, y_train)"
   ]
  },
  {
   "cell_type": "code",
   "execution_count": 114,
   "metadata": {},
   "outputs": [
    {
     "name": "stdout",
     "output_type": "stream",
     "text": [
      "XGBRFClassifier(base_score=None, booster=None, callbacks=None,\n",
      "                colsample_bylevel=None, colsample_bytree=None, device=None,\n",
      "                early_stopping_rounds=None, enable_categorical=False,\n",
      "                eval_metric=None, feature_types=None, gamma=None,\n",
      "                grow_policy=None, importance_type=None,\n",
      "                interaction_constraints=None, learning_rate=0.1, max_bin=None,\n",
      "                max_cat_threshold=None, max_cat_to_onehot=None,\n",
      "                max_delta_step=None, max_depth=5, max_leaves=None,\n",
      "                min_child_weight=None, missing=nan, monotone_constraints=None,\n",
      "                multi_strategy=None, n_estimators=75, n_jobs=None,\n",
      "                num_parallel_tree=None, objective='binary:logistic',\n",
      "                random_state=42, ...)\n",
      "0.9666666666666668\n",
      "{'learning_rate': 0.1, 'max_depth': 5, 'n_estimators': 75}\n"
     ]
    }
   ],
   "source": [
    "print(xgb_gs.best_estimator_)\n",
    "print(xgb_gs.best_score_)\n",
    "print(xgb_gs.best_params_)"
   ]
  },
  {
   "cell_type": "code",
   "execution_count": 115,
   "metadata": {},
   "outputs": [
    {
     "name": "stdout",
     "output_type": "stream",
     "text": [
      "Accuracy 0.9386026817219478\n",
      "Precision 0.91005291005291\n",
      "Recall 0.9731258840169731\n",
      "ROC 0.9386756180648246\n"
     ]
    }
   ],
   "source": [
    "y_pred_xgb = xgb_gs.best_estimator_.predict(X_test)\n",
    "\n",
    "# y su resumen de metricas\n",
    "print('Accuracy', accuracy_score(y_test, y_pred_xgb))\n",
    "print('Precision', precision_score(y_test, y_pred_xgb))\n",
    "print('Recall', recall_score(y_test, y_pred_xgb))\n",
    "print('ROC', roc_auc_score(y_test, y_pred_xgb))"
   ]
  },
  {
   "cell_type": "code",
   "execution_count": 116,
   "metadata": {},
   "outputs": [],
   "source": [
    "# Tampoco han mejorado, incluso ha empeorado ligeramente."
   ]
  },
  {
   "cell_type": "code",
   "execution_count": 117,
   "metadata": {},
   "outputs": [
    {
     "data": {
      "text/plain": [
       "<Axes: >"
      ]
     },
     "execution_count": 117,
     "metadata": {},
     "output_type": "execute_result"
    },
    {
     "data": {
      "image/png": "[encoded data removed]",
      "text/plain": [
       "<Figure size 640x480 with 2 Axes>"
      ]
     },
     "metadata": {},
     "output_type": "display_data"
    }
   ],
   "source": [
    "sns.heatmap(confusion_matrix(y_test, y_pred_xgb, normalize='true'), annot=True)"
   ]
  },
  {
   "cell_type": "code",
   "execution_count": 118,
   "metadata": {},
   "outputs": [],
   "source": [
    "# para guardar los modelos\n",
    "import pickle\n",
    "\n",
    "with open('random_forest_model.pkl', 'wb') as file:\n",
    "    pickle.dump(model_rf_val_res, file)\n",
    "\n",
    "with open('xgboost_model.pkl', 'wb') as file:\n",
    "    pickle.dump(model_XGB_resampleado, file)\n"
   ]
  }
 ],
 "metadata": {
  "kernelspec": {
   "display_name": "Python 3",
   "language": "python",
   "name": "python3"
  },
  "language_info": {
   "codemirror_mode": {
    "name": "ipython",
    "version": 3
   },
   "file_extension": ".py",
   "mimetype": "text/x-python",
   "name": "python",
   "nbconvert_exporter": "python",
   "pygments_lexer": "ipython3",
   "version": "3.9.2rc1"
  }
 },
 "nbformat": 4,
 "nbformat_minor": 2
}
